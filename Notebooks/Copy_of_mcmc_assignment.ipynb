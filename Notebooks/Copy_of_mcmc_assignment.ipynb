{
  "nbformat": 4,
  "nbformat_minor": 0,
  "metadata": {
    "kernelspec": {
      "display_name": "Python 3",
      "language": "python",
      "name": "python3"
    },
    "language_info": {
      "codemirror_mode": {
        "name": "ipython",
        "version": 3
      },
      "file_extension": ".py",
      "mimetype": "text/x-python",
      "name": "python",
      "nbconvert_exporter": "python",
      "pygments_lexer": "ipython3",
      "version": "3.6.7"
    },
    "colab": {
      "name": "Copy of mcmc_assignment.ipynb",
      "provenance": [],
      "include_colab_link": true
    },
    "accelerator": "GPU"
  },
  "cells": [
    {
      "cell_type": "markdown",
      "metadata": {
        "id": "view-in-github",
        "colab_type": "text"
      },
      "source": [
        "<a href=\"https://colab.research.google.com/github/16D070061/Google-Colab-hub-/blob/main/Copy_of_mcmc_assignment.ipynb\" target=\"_parent\"><img src=\"https://colab.research.google.com/assets/colab-badge.svg\" alt=\"Open In Colab\"/></a>"
      ]
    },
    {
      "cell_type": "markdown",
      "metadata": {
        "id": "ZO8gI79sg_gZ"
      },
      "source": [
        "# First things first\n",
        "Click **File -> Save a copy in Drive** and click **Open in new tab** in the pop-up window to save your progress in Google Drive."
      ]
    },
    {
      "cell_type": "markdown",
      "metadata": {
        "id": "nvkeBFi_g_ga"
      },
      "source": [
        "# Using PyMC3"
      ]
    },
    {
      "cell_type": "markdown",
      "metadata": {
        "id": "pOMe429pg_gb"
      },
      "source": [
        "In this assignment, we will learn how to use a library for probabilistic programming and inference called <a href=\"http://docs.pymc.io/\">PyMC3</a>."
      ]
    },
    {
      "cell_type": "markdown",
      "metadata": {
        "id": "2ukWnmYpg_gc"
      },
      "source": [
        "### Setup\n",
        "Loading auxiliary files and importing the necessary libraries."
      ]
    },
    {
      "cell_type": "code",
      "metadata": {
        "id": "fgv1Z4cEg_ge",
        "colab": {
          "base_uri": "https://localhost:8080/",
          "height": 272
        },
        "outputId": "54418534-09a2-477f-dd93-84002bebb5fe"
      },
      "source": [
        "try:\n",
        "    import google.colab\n",
        "    IN_COLAB = True\n",
        "except:\n",
        "    IN_COLAB = False\n",
        "if IN_COLAB:\n",
        "    print(\"Downloading Colab files\")\n",
        "    ! shred -u setup_google_colab.py\n",
        "    ! wget https://raw.githubusercontent.com/hse-aml/bayesian-methods-for-ml/master/setup_google_colab.py -O setup_google_colab.py\n",
        "    import setup_google_colab\n",
        "    setup_google_colab.load_data_week4()"
      ],
      "execution_count": null,
      "outputs": [
        {
          "output_type": "stream",
          "text": [
            "Downloading Colab files\n",
            "shred: setup_google_colab.py: failed to open for writing: No such file or directory\n",
            "--2020-07-05 12:19:04--  https://raw.githubusercontent.com/hse-aml/bayesian-methods-for-ml/master/setup_google_colab.py\n",
            "Resolving raw.githubusercontent.com (raw.githubusercontent.com)... 151.101.0.133, 151.101.64.133, 151.101.128.133, ...\n",
            "Connecting to raw.githubusercontent.com (raw.githubusercontent.com)|151.101.0.133|:443... connected.\n",
            "HTTP request sent, awaiting response... 200 OK\n",
            "Length: 1232 (1.2K) [text/plain]\n",
            "Saving to: ‘setup_google_colab.py’\n",
            "\n",
            "setup_google_colab. 100%[===================>]   1.20K  --.-KB/s    in 0s      \n",
            "\n",
            "2020-07-05 12:19:04 (87.8 MB/s) - ‘setup_google_colab.py’ saved [1232/1232]\n",
            "\n",
            "https://raw.githubusercontent.com/hse-aml/bayesian-methods-for-ml/master/week4/w4_grader.py w4_grader.py\n",
            "https://raw.githubusercontent.com/hse-aml/bayesian-methods-for-ml/master/week4/adult_us_postprocessed.csv adult_us_postprocessed.csv\n"
          ],
          "name": "stdout"
        }
      ]
    },
    {
      "cell_type": "code",
      "metadata": {
        "id": "bCmD7w91uItD"
      },
      "source": [
        "#!pip install pymc3>=3.8"
      ],
      "execution_count": null,
      "outputs": []
    },
    {
      "cell_type": "code",
      "metadata": {
        "id": "QRwIgCJ9mE__"
      },
      "source": [
        "#!pip install arviz"
      ],
      "execution_count": null,
      "outputs": []
    },
    {
      "cell_type": "code",
      "metadata": {
        "id": "CE-3XdGkg_gk",
        "colab": {
          "base_uri": "https://localhost:8080/",
          "height": 88
        },
        "outputId": "ebd66eac-c41c-455d-e254-f1c4887d1939"
      },
      "source": [
        "import numpy as np\n",
        "import pandas as pd\n",
        "import numpy.random as rnd\n",
        "import seaborn as sns\n",
        "from matplotlib import animation\n",
        "import pymc3 as pm\n",
        "from w4_grader import MCMCGrader\n",
        "%pylab inline"
      ],
      "execution_count": null,
      "outputs": [
        {
          "output_type": "stream",
          "text": [
            "/usr/local/lib/python3.6/dist-packages/statsmodels/tools/_testing.py:19: FutureWarning: pandas.util.testing is deprecated. Use the functions in the public API at pandas.testing instead.\n",
            "  import pandas.util.testing as tm\n"
          ],
          "name": "stderr"
        },
        {
          "output_type": "stream",
          "text": [
            "Populating the interactive namespace from numpy and matplotlib\n"
          ],
          "name": "stdout"
        }
      ]
    },
    {
      "cell_type": "markdown",
      "metadata": {
        "id": "KxmIrzppg_gn"
      },
      "source": [
        "### Grading\n",
        "We will create a grader instance below and use it to collect your answers. Note that these outputs will be stored locally inside grader and will be uploaded to the platform only after running submitting function in the last part of this assignment. If you want to make a partial submission, you can run that cell anytime you want."
      ]
    },
    {
      "cell_type": "code",
      "metadata": {
        "id": "hSxUYQWhg_gn"
      },
      "source": [
        "grader = MCMCGrader()"
      ],
      "execution_count": null,
      "outputs": []
    },
    {
      "cell_type": "markdown",
      "metadata": {
        "id": "T86E0zRFg_gr"
      },
      "source": [
        "## Task 1. Alice and Bob\n",
        "\n",
        "Alice and Bob are trading on the market. Both of them are selling the Thing and want to get as high profit as possible.\n",
        "Every hour they check out with each other's prices and adjust their prices to compete on the market. Although they have different strategies for price setting.\n",
        "\n",
        "**Alice**: takes Bob's price during the **previous** hour, multiply by 0.6, add \\\\$90, add Gaussian noise from $N(0, 20^2)$.\n",
        "\n",
        "**Bob**: takes Alice's price during the **current** hour, multiply by 1.2 and subtract \\\\$20, add Gaussian noise from $N(0, 10^2)$.\n",
        "\n",
        "The problem is to find the joint distribution of Alice and Bob's prices after many hours of such an experiment."
      ]
    },
    {
      "cell_type": "markdown",
      "metadata": {
        "id": "PQfY8Ef0g_gs"
      },
      "source": [
        "### Task 1.1\n",
        "\n",
        "Implement the `run_simulation` function according to the description above. "
      ]
    },
    {
      "cell_type": "code",
      "metadata": {
        "id": "pNYG8BMhg_gt"
      },
      "source": [
        "def run_simulation(alice_start_price=300.0, bob_start_price=300.0, seed=42, num_hours=10000, burnin=1000):\n",
        "    \"\"\"Simulates an evolution of prices set by Bob and Alice.\n",
        "    \n",
        "    The function should simulate Alice and Bob behavior for `burnin' hours, then ignore the obtained\n",
        "    simulation results, and then simulate it for `num_hours' more.\n",
        "    The initial burnin (also sometimes called warmup) is done to make sure that the distribution stabilized.\n",
        "    \n",
        "    Please don't change the signature of the function.\n",
        "    \n",
        "    Returns:\n",
        "        two lists, with Alice and with Bob prices. Both lists should be of length num_hours.\n",
        "    \"\"\"\n",
        "    np.random.seed(seed)\n",
        "\n",
        "    alice_prices = [alice_start_price]\n",
        "    bob_prices = [bob_start_price]\n",
        "    \n",
        "    #### YOUR CODE HERE ####\n",
        "    for i in range(num_hours):\n",
        "        alice_sets = bob_prices[-1]*0.6 + 90 + rnd.normal(0,20)\n",
        "        bob_sets = alice_sets*1.2 - 20 + rnd.normal(0,10)\n",
        "        alice_prices.append(alice_sets)\n",
        "        bob_prices.append(bob_sets)\n",
        "    ### END OF YOUR CODE ###\n",
        "    \n",
        "    return alice_prices[burnin:], bob_prices[burnin:]"
      ],
      "execution_count": null,
      "outputs": []
    },
    {
      "cell_type": "code",
      "metadata": {
        "id": "GM5R5oVZg_gx",
        "colab": {
          "base_uri": "https://localhost:8080/",
          "height": 51
        },
        "outputId": "f0cbb572-7b7a-4988-f75c-299bec63e8b9"
      },
      "source": [
        "alice_prices, bob_prices = run_simulation(alice_start_price=300, bob_start_price=300, seed=42, num_hours=3, burnin=1)\n",
        "if len(alice_prices) != 3:\n",
        "    raise RuntimeError('Make sure that the function returns `num_hours` data points.')\n",
        "grader.submit_simulation_trajectory(alice_prices, bob_prices)"
      ],
      "execution_count": null,
      "outputs": [
        {
          "output_type": "stream",
          "text": [
            "Current answer for task 1.1 (Alice trajectory) is: 279.93428306022463  291.67686875834846\n",
            "Current answer for task 1.1 (Bob trajectory) is: 314.5384966605577  345.2425410740984\n"
          ],
          "name": "stdout"
        }
      ]
    },
    {
      "cell_type": "markdown",
      "metadata": {
        "id": "HuVA2uNIg_g0"
      },
      "source": [
        "### Task 1.2\n",
        "What is the average price for Alice and Bob after the burn-in period? Whose prices are higher?"
      ]
    },
    {
      "cell_type": "code",
      "metadata": {
        "id": "MzsxtvdSg_g1",
        "colab": {
          "base_uri": "https://localhost:8080/",
          "height": 51
        },
        "outputId": "8548be18-55ae-4f1e-82db-aed560c55682"
      },
      "source": [
        "#### YOUR CODE HERE ####\n",
        "alice_prices, bob_prices = run_simulation()\n",
        "average_alice_price = np.mean(alice_prices)\n",
        "average_bob_price = np.mean(bob_prices)\n",
        "### END OF YOUR CODE ###\n",
        "grader.submit_simulation_mean(average_alice_price, average_bob_price)"
      ],
      "execution_count": null,
      "outputs": [
        {
          "output_type": "stream",
          "text": [
            "Current answer for task 1.2 (Alice mean) is: 278.62821295463834\n",
            "Current answer for task 1.2 (Bob mean) is: 314.37642287694996\n"
          ],
          "name": "stdout"
        }
      ]
    },
    {
      "cell_type": "markdown",
      "metadata": {
        "id": "gJpx1u8vg_g4"
      },
      "source": [
        "### Task 1.3\n",
        "\n",
        "Let's look at the 2-d histogram of prices, computed using kernel density estimation."
      ]
    },
    {
      "cell_type": "code",
      "metadata": {
        "id": "9H2YqPNLg_g5",
        "colab": {
          "base_uri": "https://localhost:8080/",
          "height": 458
        },
        "outputId": "a0729e05-dd14-4d15-f82d-75ac1265786f"
      },
      "source": [
        "data = np.array(run_simulation())\n",
        "sns.jointplot(data[0, :], data[1, :], stat_func=None, kind='kde')"
      ],
      "execution_count": null,
      "outputs": [
        {
          "output_type": "execute_result",
          "data": {
            "text/plain": [
              "<seaborn.axisgrid.JointGrid at 0x7f5085c03940>"
            ]
          },
          "metadata": {
            "tags": []
          },
          "execution_count": 9
        },
        {
          "output_type": "display_data",
          "data": {
            "image/png": "[encoded data removed]",
            "text/plain": [
              "<Figure size 432x432 with 3 Axes>"
            ]
          },
          "metadata": {
            "tags": [],
            "needs_background": "light"
          }
        }
      ]
    },
    {
      "cell_type": "markdown",
      "metadata": {
        "id": "zpheEpg2g_g8"
      },
      "source": [
        "Clearly, the prices of Bob and Alce are highly correlated. What is the Pearson correlation coefficient of Alice and Bob prices?"
      ]
    },
    {
      "cell_type": "code",
      "metadata": {
        "id": "saPj6NsWg_g9",
        "colab": {
          "base_uri": "https://localhost:8080/",
          "height": 34
        },
        "outputId": "0145e6b9-4d1d-4941-9228-bf53598fb362"
      },
      "source": [
        "#### YOUR CODE HERE ####\n",
        "correlation = np.corrcoef(alice_prices,bob_prices)[0][1]\n",
        "### END OF YOUR CODE ###\n",
        "grader.submit_simulation_correlation(correlation)"
      ],
      "execution_count": null,
      "outputs": [
        {
          "output_type": "stream",
          "text": [
            "Current answer for task 1.3 (Bob and Alice prices correlation) is: 0.9636340025161768\n"
          ],
          "name": "stdout"
        }
      ]
    },
    {
      "cell_type": "markdown",
      "metadata": {
        "id": "LJms0obMg_hB"
      },
      "source": [
        "### Task 1.4"
      ]
    },
    {
      "cell_type": "markdown",
      "metadata": {
        "id": "njfOP-SXg_hB"
      },
      "source": [
        "We observe an interesting effect here: seems like the bivariate distribution of Alice and Bob prices converges to a correlated bivariate Gaussian distribution.\n",
        "\n",
        "Let's check, whether the results change if we use different random seed and starting points."
      ]
    },
    {
      "cell_type": "code",
      "metadata": {
        "id": "UWfUwMGag_hC",
        "colab": {
          "base_uri": "https://localhost:8080/",
          "height": 34
        },
        "outputId": "185640eb-b37b-4588-e0b7-3dbd301b1cf9"
      },
      "source": [
        "# Pick different starting prices, e.g 10, 1000, 10000 for Bob and Alice. \n",
        "# Does the joint distribution of the two prices depend on these parameters?\n",
        "POSSIBLE_ANSWERS = {\n",
        "    0: 'Depends on random seed and starting prices', \n",
        "    1: 'Depends only on random seed',\n",
        "    2: 'Depends only on starting prices',\n",
        "    3: 'Does not depend on random seed and starting prices'\n",
        "}\n",
        "\n",
        "idx = 3 ### TYPE THE INDEX OF THE CORRECT ANSWER HERE ###\n",
        "answer = POSSIBLE_ANSWERS[idx]\n",
        "grader.submit_simulation_depends(answer)"
      ],
      "execution_count": null,
      "outputs": [
        {
          "output_type": "stream",
          "text": [
            "Current answer for task 1.4 (depends on the random data or not) is: Does not depend on random seed and starting prices\n"
          ],
          "name": "stdout"
        }
      ]
    },
    {
      "cell_type": "markdown",
      "metadata": {
        "collapsed": true,
        "id": "QQHN2U1Gg_hF"
      },
      "source": [
        "## Task 2. Logistic regression with PyMC3\n",
        "\n",
        "Logistic regression is a powerful model that allows you to analyze how a set of features affects some binary target label. Posterior distribution over the weights gives us an estimation of the influence of each particular feature on the probability of the target being equal to one. But most importantly, posterior distribution gives us the interval estimates for each weight of the model. This is very important for data analysis when you want to not only provide a good model but also estimate the uncertainty of your conclusions.\n",
        "\n",
        "In this task, we will learn how to use PyMC3 library to perform approximate Bayesian inference for logistic regression.\n",
        "\n",
        "This part of the assignment is based on the logistic regression tutorial by Peadar Coyle and J. Benjamin Cook."
      ]
    },
    {
      "cell_type": "markdown",
      "metadata": {
        "id": "iTbcfleIg_hG"
      },
      "source": [
        "### Logistic regression.\n",
        "\n",
        "The problem here is to model how the probability that a person has salary $\\geq$ \\\\$50K is affected by his/her age, education, sex and other features.\n",
        "\n",
        "Let $y_i = 1$ if i-th person's salary is $\\geq$ \\\\$50K and $y_i = 0$ otherwise. Let $x_{ij}$ be $j$-th feature of $i$-th person.\n",
        "\n",
        "Logistic regression models this probabilty in the following way:\n",
        "\n",
        "$$p(y_i = 1 \\mid \\beta) = \\sigma (\\beta_1 x_{i1} + \\beta_2 x_{i2} + \\dots + \\beta_k x_{ik} ), $$\n",
        "\n",
        "where $\\sigma(t) = \\frac1{1 + e^{-t}}$"
      ]
    },
    {
      "cell_type": "markdown",
      "metadata": {
        "id": "R9t6zxORg_hG"
      },
      "source": [
        "#### Odds ratio.\n",
        "Let's try to answer the following question: does the gender of a person affects his or her salary? To do it we will use the concept of *odds*.\n",
        "\n",
        "If we have a binary random variable $y$ (which may indicate whether a person makes \\\\$50K) and if the probabilty of the positive outcome $p(y = 1)$ is for example 0.8, we will say that the *odds* are 4 to 1 (or just 4 for short), because succeding is 4 time more likely than failing $\\frac{p(y = 1)}{p(y = 0)} = \\frac{0.8}{0.2} = 4$.\n",
        "\n",
        "Now, let's return to the effect of gender on the salary. Let's compute the **ratio** between the odds of a male having salary $\\geq $ \\\\$50K and the odds of a female (with the same level of education, experience and everything else) having salary $\\geq$ \\\\$50K. The first feature of each person in the dataset is gender. Specifically, $x_{i1} = 0$ if the person is female and $x_{i1} = 1$ otherwise. Consider two people $i$ and $j$ having all but one features the same with the only difference in $x_{i1} \\neq x_{j1}$.\n",
        "\n",
        "If the logistic regression model above estimates the probabilities exactly, the odds for a male will be (check it!):\n",
        "$$\n",
        "\\frac{p(y_i = 1 \\mid x_{i1}=1, x_{i2}, \\ldots, x_{ik})}{p(y_i = 0 \\mid x_{i1}=1, x_{i2}, \\ldots, x_{ik})} = \\frac{\\sigma(\\beta_1 + \\beta_2 x_{i2} + \\ldots)}{1 - \\sigma(\\beta_1 + \\beta_2 x_{i2} + \\ldots)} = \\exp(\\beta_1 + \\beta_2 x_{i2} + \\ldots)\n",
        "$$\n",
        "\n",
        "Now the ratio of the male and female odds will be:\n",
        "$$\n",
        "\\frac{\\exp(\\beta_1 \\cdot 1 + \\beta_2 x_{i2} + \\ldots)}{\\exp(\\beta_1 \\cdot 0 + \\beta_2 x_{i2} + \\ldots)} = \\exp(\\beta_1)\n",
        "$$\n",
        "\n",
        "So given the correct logistic regression model, we can estimate odds ratio for some feature (gender in this example) by just looking at the corresponding coefficient. But of course, even if all the logistic regression assumptions are met we cannot estimate the coefficient exactly from real-world data, it's just too noisy. So it would be really nice to build an interval estimate, which would tell us something along the lines \"with probability 0.95 the odds ratio is greater than 0.8 and less than 1.2, so we cannot conclude that there is any gender discrimination in the salaries\" (or vice versa, that \"with probability 0.95 the odds ratio is greater than 1.5 and less than 1.9 and the discrimination takes place because a male has at least 1.5 higher probability to get >$50k than a female with the same level of education, age, etc.\"). In Bayesian statistics, this interval estimate is called *credible interval*.\n",
        "\n",
        "Unfortunately, it's impossible to compute this credible interval analytically. So let's use MCMC for that!\n",
        "\n",
        "#### Credible interval\n",
        "A credible interval for the value of $\\exp(\\beta_1)$ is an interval $[a, b]$ such that $p(a \\leq \\exp(\\beta_1) \\leq b \\mid X_{\\text{train}}, y_{\\text{train}})$ is $0.95$ (or some other predefined value). To compute the interval, we need access to the posterior distribution $p(\\exp(\\beta_1) \\mid X_{\\text{train}}, y_{\\text{train}})$.\n",
        "\n",
        "Lets for simplicity focus on the posterior on the parameters $p(\\beta_1 \\mid X_{\\text{train}}, y_{\\text{train}})$ since if we compute it, we can always find $[a, b]$ such that $p(\\log a \\leq \\beta_1 \\leq \\log b \\mid X_{\\text{train}}, y_{\\text{train}}) = p(a \\leq \\exp(\\beta_1) \\leq b \\mid X_{\\text{train}}, y_{\\text{train}}) = 0.95$\n"
      ]
    },
    {
      "cell_type": "markdown",
      "metadata": {
        "id": "NvgigVHAg_hH"
      },
      "source": [
        "### Task 2.1 MAP inference"
      ]
    },
    {
      "cell_type": "markdown",
      "metadata": {
        "id": "c_Om5smVg_hH"
      },
      "source": [
        "Let's read the dataset. This is a post-processed version of the [UCI Adult dataset](http://archive.ics.uci.edu/ml/datasets/Adult)."
      ]
    },
    {
      "cell_type": "code",
      "metadata": {
        "id": "6c_IL9xig_hI",
        "colab": {
          "base_uri": "https://localhost:8080/",
          "height": 204
        },
        "outputId": "165a3ee9-693f-44a0-9f6f-b2d1d3366d0d"
      },
      "source": [
        "data = pd.read_csv(\"adult_us_postprocessed.csv\")\n",
        "data.head()"
      ],
      "execution_count": null,
      "outputs": [
        {
          "output_type": "execute_result",
          "data": {
            "text/html": [
              "<div>\n",
              "<style scoped>\n",
              "    .dataframe tbody tr th:only-of-type {\n",
              "        vertical-align: middle;\n",
              "    }\n",
              "\n",
              "    .dataframe tbody tr th {\n",
              "        vertical-align: top;\n",
              "    }\n",
              "\n",
              "    .dataframe thead th {\n",
              "        text-align: right;\n",
              "    }\n",
              "</style>\n",
              "<table border=\"1\" class=\"dataframe\">\n",
              "  <thead>\n",
              "    <tr style=\"text-align: right;\">\n",
              "      <th></th>\n",
              "      <th>sex</th>\n",
              "      <th>age</th>\n",
              "      <th>educ</th>\n",
              "      <th>hours</th>\n",
              "      <th>income_more_50K</th>\n",
              "    </tr>\n",
              "  </thead>\n",
              "  <tbody>\n",
              "    <tr>\n",
              "      <th>0</th>\n",
              "      <td>Male</td>\n",
              "      <td>39</td>\n",
              "      <td>13</td>\n",
              "      <td>40</td>\n",
              "      <td>0</td>\n",
              "    </tr>\n",
              "    <tr>\n",
              "      <th>1</th>\n",
              "      <td>Male</td>\n",
              "      <td>50</td>\n",
              "      <td>13</td>\n",
              "      <td>13</td>\n",
              "      <td>0</td>\n",
              "    </tr>\n",
              "    <tr>\n",
              "      <th>2</th>\n",
              "      <td>Male</td>\n",
              "      <td>38</td>\n",
              "      <td>9</td>\n",
              "      <td>40</td>\n",
              "      <td>0</td>\n",
              "    </tr>\n",
              "    <tr>\n",
              "      <th>3</th>\n",
              "      <td>Male</td>\n",
              "      <td>53</td>\n",
              "      <td>7</td>\n",
              "      <td>40</td>\n",
              "      <td>0</td>\n",
              "    </tr>\n",
              "    <tr>\n",
              "      <th>4</th>\n",
              "      <td>Female</td>\n",
              "      <td>28</td>\n",
              "      <td>13</td>\n",
              "      <td>40</td>\n",
              "      <td>0</td>\n",
              "    </tr>\n",
              "  </tbody>\n",
              "</table>\n",
              "</div>"
            ],
            "text/plain": [
              "       sex  age  educ  hours  income_more_50K\n",
              "0     Male   39    13     40                0\n",
              "1     Male   50    13     13                0\n",
              "2     Male   38     9     40                0\n",
              "3     Male   53     7     40                0\n",
              "4   Female   28    13     40                0"
            ]
          },
          "metadata": {
            "tags": []
          },
          "execution_count": 12
        }
      ]
    },
    {
      "cell_type": "markdown",
      "metadata": {
        "id": "D_6ut0Bxg_hL"
      },
      "source": [
        "Each row of the dataset is a person with his (her) features. The last column is the target variable $y$. One indicates that this person's annual salary is more than $50K.\n",
        "\n",
        "First of all let's set up a Bayesian logistic regression model (i.e. define priors on the parameters $\\alpha$ and $\\beta$ of the model) that predicts the value of \"income_more_50K\" based on person's age and education:\n",
        "\n",
        "$$\n",
        "p(y = 1 \\mid \\alpha, \\beta_1, \\beta_2) = \\sigma(\\alpha + \\beta_1 x_1 + \\beta_2 x_2) \\\\ \n",
        "\\alpha \\sim N(0, 100^2) \\\\\n",
        "\\beta_1 \\sim N(0, 100^2) \\\\\n",
        "\\beta_2 \\sim N(0, 100^2), \\\\\n",
        "$$\n",
        "\n",
        "where $x_1$ is a person's age, $x_2$ is his/her level of education, y indicates his/her level of income, $\\alpha$, $\\beta_1$ and $\\beta_2$ are paramters of the model."
      ]
    },
    {
      "cell_type": "code",
      "metadata": {
        "id": "6Hemvnl3g_hM",
        "colab": {
          "base_uri": "https://localhost:8080/",
          "height": 105
        },
        "outputId": "2230a1dd-55d2-4bf2-c6e9-48077964bc17"
      },
      "source": [
        "with pm.Model() as manual_logistic_model:\n",
        "    # Declare pymc random variables for logistic regression coefficients with uninformative \n",
        "    # prior distributions N(0, 100^2) on each weight using pm.Normal. \n",
        "    # Don't forget to give each variable a unique name.\n",
        "    \n",
        "    #### YOUR CODE HERE ####\n",
        "    alpha = pm.Normal('alpha', mu=0, sd=100)\n",
        "    beta_age_coefficient = pm.Normal('beta_age_coefficient', mu=0, sd=100)\n",
        "    beta_education_coefficient = pm.Normal('beta_education_coefficient', mu=0, sd=100)\n",
        "    \n",
        "    ### END OF YOUR CODE ###\n",
        "    \n",
        "    # Thansform these random variables into vector of probabilities p(y_i=1) using logistic regression model specified \n",
        "    # above. PyMC random variables are theano shared variables and support simple mathematical operations.\n",
        "    # For example:\n",
        "    # z = pm.Normal('x', 0, 1) * np.array([1, 2, 3]) + pm.Normal('y', 0, 1) * np.array([4, 5, 6])`\n",
        "    # is a correct PyMC expression.\n",
        "    # Use pm.invlogit for the sigmoid function.\n",
        "    \n",
        "    #### YOUR CODE HERE ####\n",
        "    z = pm.invlogit(alpha + beta_age_coefficient * np.array(data['age']) + \\\n",
        "                    beta_education_coefficient * np.array(data['educ']))\n",
        "    ### END OF YOUR CODE ###\n",
        "    \n",
        "    # Declare PyMC Bernoulli random vector with probability of success equal to the corresponding value\n",
        "    # given by the sigmoid function.\n",
        "    # Supply target vector using \"observed\" argument in the constructor.\n",
        "\n",
        "    #### YOUR CODE HERE ####\n",
        "    y_obs = pm.Bernoulli('y_obs', p=z, observed=data['income_more_50K'])\n",
        "    ### END OF YOUR CODE ###\n",
        "    \n",
        "    # Use pm.find_MAP() to find the maximum a-posteriori estimate for the vector of logistic regression weights.\n",
        "    map_estimate = pm.find_MAP()\n",
        "    print(map_estimate)\n",
        "\n"
      ],
      "execution_count": null,
      "outputs": [
        {
          "output_type": "stream",
          "text": [
            "/usr/local/lib/python3.6/dist-packages/pymc3/tuning/starting.py:61: UserWarning: find_MAP should not be used to initialize the NUTS sampler, simply call pymc3.sample() and it will automatically initialize NUTS in a better way.\n",
            "  warnings.warn('find_MAP should not be used to initialize the NUTS sampler, simply call pymc3.sample() and it will automatically initialize NUTS in a better way.')\n",
            "logp = -18,844, ||grad|| = 57,293: 100%|██████████| 30/30 [00:00<00:00, 126.56it/s]  \n"
          ],
          "name": "stderr"
        },
        {
          "output_type": "stream",
          "text": [
            "{'alpha': array(-6.74811904), 'beta_age_coefficient': array(0.04348316), 'beta_education_coefficient': array(0.36210803)}\n"
          ],
          "name": "stdout"
        }
      ]
    },
    {
      "cell_type": "markdown",
      "metadata": {
        "id": "Q_63Yy3Pg_hZ"
      },
      "source": [
        "Sumbit MAP estimations of corresponding coefficients:"
      ]
    },
    {
      "cell_type": "code",
      "metadata": {
        "id": "Vd-dVQojg_ha",
        "colab": {
          "base_uri": "https://localhost:8080/",
          "height": 139
        },
        "outputId": "20b086bf-95f5-4609-ebe2-cda28fb4f799"
      },
      "source": [
        "with pm.Model() as logistic_model:\n",
        "    # There's a simpler interface for generalized linear models in pymc3. \n",
        "    # Try to train the same model using pm.glm.GLM.from_formula.\n",
        "    # Do not forget to specify that the target variable is binary (and hence follows Binomial distribution).\n",
        "    \n",
        "    #### YOUR CODE HERE ####\n",
        "    pm.glm.GLM.from_formula('income_more_50K ~ age + educ', data, family=pm.glm.families.Binomial())\n",
        "    ### END OF YOUR CODE ###\n",
        "    map_estimate = pm.find_MAP()\n",
        "    print(map_estimate)"
      ],
      "execution_count": null,
      "outputs": [
        {
          "output_type": "stream",
          "text": [
            "/usr/local/lib/python3.6/dist-packages/pymc3/tuning/starting.py:61: UserWarning: find_MAP should not be used to initialize the NUTS sampler, simply call pymc3.sample() and it will automatically initialize NUTS in a better way.\n",
            "  warnings.warn('find_MAP should not be used to initialize the NUTS sampler, simply call pymc3.sample() and it will automatically initialize NUTS in a better way.')\n",
            "WARNING (theano.tensor.blas): We did not find a dynamic library in the library_dir of the library we use for blas. If you use ATLAS, make sure to compile it with dynamics library.\n",
            "WARNING (theano.tensor.blas): We did not find a dynamic library in the library_dir of the library we use for blas. If you use ATLAS, make sure to compile it with dynamics library.\n",
            "logp = -15,131, ||grad|| = 0.024014: 100%|██████████| 32/32 [00:00<00:00, 146.63it/s]  "
          ],
          "name": "stderr"
        },
        {
          "output_type": "stream",
          "text": [
            "{'Intercept': array(-6.7480998), 'age': array(0.04348259), 'educ': array(0.36210894)}\n"
          ],
          "name": "stdout"
        },
        {
          "output_type": "stream",
          "text": [
            "\n"
          ],
          "name": "stderr"
        }
      ]
    },
    {
      "cell_type": "code",
      "metadata": {
        "scrolled": true,
        "id": "KGHPtbzFg_he",
        "colab": {
          "base_uri": "https://localhost:8080/",
          "height": 51
        },
        "outputId": "5244037d-9d81-4a32-908e-db82ea37341d"
      },
      "source": [
        "beta_age_coefficient = 0.04348316196411615 ### TYPE MAP ESTIMATE OF THE AGE COEFFICIENT HERE ###\n",
        "beta_education_coefficient =  0.36210803275554887 ### TYPE MAP ESTIMATE OF THE EDUCATION COEFFICIENT HERE ###\n",
        "grader.submit_pymc_map_estimates(beta_age_coefficient, beta_education_coefficient)"
      ],
      "execution_count": null,
      "outputs": [
        {
          "output_type": "stream",
          "text": [
            "Current answer for task 2.1 (MAP for age coef) is: 0.04348316196411615\n",
            "Current answer for task 2.1 (MAP for aducation coef) is: 0.36210803275554887\n"
          ],
          "name": "stdout"
        }
      ]
    },
    {
      "cell_type": "markdown",
      "metadata": {
        "id": "yRwr1RSAg_hm"
      },
      "source": [
        "### Task 2.2 MCMC"
      ]
    },
    {
      "cell_type": "markdown",
      "metadata": {
        "id": "IH2b7nh5g_hn"
      },
      "source": [
        "To find credible regions let's perform MCMC inference."
      ]
    },
    {
      "cell_type": "code",
      "metadata": {
        "id": "qlip3V4qg_ho"
      },
      "source": [
        "# You will need the following function to visualize the sampling process.\n",
        "# You don't need to change it.\n",
        "def plot_traces(traces, burnin=200):\n",
        "    ''' \n",
        "    Convenience function:\n",
        "    Plot traces with overlaid means and values\n",
        "    '''\n",
        "    \n",
        "    ax = pm.traceplot(traces[burnin:], figsize=(12,len(traces.varnames)*1.5),\n",
        "        lines={k: v['mean'] for k, v in pm.summary(traces[burnin:]).iterrows()})\n",
        "\n",
        "    for i, mn in enumerate(pm.summary(traces[burnin:])['mean']):\n",
        "        ax[i,0].annotate('{:.2f}'.format(mn), xy=(mn,0), xycoords='data'\n",
        "                    ,xytext=(5,10), textcoords='offset points', rotation=90\n",
        "                    ,va='bottom', fontsize='large', color='#AA0022')"
      ],
      "execution_count": null,
      "outputs": []
    },
    {
      "cell_type": "markdown",
      "metadata": {
        "id": "61R9YxJ7g_hu"
      },
      "source": [
        "#### Metropolis-Hastings\n",
        "Let's use the Metropolis-Hastings algorithm for finding the samples from the posterior distribution.\n",
        "\n",
        "Once you wrote the code, explore the hyperparameters of Metropolis-Hastings such as the proposal distribution variance to speed up the convergence. You can use `plot_traces` function in the next cell to visually inspect the convergence.\n",
        "\n",
        "You may also use MAP-estimate to initialize the sampling scheme to speed things up. This will make the warmup (burn-in) period shorter since you will start from a probable point."
      ]
    },
    {
      "cell_type": "code",
      "metadata": {
        "id": "5veDLHfMg_hv",
        "colab": {
          "base_uri": "https://localhost:8080/",
          "height": 238
        },
        "outputId": "7430c1be-5ba7-418f-9b92-d1936c57e68a"
      },
      "source": [
        "with pm.Model() as logistic_model:\n",
        "    # Since it is unlikely that the dependency between the age and salary is linear, we will include age squared\n",
        "    # into features so that we can model dependency that favors certain ages.\n",
        "    # Train Bayesian logistic regression model on the following features: sex, age, age^2, educ, hours\n",
        "    # Use pm.sample to run MCMC to train this model.\n",
        "    # To specify the particular sampler method (Metropolis-Hastings) to pm.sample,\n",
        "    # use `pm.Metropolis`.\n",
        "    # Train your model for 400 samples.\n",
        "    # Save the output of pm.sample to a variable: this is the trace of the sampling procedure and will be used\n",
        "    # to estimate the statistics of the posterior distribution.\n",
        "    \n",
        "    #### YOUR CODE HERE ####\n",
        "    data['age_2'] = data['age']**2\n",
        "    pm.glm.GLM.from_formula('income_more_50K ~ sex + age + educ + hours + age_2', data, family=pm.glm.families.Binomial())\n",
        "    trace = pm.sample(400, step=pm.Metropolis())\n",
        "    ### END OF YOUR CODE ###"
      ],
      "execution_count": null,
      "outputs": [
        {
          "output_type": "stream",
          "text": [
            "Only 400 samples in chain.\n",
            "Sequential sampling (2 chains in 1 job)\n",
            "CompoundStep\n",
            ">Metropolis: [age_2]\n",
            ">Metropolis: [hours]\n",
            ">Metropolis: [educ]\n",
            ">Metropolis: [age]\n",
            ">Metropolis: [sex[T. Male]]\n",
            ">Metropolis: [Intercept]\n",
            "100%|██████████| 900/900 [00:57<00:00, 15.78it/s]\n",
            "100%|██████████| 900/900 [00:58<00:00, 15.32it/s]\n",
            "The gelman-rubin statistic is larger than 1.4 for some parameters. The sampler did not converge.\n",
            "The estimated number of effective samples is smaller than 200 for some parameters.\n"
          ],
          "name": "stderr"
        }
      ]
    },
    {
      "cell_type": "code",
      "metadata": {
        "id": "8twtSbNKg_h0",
        "colab": {
          "base_uri": "https://localhost:8080/",
          "height": 326
        },
        "outputId": "c1e37930-5cf9-41e5-f536-644d67be3046"
      },
      "source": [
        "plot_traces(trace)"
      ],
      "execution_count": null,
      "outputs": [
        {
          "output_type": "error",
          "ename": "TypeError",
          "evalue": "ignored",
          "traceback": [
            "\u001b[0;31m---------------------------------------------------------------------------\u001b[0m",
            "\u001b[0;31mTypeError\u001b[0m                                 Traceback (most recent call last)",
            "\u001b[0;32m<ipython-input-19-f3177cbb8580>\u001b[0m in \u001b[0;36m<module>\u001b[0;34m()\u001b[0m\n\u001b[0;32m----> 1\u001b[0;31m \u001b[0mplot_traces\u001b[0m\u001b[0;34m(\u001b[0m\u001b[0mtrace\u001b[0m\u001b[0;34m)\u001b[0m\u001b[0;34m\u001b[0m\u001b[0;34m\u001b[0m\u001b[0m\n\u001b[0m",
            "\u001b[0;32m<ipython-input-16-b3ba883662a4>\u001b[0m in \u001b[0;36mplot_traces\u001b[0;34m(traces, burnin)\u001b[0m\n\u001b[1;32m      8\u001b[0m \u001b[0;34m\u001b[0m\u001b[0m\n\u001b[1;32m      9\u001b[0m     ax = pm.traceplot(traces[burnin:], figsize=(12,len(traces.varnames)*1.5),\n\u001b[0;32m---> 10\u001b[0;31m         lines={k: v['mean'] for k, v in pm.summary(traces[burnin:]).iterrows()})\n\u001b[0m\u001b[1;32m     11\u001b[0m \u001b[0;34m\u001b[0m\u001b[0m\n\u001b[1;32m     12\u001b[0m     \u001b[0;32mfor\u001b[0m \u001b[0mi\u001b[0m\u001b[0;34m,\u001b[0m \u001b[0mmn\u001b[0m \u001b[0;32min\u001b[0m \u001b[0menumerate\u001b[0m\u001b[0;34m(\u001b[0m\u001b[0mpm\u001b[0m\u001b[0;34m.\u001b[0m\u001b[0msummary\u001b[0m\u001b[0;34m(\u001b[0m\u001b[0mtraces\u001b[0m\u001b[0;34m[\u001b[0m\u001b[0mburnin\u001b[0m\u001b[0;34m:\u001b[0m\u001b[0;34m]\u001b[0m\u001b[0;34m)\u001b[0m\u001b[0;34m[\u001b[0m\u001b[0;34m'mean'\u001b[0m\u001b[0;34m]\u001b[0m\u001b[0;34m)\u001b[0m\u001b[0;34m:\u001b[0m\u001b[0;34m\u001b[0m\u001b[0;34m\u001b[0m\u001b[0m\n",
            "\u001b[0;32m/usr/local/lib/python3.6/dist-packages/pymc3/stats.py\u001b[0m in \u001b[0;36msummary\u001b[0;34m(trace, var_names, transform, stat_funcs, extend, include_transformed, alpha, start, batches, **kwargs)\u001b[0m\n\u001b[1;32m    989\u001b[0m         \u001b[0mrhat_pd\u001b[0m \u001b[0;34m=\u001b[0m \u001b[0mdict2pd\u001b[0m\u001b[0;34m(\u001b[0m\u001b[0mrhat\u001b[0m\u001b[0;34m,\u001b[0m \u001b[0;34m'Rhat'\u001b[0m\u001b[0;34m)\u001b[0m\u001b[0;34m\u001b[0m\u001b[0;34m\u001b[0m\u001b[0m\n\u001b[1;32m    990\u001b[0m         return pd.concat([dforg, n_eff_pd, rhat_pd],\n\u001b[0;32m--> 991\u001b[0;31m                          axis=1, join_axes=[dforg.index])\n\u001b[0m\u001b[1;32m    992\u001b[0m \u001b[0;34m\u001b[0m\u001b[0m\n\u001b[1;32m    993\u001b[0m \u001b[0;34m\u001b[0m\u001b[0m\n",
            "\u001b[0;31mTypeError\u001b[0m: concat() got an unexpected keyword argument 'join_axes'"
          ]
        }
      ]
    },
    {
      "cell_type": "markdown",
      "metadata": {
        "id": "fgT8UGUcg_h4"
      },
      "source": [
        "#### NUTS sampler\n",
        "Use pm.sample without specifying a particular sampling method (pymc3 will choose it automatically).\n",
        "The sampling algorithm that will be used in this case is NUTS, which is a form of Hamiltonian Monte Carlo, in which parameters are tuned automatically. This is an advanced method that we hadn't cover in the lectures, but it usually converges faster and gives less correlated samples compared to vanilla Metropolis-Hastings."
      ]
    },
    {
      "cell_type": "code",
      "metadata": {
        "id": "z2Ctm6-Yg_h5",
        "colab": {
          "base_uri": "https://localhost:8080/",
          "height": 119
        },
        "outputId": "182fa488-c9fe-49f6-d9f5-3d4f506d67ca"
      },
      "source": [
        "with pm.Model() as logistic_model:\n",
        "    # Train Bayesian logistic regression model on the following features: sex, age, age_squared, educ, hours\n",
        "    # Use pm.sample to run MCMC to train this model.\n",
        "    # Train your model for 400 samples.\n",
        "    # Training can take a while, so relax and wait :)\n",
        "    \n",
        "    #### YOUR CODE HERE ####\n",
        "    pm.glm.GLM.from_formula('income_more_50K ~ sex + age + educ + hours + age_2', data, family='binomial')\n",
        "    trace = pm.sample(1000, step=pm.NUTS(), init='adapt_diag')\n",
        "    ### END OF YOUR CODE ###"
      ],
      "execution_count": null,
      "outputs": [
        {
          "output_type": "stream",
          "text": [
            "Sequential sampling (2 chains in 1 job)\n",
            "NUTS: [age_2, hours, educ, age, sex[T. Male], Intercept]\n",
            "100%|██████████| 1500/1500 [19:16<00:00,  1.30it/s]\n",
            "100%|██████████| 1500/1500 [15:20<00:00,  1.63it/s]\n",
            "The acceptance probability does not match the target. It is 0.9500038307710709, but should be close to 0.8. Try to increase the number of tuning steps.\n",
            "The acceptance probability does not match the target. It is 0.9413716787379239, but should be close to 0.8. Try to increase the number of tuning steps.\n"
          ],
          "name": "stderr"
        }
      ]
    },
    {
      "cell_type": "code",
      "metadata": {
        "id": "G6lZIyLAg_h8",
        "colab": {
          "base_uri": "https://localhost:8080/",
          "height": 326
        },
        "outputId": "cc7ff078-6acb-4026-d745-41ccf7a2154e"
      },
      "source": [
        "plot_traces(trace)"
      ],
      "execution_count": null,
      "outputs": [
        {
          "output_type": "error",
          "ename": "TypeError",
          "evalue": "ignored",
          "traceback": [
            "\u001b[0;31m---------------------------------------------------------------------------\u001b[0m",
            "\u001b[0;31mTypeError\u001b[0m                                 Traceback (most recent call last)",
            "\u001b[0;32m<ipython-input-21-f3177cbb8580>\u001b[0m in \u001b[0;36m<module>\u001b[0;34m()\u001b[0m\n\u001b[0;32m----> 1\u001b[0;31m \u001b[0mplot_traces\u001b[0m\u001b[0;34m(\u001b[0m\u001b[0mtrace\u001b[0m\u001b[0;34m)\u001b[0m\u001b[0;34m\u001b[0m\u001b[0;34m\u001b[0m\u001b[0m\n\u001b[0m",
            "\u001b[0;32m<ipython-input-16-b3ba883662a4>\u001b[0m in \u001b[0;36mplot_traces\u001b[0;34m(traces, burnin)\u001b[0m\n\u001b[1;32m      8\u001b[0m \u001b[0;34m\u001b[0m\u001b[0m\n\u001b[1;32m      9\u001b[0m     ax = pm.traceplot(traces[burnin:], figsize=(12,len(traces.varnames)*1.5),\n\u001b[0;32m---> 10\u001b[0;31m         lines={k: v['mean'] for k, v in pm.summary(traces[burnin:]).iterrows()})\n\u001b[0m\u001b[1;32m     11\u001b[0m \u001b[0;34m\u001b[0m\u001b[0m\n\u001b[1;32m     12\u001b[0m     \u001b[0;32mfor\u001b[0m \u001b[0mi\u001b[0m\u001b[0;34m,\u001b[0m \u001b[0mmn\u001b[0m \u001b[0;32min\u001b[0m \u001b[0menumerate\u001b[0m\u001b[0;34m(\u001b[0m\u001b[0mpm\u001b[0m\u001b[0;34m.\u001b[0m\u001b[0msummary\u001b[0m\u001b[0;34m(\u001b[0m\u001b[0mtraces\u001b[0m\u001b[0;34m[\u001b[0m\u001b[0mburnin\u001b[0m\u001b[0;34m:\u001b[0m\u001b[0;34m]\u001b[0m\u001b[0;34m)\u001b[0m\u001b[0;34m[\u001b[0m\u001b[0;34m'mean'\u001b[0m\u001b[0;34m]\u001b[0m\u001b[0;34m)\u001b[0m\u001b[0;34m:\u001b[0m\u001b[0;34m\u001b[0m\u001b[0;34m\u001b[0m\u001b[0m\n",
            "\u001b[0;32m/usr/local/lib/python3.6/dist-packages/pymc3/stats.py\u001b[0m in \u001b[0;36msummary\u001b[0;34m(trace, var_names, transform, stat_funcs, extend, include_transformed, alpha, start, batches, **kwargs)\u001b[0m\n\u001b[1;32m    989\u001b[0m         \u001b[0mrhat_pd\u001b[0m \u001b[0;34m=\u001b[0m \u001b[0mdict2pd\u001b[0m\u001b[0;34m(\u001b[0m\u001b[0mrhat\u001b[0m\u001b[0;34m,\u001b[0m \u001b[0;34m'Rhat'\u001b[0m\u001b[0;34m)\u001b[0m\u001b[0;34m\u001b[0m\u001b[0;34m\u001b[0m\u001b[0m\n\u001b[1;32m    990\u001b[0m         return pd.concat([dforg, n_eff_pd, rhat_pd],\n\u001b[0;32m--> 991\u001b[0;31m                          axis=1, join_axes=[dforg.index])\n\u001b[0m\u001b[1;32m    992\u001b[0m \u001b[0;34m\u001b[0m\u001b[0m\n\u001b[1;32m    993\u001b[0m \u001b[0;34m\u001b[0m\u001b[0m\n",
            "\u001b[0;31mTypeError\u001b[0m: concat() got an unexpected keyword argument 'join_axes'"
          ]
        }
      ]
    },
    {
      "cell_type": "markdown",
      "metadata": {
        "id": "J402Saerg_iC"
      },
      "source": [
        "#### Estimating the odds ratio\n",
        "Now, let's build the posterior distribution on the odds ratio given the dataset (approximated by MCMC)."
      ]
    },
    {
      "cell_type": "code",
      "metadata": {
        "id": "6OrSqJseg_iD",
        "colab": {
          "base_uri": "https://localhost:8080/",
          "height": 622
        },
        "outputId": "ee906286-f1dd-4583-b8e4-8b24acd86eaf"
      },
      "source": [
        "# We don't need to use a large burn-in here, since we initialize sampling\n",
        "# from a good point (from our approximation of the most probable\n",
        "# point (MAP) to be more precise).\n",
        "burnin = 100\n",
        "b = trace['sex[T. Male]'][burnin:]\n",
        "plt.hist(np.exp(b), bins=20, normed=True)\n",
        "plt.xlabel(\"Odds Ratio\")\n",
        "plt.show()"
      ],
      "execution_count": null,
      "outputs": [
        {
          "output_type": "error",
          "ename": "AttributeError",
          "evalue": "ignored",
          "traceback": [
            "\u001b[0;31m---------------------------------------------------------------------------\u001b[0m",
            "\u001b[0;31mAttributeError\u001b[0m                            Traceback (most recent call last)",
            "\u001b[0;32m<ipython-input-22-187a28df7ad6>\u001b[0m in \u001b[0;36m<module>\u001b[0;34m()\u001b[0m\n\u001b[1;32m      4\u001b[0m \u001b[0mburnin\u001b[0m \u001b[0;34m=\u001b[0m \u001b[0;36m100\u001b[0m\u001b[0;34m\u001b[0m\u001b[0;34m\u001b[0m\u001b[0m\n\u001b[1;32m      5\u001b[0m \u001b[0mb\u001b[0m \u001b[0;34m=\u001b[0m \u001b[0mtrace\u001b[0m\u001b[0;34m[\u001b[0m\u001b[0;34m'sex[T. Male]'\u001b[0m\u001b[0;34m]\u001b[0m\u001b[0;34m[\u001b[0m\u001b[0mburnin\u001b[0m\u001b[0;34m:\u001b[0m\u001b[0;34m]\u001b[0m\u001b[0;34m\u001b[0m\u001b[0;34m\u001b[0m\u001b[0m\n\u001b[0;32m----> 6\u001b[0;31m \u001b[0mplt\u001b[0m\u001b[0;34m.\u001b[0m\u001b[0mhist\u001b[0m\u001b[0;34m(\u001b[0m\u001b[0mnp\u001b[0m\u001b[0;34m.\u001b[0m\u001b[0mexp\u001b[0m\u001b[0;34m(\u001b[0m\u001b[0mb\u001b[0m\u001b[0;34m)\u001b[0m\u001b[0;34m,\u001b[0m \u001b[0mbins\u001b[0m\u001b[0;34m=\u001b[0m\u001b[0;36m20\u001b[0m\u001b[0;34m,\u001b[0m \u001b[0mnormed\u001b[0m\u001b[0;34m=\u001b[0m\u001b[0;32mTrue\u001b[0m\u001b[0;34m)\u001b[0m\u001b[0;34m\u001b[0m\u001b[0;34m\u001b[0m\u001b[0m\n\u001b[0m\u001b[1;32m      7\u001b[0m \u001b[0mplt\u001b[0m\u001b[0;34m.\u001b[0m\u001b[0mxlabel\u001b[0m\u001b[0;34m(\u001b[0m\u001b[0;34m\"Odds Ratio\"\u001b[0m\u001b[0;34m)\u001b[0m\u001b[0;34m\u001b[0m\u001b[0;34m\u001b[0m\u001b[0m\n\u001b[1;32m      8\u001b[0m \u001b[0mplt\u001b[0m\u001b[0;34m.\u001b[0m\u001b[0mshow\u001b[0m\u001b[0;34m(\u001b[0m\u001b[0;34m)\u001b[0m\u001b[0;34m\u001b[0m\u001b[0;34m\u001b[0m\u001b[0m\n",
            "\u001b[0;32m/usr/local/lib/python3.6/dist-packages/matplotlib/pyplot.py\u001b[0m in \u001b[0;36mhist\u001b[0;34m(x, bins, range, density, weights, cumulative, bottom, histtype, align, orientation, rwidth, log, color, label, stacked, data, **kwargs)\u001b[0m\n\u001b[1;32m   2608\u001b[0m         \u001b[0malign\u001b[0m\u001b[0;34m=\u001b[0m\u001b[0malign\u001b[0m\u001b[0;34m,\u001b[0m \u001b[0morientation\u001b[0m\u001b[0;34m=\u001b[0m\u001b[0morientation\u001b[0m\u001b[0;34m,\u001b[0m \u001b[0mrwidth\u001b[0m\u001b[0;34m=\u001b[0m\u001b[0mrwidth\u001b[0m\u001b[0;34m,\u001b[0m \u001b[0mlog\u001b[0m\u001b[0;34m=\u001b[0m\u001b[0mlog\u001b[0m\u001b[0;34m,\u001b[0m\u001b[0;34m\u001b[0m\u001b[0;34m\u001b[0m\u001b[0m\n\u001b[1;32m   2609\u001b[0m         color=color, label=label, stacked=stacked, **({\"data\": data}\n\u001b[0;32m-> 2610\u001b[0;31m         if data is not None else {}), **kwargs)\n\u001b[0m\u001b[1;32m   2611\u001b[0m \u001b[0;34m\u001b[0m\u001b[0m\n\u001b[1;32m   2612\u001b[0m \u001b[0;34m\u001b[0m\u001b[0m\n",
            "\u001b[0;32m/usr/local/lib/python3.6/dist-packages/matplotlib/__init__.py\u001b[0m in \u001b[0;36minner\u001b[0;34m(ax, data, *args, **kwargs)\u001b[0m\n\u001b[1;32m   1563\u001b[0m     \u001b[0;32mdef\u001b[0m \u001b[0minner\u001b[0m\u001b[0;34m(\u001b[0m\u001b[0max\u001b[0m\u001b[0;34m,\u001b[0m \u001b[0;34m*\u001b[0m\u001b[0margs\u001b[0m\u001b[0;34m,\u001b[0m \u001b[0mdata\u001b[0m\u001b[0;34m=\u001b[0m\u001b[0;32mNone\u001b[0m\u001b[0;34m,\u001b[0m \u001b[0;34m**\u001b[0m\u001b[0mkwargs\u001b[0m\u001b[0;34m)\u001b[0m\u001b[0;34m:\u001b[0m\u001b[0;34m\u001b[0m\u001b[0;34m\u001b[0m\u001b[0m\n\u001b[1;32m   1564\u001b[0m         \u001b[0;32mif\u001b[0m \u001b[0mdata\u001b[0m \u001b[0;32mis\u001b[0m \u001b[0;32mNone\u001b[0m\u001b[0;34m:\u001b[0m\u001b[0;34m\u001b[0m\u001b[0;34m\u001b[0m\u001b[0m\n\u001b[0;32m-> 1565\u001b[0;31m             \u001b[0;32mreturn\u001b[0m \u001b[0mfunc\u001b[0m\u001b[0;34m(\u001b[0m\u001b[0max\u001b[0m\u001b[0;34m,\u001b[0m \u001b[0;34m*\u001b[0m\u001b[0mmap\u001b[0m\u001b[0;34m(\u001b[0m\u001b[0msanitize_sequence\u001b[0m\u001b[0;34m,\u001b[0m \u001b[0margs\u001b[0m\u001b[0;34m)\u001b[0m\u001b[0;34m,\u001b[0m \u001b[0;34m**\u001b[0m\u001b[0mkwargs\u001b[0m\u001b[0;34m)\u001b[0m\u001b[0;34m\u001b[0m\u001b[0;34m\u001b[0m\u001b[0m\n\u001b[0m\u001b[1;32m   1566\u001b[0m \u001b[0;34m\u001b[0m\u001b[0m\n\u001b[1;32m   1567\u001b[0m         \u001b[0mbound\u001b[0m \u001b[0;34m=\u001b[0m \u001b[0mnew_sig\u001b[0m\u001b[0;34m.\u001b[0m\u001b[0mbind\u001b[0m\u001b[0;34m(\u001b[0m\u001b[0max\u001b[0m\u001b[0;34m,\u001b[0m \u001b[0;34m*\u001b[0m\u001b[0margs\u001b[0m\u001b[0;34m,\u001b[0m \u001b[0;34m**\u001b[0m\u001b[0mkwargs\u001b[0m\u001b[0;34m)\u001b[0m\u001b[0;34m\u001b[0m\u001b[0;34m\u001b[0m\u001b[0m\n",
            "\u001b[0;32m/usr/local/lib/python3.6/dist-packages/matplotlib/axes/_axes.py\u001b[0m in \u001b[0;36mhist\u001b[0;34m(self, x, bins, range, density, weights, cumulative, bottom, histtype, align, orientation, rwidth, log, color, label, stacked, **kwargs)\u001b[0m\n\u001b[1;32m   6817\u001b[0m             \u001b[0;32mif\u001b[0m \u001b[0mpatch\u001b[0m\u001b[0;34m:\u001b[0m\u001b[0;34m\u001b[0m\u001b[0;34m\u001b[0m\u001b[0m\n\u001b[1;32m   6818\u001b[0m                 \u001b[0mp\u001b[0m \u001b[0;34m=\u001b[0m \u001b[0mpatch\u001b[0m\u001b[0;34m[\u001b[0m\u001b[0;36m0\u001b[0m\u001b[0;34m]\u001b[0m\u001b[0;34m\u001b[0m\u001b[0;34m\u001b[0m\u001b[0m\n\u001b[0;32m-> 6819\u001b[0;31m                 \u001b[0mp\u001b[0m\u001b[0;34m.\u001b[0m\u001b[0mupdate\u001b[0m\u001b[0;34m(\u001b[0m\u001b[0mkwargs\u001b[0m\u001b[0;34m)\u001b[0m\u001b[0;34m\u001b[0m\u001b[0;34m\u001b[0m\u001b[0m\n\u001b[0m\u001b[1;32m   6820\u001b[0m                 \u001b[0;32mif\u001b[0m \u001b[0mlbl\u001b[0m \u001b[0;32mis\u001b[0m \u001b[0;32mnot\u001b[0m \u001b[0;32mNone\u001b[0m\u001b[0;34m:\u001b[0m\u001b[0;34m\u001b[0m\u001b[0;34m\u001b[0m\u001b[0m\n\u001b[1;32m   6821\u001b[0m                     \u001b[0mp\u001b[0m\u001b[0;34m.\u001b[0m\u001b[0mset_label\u001b[0m\u001b[0;34m(\u001b[0m\u001b[0mlbl\u001b[0m\u001b[0;34m)\u001b[0m\u001b[0;34m\u001b[0m\u001b[0;34m\u001b[0m\u001b[0m\n",
            "\u001b[0;32m/usr/local/lib/python3.6/dist-packages/matplotlib/artist.py\u001b[0m in \u001b[0;36mupdate\u001b[0;34m(self, props)\u001b[0m\n\u001b[1;32m   1004\u001b[0m \u001b[0;34m\u001b[0m\u001b[0m\n\u001b[1;32m   1005\u001b[0m         \u001b[0;32mwith\u001b[0m \u001b[0mcbook\u001b[0m\u001b[0;34m.\u001b[0m\u001b[0m_setattr_cm\u001b[0m\u001b[0;34m(\u001b[0m\u001b[0mself\u001b[0m\u001b[0;34m,\u001b[0m \u001b[0meventson\u001b[0m\u001b[0;34m=\u001b[0m\u001b[0;32mFalse\u001b[0m\u001b[0;34m)\u001b[0m\u001b[0;34m:\u001b[0m\u001b[0;34m\u001b[0m\u001b[0;34m\u001b[0m\u001b[0m\n\u001b[0;32m-> 1006\u001b[0;31m             \u001b[0mret\u001b[0m \u001b[0;34m=\u001b[0m \u001b[0;34m[\u001b[0m\u001b[0m_update_property\u001b[0m\u001b[0;34m(\u001b[0m\u001b[0mself\u001b[0m\u001b[0;34m,\u001b[0m \u001b[0mk\u001b[0m\u001b[0;34m,\u001b[0m \u001b[0mv\u001b[0m\u001b[0;34m)\u001b[0m \u001b[0;32mfor\u001b[0m \u001b[0mk\u001b[0m\u001b[0;34m,\u001b[0m \u001b[0mv\u001b[0m \u001b[0;32min\u001b[0m \u001b[0mprops\u001b[0m\u001b[0;34m.\u001b[0m\u001b[0mitems\u001b[0m\u001b[0;34m(\u001b[0m\u001b[0;34m)\u001b[0m\u001b[0;34m]\u001b[0m\u001b[0;34m\u001b[0m\u001b[0;34m\u001b[0m\u001b[0m\n\u001b[0m\u001b[1;32m   1007\u001b[0m \u001b[0;34m\u001b[0m\u001b[0m\n\u001b[1;32m   1008\u001b[0m         \u001b[0;32mif\u001b[0m \u001b[0mlen\u001b[0m\u001b[0;34m(\u001b[0m\u001b[0mret\u001b[0m\u001b[0;34m)\u001b[0m\u001b[0;34m:\u001b[0m\u001b[0;34m\u001b[0m\u001b[0;34m\u001b[0m\u001b[0m\n",
            "\u001b[0;32m/usr/local/lib/python3.6/dist-packages/matplotlib/artist.py\u001b[0m in \u001b[0;36m<listcomp>\u001b[0;34m(.0)\u001b[0m\n\u001b[1;32m   1004\u001b[0m \u001b[0;34m\u001b[0m\u001b[0m\n\u001b[1;32m   1005\u001b[0m         \u001b[0;32mwith\u001b[0m \u001b[0mcbook\u001b[0m\u001b[0;34m.\u001b[0m\u001b[0m_setattr_cm\u001b[0m\u001b[0;34m(\u001b[0m\u001b[0mself\u001b[0m\u001b[0;34m,\u001b[0m \u001b[0meventson\u001b[0m\u001b[0;34m=\u001b[0m\u001b[0;32mFalse\u001b[0m\u001b[0;34m)\u001b[0m\u001b[0;34m:\u001b[0m\u001b[0;34m\u001b[0m\u001b[0;34m\u001b[0m\u001b[0m\n\u001b[0;32m-> 1006\u001b[0;31m             \u001b[0mret\u001b[0m \u001b[0;34m=\u001b[0m \u001b[0;34m[\u001b[0m\u001b[0m_update_property\u001b[0m\u001b[0;34m(\u001b[0m\u001b[0mself\u001b[0m\u001b[0;34m,\u001b[0m \u001b[0mk\u001b[0m\u001b[0;34m,\u001b[0m \u001b[0mv\u001b[0m\u001b[0;34m)\u001b[0m \u001b[0;32mfor\u001b[0m \u001b[0mk\u001b[0m\u001b[0;34m,\u001b[0m \u001b[0mv\u001b[0m \u001b[0;32min\u001b[0m \u001b[0mprops\u001b[0m\u001b[0;34m.\u001b[0m\u001b[0mitems\u001b[0m\u001b[0;34m(\u001b[0m\u001b[0;34m)\u001b[0m\u001b[0;34m]\u001b[0m\u001b[0;34m\u001b[0m\u001b[0;34m\u001b[0m\u001b[0m\n\u001b[0m\u001b[1;32m   1007\u001b[0m \u001b[0;34m\u001b[0m\u001b[0m\n\u001b[1;32m   1008\u001b[0m         \u001b[0;32mif\u001b[0m \u001b[0mlen\u001b[0m\u001b[0;34m(\u001b[0m\u001b[0mret\u001b[0m\u001b[0;34m)\u001b[0m\u001b[0;34m:\u001b[0m\u001b[0;34m\u001b[0m\u001b[0;34m\u001b[0m\u001b[0m\n",
            "\u001b[0;32m/usr/local/lib/python3.6/dist-packages/matplotlib/artist.py\u001b[0m in \u001b[0;36m_update_property\u001b[0;34m(self, k, v)\u001b[0m\n\u001b[1;32m   1000\u001b[0m                 \u001b[0;32mif\u001b[0m \u001b[0;32mnot\u001b[0m \u001b[0mcallable\u001b[0m\u001b[0;34m(\u001b[0m\u001b[0mfunc\u001b[0m\u001b[0;34m)\u001b[0m\u001b[0;34m:\u001b[0m\u001b[0;34m\u001b[0m\u001b[0;34m\u001b[0m\u001b[0m\n\u001b[1;32m   1001\u001b[0m                     raise AttributeError('{!r} object has no property {!r}'\n\u001b[0;32m-> 1002\u001b[0;31m                                          .format(type(self).__name__, k))\n\u001b[0m\u001b[1;32m   1003\u001b[0m                 \u001b[0;32mreturn\u001b[0m \u001b[0mfunc\u001b[0m\u001b[0;34m(\u001b[0m\u001b[0mv\u001b[0m\u001b[0;34m)\u001b[0m\u001b[0;34m\u001b[0m\u001b[0;34m\u001b[0m\u001b[0m\n\u001b[1;32m   1004\u001b[0m \u001b[0;34m\u001b[0m\u001b[0m\n",
            "\u001b[0;31mAttributeError\u001b[0m: 'Rectangle' object has no property 'normed'"
          ]
        },
        {
          "output_type": "display_data",
          "data": {
            "image/png": "[encoded data removed]",
            "text/plain": [
              "<Figure size 432x288 with 1 Axes>"
            ]
          },
          "metadata": {
            "tags": [],
            "needs_background": "light"
          }
        }
      ]
    },
    {
      "cell_type": "markdown",
      "metadata": {
        "id": "9R4RRx8Sg_iK"
      },
      "source": [
        "\n",
        "Finally, we can find a credible interval  (recall that credible intervals are Bayesian and confidence intervals are frequentist) for this quantity. This may be the best part about Bayesian statistics: we get to interpret credibility intervals the way we've always wanted to interpret them. We are 95% confident that the odds ratio lies within our interval!"
      ]
    },
    {
      "cell_type": "code",
      "metadata": {
        "id": "zDeajxmUg_iL",
        "colab": {
          "base_uri": "https://localhost:8080/",
          "height": 34
        },
        "outputId": "2e8be25c-6434-44c2-dc82-1c9794203321"
      },
      "source": [
        "lb, ub = np.percentile(b, 2.5), np.percentile(b, 97.5)\n",
        "print(\"P(%.3f < Odds Ratio < %.3f) = 0.95\" % (np.exp(lb), np.exp(ub)))"
      ],
      "execution_count": null,
      "outputs": [
        {
          "output_type": "stream",
          "text": [
            "P(3.021 < Odds Ratio < 3.487) = 0.95\n"
          ],
          "name": "stdout"
        }
      ]
    },
    {
      "cell_type": "code",
      "metadata": {
        "id": "8yFQb4WHg_iS",
        "colab": {
          "base_uri": "https://localhost:8080/",
          "height": 51
        },
        "outputId": "1817560a-9329-4fa7-d555-1f103eaadbeb"
      },
      "source": [
        "# Submit the obtained credible interval.\n",
        "grader.submit_pymc_odds_ratio_interval(np.exp(lb), np.exp(ub))"
      ],
      "execution_count": null,
      "outputs": [
        {
          "output_type": "stream",
          "text": [
            "Current answer for task 2.2 (credible interval lower bound) is: 3.020794983839355\n",
            "Current answer for task 2.2 (credible interval upper bound) is: 3.4865626982418623\n"
          ],
          "name": "stdout"
        }
      ]
    },
    {
      "cell_type": "markdown",
      "metadata": {
        "id": "YWjvwos2g_iZ"
      },
      "source": [
        "### Task 2.3 interpreting the results"
      ]
    },
    {
      "cell_type": "code",
      "metadata": {
        "id": "o_0MwEI_g_ia",
        "colab": {
          "base_uri": "https://localhost:8080/",
          "height": 54
        },
        "outputId": "2068c5c8-e0c6-412f-8410-f06eeffb8eb2"
      },
      "source": [
        "# Does the gender affects salary in the provided dataset?\n",
        "# (Note that the data is from 1996 and maybe not representative\n",
        "# of the current situation in the world.)\n",
        "POSSIBLE_ANSWERS = {\n",
        "    0: 'No, there is certainly no discrimination',\n",
        "    1: 'We cannot say for sure',\n",
        "    2: 'Yes, we are 95% sure that a female is *less* likely to get >$50K than a male with the same age, level of education, etc.', \n",
        "    3: 'Yes, we are 95% sure that a female is *more* likely to get >$50K than a male with the same age, level of education, etc.', \n",
        "}\n",
        "\n",
        "idx = 2 ### TYPE THE INDEX OF THE CORRECT ANSWER HERE ###\n",
        "answer = POSSIBLE_ANSWERS[idx]\n",
        "grader.submit_is_there_discrimination(answer)"
      ],
      "execution_count": null,
      "outputs": [
        {
          "output_type": "stream",
          "text": [
            "Current answer for task 2.3 (does the data suggest gender discrimination?) is: Yes, we are 95% sure that a female is *less* likely to get >$50K than a male with the same age, level of education, etc.\n"
          ],
          "name": "stdout"
        }
      ]
    },
    {
      "cell_type": "markdown",
      "metadata": {
        "id": "L90zwR85g_ih"
      },
      "source": [
        "# Authorization & Submission\n",
        "To submit assignment parts to Cousera platform, please, enter your e-mail and token into variables below. You can generate a token on this programming assignment's page. <b>Note:</b> The token expires 30 minutes after generation."
      ]
    },
    {
      "cell_type": "code",
      "metadata": {
        "id": "HjfrhEilg_ii",
        "colab": {
          "base_uri": "https://localhost:8080/",
          "height": 241
        },
        "outputId": "07fc87ec-0360-4e3b-c4a9-8a200a45a692"
      },
      "source": [
        "STUDENT_EMAIL = 'chyogia@gmail.com'\n",
        "STUDENT_TOKEN = '1cqRB5uKxmHzmmXT'\n",
        "grader.status()"
      ],
      "execution_count": null,
      "outputs": [
        {
          "output_type": "stream",
          "text": [
            "You want to submit these numbers:\n",
            "Task 1.1 (Alice trajectory): 279.93428306022463  291.67686875834846\n",
            "Task 1.1 (Bob trajectory): 314.5384966605577  345.2425410740984\n",
            "Task 1.2 (Alice mean): 278.62821295463834\n",
            "Task 1.2 (Bob mean): 314.37642287694996\n",
            "Task 1.3 (Bob and Alice prices correlation): 0.9636340025161768\n",
            "Task 1.4 (depends on the random data or not): Does not depend on random seed and starting prices\n",
            "Task 2.1 (MAP for age coef): 0.04348316196411615\n",
            "Task 2.1 (MAP for aducation coef): 0.36210803275554887\n",
            "Task 2.2 (credible interval lower bound): 3.020794983839355\n",
            "Task 2.2 (credible interval upper bound): 3.4865626982418623\n",
            "Task 2.3 (does the data suggest gender discrimination?): Yes, we are 95% sure that a female is *less* likely to get >$50K than a male with the same age, level of education, etc.\n"
          ],
          "name": "stdout"
        }
      ]
    },
    {
      "cell_type": "markdown",
      "metadata": {
        "id": "JTotpWIrg_it"
      },
      "source": [
        "If you want to submit these answers, run cell below"
      ]
    },
    {
      "cell_type": "code",
      "metadata": {
        "id": "j9hgFheDg_iu",
        "colab": {
          "base_uri": "https://localhost:8080/",
          "height": 34
        },
        "outputId": "39b04c2c-d2a6-49e1-b6d3-0e0a91478f77"
      },
      "source": [
        "grader.submit(STUDENT_EMAIL, STUDENT_TOKEN)"
      ],
      "execution_count": null,
      "outputs": [
        {
          "output_type": "stream",
          "text": [
            "Submitted to Coursera platform. See results on assignment page!\n"
          ],
          "name": "stdout"
        }
      ]
    },
    {
      "cell_type": "markdown",
      "metadata": {
        "id": "YerE_bqFg_i2"
      },
      "source": [
        "# (Optional) generating videos of sampling process\n",
        "In this part you will generate videos showing the sampling process."
      ]
    },
    {
      "cell_type": "markdown",
      "metadata": {
        "id": "ev_PUIHSg_i3"
      },
      "source": [
        "### Setting things up\n",
        "You don't need to modify the code below, it sets up the plotting functions. The code is based on [MCMC visualization tutorial](https://twiecki.github.io/blog/2014/01/02/visualizing-mcmc/)."
      ]
    },
    {
      "cell_type": "code",
      "metadata": {
        "id": "oeHWW6JUg_i4",
        "colab": {
          "base_uri": "https://localhost:8080/",
          "height": 392
        },
        "outputId": "5bc14ff8-3427-46cd-8b6b-63932c2c1e30"
      },
      "source": [
        "from IPython.display import HTML\n",
        "\n",
        "# Number of MCMC iteration to animate.\n",
        "samples = 400\n",
        "\n",
        "figsize(6, 6)\n",
        "fig = plt.figure()\n",
        "s_width = (0.81, 1.29)\n",
        "a_width = (0.11, 0.39)\n",
        "samples_width = (0, samples)\n",
        "ax1 = fig.add_subplot(221, xlim=s_width, ylim=samples_width)\n",
        "ax2 = fig.add_subplot(224, xlim=samples_width, ylim=a_width)\n",
        "ax3 = fig.add_subplot(223, xlim=s_width, ylim=a_width,\n",
        "                      xlabel='male coef',\n",
        "                      ylabel='educ coef')\n",
        "fig.subplots_adjust(wspace=0.0, hspace=0.0)\n",
        "line1, = ax1.plot([], [], lw=1)\n",
        "line2, = ax2.plot([], [], lw=1)\n",
        "line3, = ax3.plot([], [], 'o', lw=2, alpha=.1)\n",
        "line4, = ax3.plot([], [], lw=1, alpha=.3)\n",
        "line5, = ax3.plot([], [], 'k', lw=1)\n",
        "line6, = ax3.plot([], [], 'k', lw=1)\n",
        "ax1.set_xticklabels([])\n",
        "ax2.set_yticklabels([])\n",
        "lines = [line1, line2, line3, line4, line5, line6]\n",
        "\n",
        "def init():\n",
        "    for line in lines:\n",
        "        line.set_data([], [])\n",
        "    return lines\n",
        "\n",
        "def animate(i):\n",
        "    with logistic_model:\n",
        "        if i == 0:\n",
        "            # Burnin\n",
        "            for j in range(samples): iter_sample.__next__() \n",
        "        trace = iter_sample.__next__()\n",
        "    line1.set_data(trace['sex[T. Male]'][::-1], range(len(trace['sex[T. Male]'])))\n",
        "    line2.set_data(range(len(trace['educ'])), trace['educ'][::-1])\n",
        "    line3.set_data(trace['sex[T. Male]'], trace['educ'])\n",
        "    line4.set_data(trace['sex[T. Male]'], trace['educ'])\n",
        "    male = trace['sex[T. Male]'][-1]\n",
        "    educ = trace['educ'][-1]\n",
        "    line5.set_data([male, male], [educ, a_width[1]])\n",
        "    line6.set_data([male, s_width[1]], [educ, educ])\n",
        "    return lines"
      ],
      "execution_count": null,
      "outputs": [
        {
          "output_type": "display_data",
          "data": {
            "image/png": "[encoded data removed]",
            "text/plain": [
              "<Figure size 432x432 with 3 Axes>"
            ]
          },
          "metadata": {
            "tags": [],
            "needs_background": "light"
          }
        }
      ]
    },
    {
      "cell_type": "markdown",
      "metadata": {
        "id": "JiNcUAt1g_i-"
      },
      "source": [
        "## Animating Metropolis-Hastings"
      ]
    },
    {
      "cell_type": "code",
      "metadata": {
        "id": "xLRHlB-0g_i_",
        "colab": {
          "base_uri": "https://localhost:8080/",
          "height": 453
        },
        "outputId": "1340a41e-af40-4aea-f42d-571d0c6d6cda"
      },
      "source": [
        "with pm.Model() as logistic_model:\n",
        "    # Again define Bayesian logistic regression model on the following features: sex, age, age_squared, educ, hours\n",
        "    \n",
        "    #### YOUR CODE HERE ####\n",
        "    pm.glm.GLM.from_formula('income_more_50K ~ sex + age + educ + hours + age_2', data=data, family='binomial')    \n",
        "    ### END OF YOUR CODE ###\n",
        "    step = pm.Metropolis()\n",
        "    iter_sample = pm.iter_sample(2 * samples, step, start=map_estimate)\n",
        "anim = animation.FuncAnimation(fig, animate, init_func=init,\n",
        "                               frames=samples, interval=5, blit=True)\n",
        "HTML(anim.to_html5_video())\n",
        "# Note that generating the video may take a while."
      ],
      "execution_count": null,
      "outputs": [
        {
          "output_type": "execute_result",
          "data": {
            "text/html": [
              "<video width=\"432\" height=\"432\" controls autoplay loop>\n",
              "  <source type=\"video/mp4\" src=\"data:video/mp4;base64,AAAAHGZ0eXBNNFYgAAACAGlzb21pc28yYXZjMQAAAAhmcmVlAAE00G1kYXQAAAKuBgX//6rcRem9\n",
              "5tlIt5Ys2CDZI+7veDI2NCAtIGNvcmUgMTUyIHIyODU0IGU5YTU5MDMgLSBILjI2NC9NUEVHLTQg\n",
              "QVZDIGNvZGVjIC0gQ29weWxlZnQgMjAwMy0yMDE3IC0gaHR0cDovL3d3dy52aWRlb2xhbi5vcmcv\n",
              "eDI2NC5odG1sIC0gb3B0aW9uczogY2FiYWM9MSByZWY9MyBkZWJsb2NrPTE6MDowIGFuYWx5c2U9\n",
              "MHgzOjB4MTEzIG1lPWhleCBzdWJtZT03IHBzeT0xIHBzeV9yZD0xLjAwOjAuMDAgbWl4ZWRfcmVm\n",
              "PTEgbWVfcmFuZ2U9MTYgY2hyb21hX21lPTEgdHJlbGxpcz0xIDh4OGRjdD0xIGNxbT0wIGRlYWR6\n",
              "b25lPTIxLDExIGZhc3RfcHNraXA9MSBjaHJvbWFfcXBfb2Zmc2V0PS0yIHRocmVhZHM9MyBsb29r\n",
              "YWhlYWRfdGhyZWFkcz0xIHNsaWNlZF90aHJlYWRzPTAgbnI9MCBkZWNpbWF0ZT0xIGludGVybGFj\n",
              "ZWQ9MCBibHVyYXlfY29tcGF0PTAgY29uc3RyYWluZWRfaW50cmE9MCBiZnJhbWVzPTMgYl9weXJh\n",
              "bWlkPTIgYl9hZGFwdD0xIGJfYmlhcz0wIGRpcmVjdD0xIHdlaWdodGI9MSBvcGVuX2dvcD0wIHdl\n",
              "aWdodHA9MiBrZXlpbnQ9MjUwIGtleWludF9taW49MjUgc2NlbmVjdXQ9NDAgaW50cmFfcmVmcmVz\n",
              "aD0wIHJjX2xvb2thaGVhZD00MCByYz1jcmYgbWJ0cmVlPTEgY3JmPTIzLjAgcWNvbXA9MC42MCBx\n",
              "cG1pbj0wIHFwbWF4PTY5IHFwc3RlcD00IGlwX3JhdGlvPTEuNDAgYXE9MToxLjAwAIAAABRvZYiE\n",
              "ACf//vWxfApqyfOKDOgyLuGXJMmutiLibQDAAAADAAVQSrRfODf9+M4AAOqABHJ7tgmX+ICXLFNL\n",
              "ZRbCoC6Cxe8v9J3KQZXNNRRszq2YtiXV/ECKzVH+dW2bgxpeo6vQsqhZwdfyFyYkKvwj0iu7WbCX\n",
              "TBe5e5+YM2/Olso6FCCzi081djniwpKD6pVgGJrdoHlSdX4cOF6/21T0Au9ichqE5NRYPS1f869a\n",
              "D0/xgfz4kaF3ifLkpNm2e3x1qpA/MO7WPix6JlpVDXl13Q2U+JsJeROiRWevxfe72GXEy2J1hwhc\n",
              "w3lfoaxKkcVgNtlKMk6ogrPPcXNg+8hTtoIAeuPDeQ0hDWidYj3NW7t5ECu3kvCu/HuXtWATC7Ek\n",
              "k4xtjfpvsdte7Y3eQNh7ZYSBqFeXmMIGIUzwMNTxxp+cdS7JM3r84VKWzmTYpZDX82QMGyWwlBed\n",
              "3QSMK3tDt3Wx2KJz4fVz8NGx7b1VsQ/APSLz+D/ddtoS1rYn9vLvVXWYCKMZBwjFdoYHUMAgxiu4\n",
              "Sf2RKj/0Zb0VV3VCi/6XJsva0MqYv1FyuSnMBlmVoGiLd+e7+KOt3/3/xsQrU/BosW/uTyoHuctT\n",
              "FepttYV59FueqRYIkjA40+Y+TgeMLEbcn4TsnTxKOqGFs4GfBl1tqg6U+4RUdUx2VCjbubqn/X0T\n",
              "UxeKqv9rumOudPb3+XR9dYgiZnCqAeGmidUE0H6MZ3La6xKm3R0OpdkKR+fnOOin+gCngHykk9G8\n",
              "0UuxmDplpZE4cKKzUM/A/TqKy22IYHP0ziiPmSBclLwXkWLfSTd5J8hk0z5GKCb/19tJ43ixjz+c\n",
              "DnbkuigcK6PixyWEx5YON7b7THpz8f433t5PyGdPBGYyuGwcnenc8h+J++DoCwDWXPeA+bG2JAxI\n",
              "KWQ6B14eMAnAvdXfBbFJP8w3BvvSjuCEuLBXB7MxnHDsG4uFStZBtKM6aELSzxsGe56xEpV0BZay\n",
              "JH35awyhPfs8fMWhyrM0O2dCztBTBYRBkTprhCMLTrKkYa8qUJKzRRTcHcNgsrRUMNsRE44OomIN\n",
              "8rSU9qypbvtsFT/YbvwoWWyVy4RzxixkImwIgfa4nouVq/5AEtrpoWsfSu2fsB+ihvWUL6FRit23\n",
              "JIXyWM5XzrDtdJid1X+dGguCrK46vhzjdR9ZwDqqifLaMeN9AHl/zkE9dgb0LpbXagb+3nLLrJ/u\n",
              "C8QA4L6ukxboy3zFux7ZOvRXawGe6yEQa0K3iLFCDT5VX+4HxrLvnNw2Q7jEOqJVp/IREoEOsYRE\n",
              "gsM1Zu+VbuG5rabtMlZOmdLNcasByhyz3nM5IMbJaC0/vSUYAkNgKoPov/ySi+ObYDPiXM1r8AJr\n",
              "p2g/o7+fUVvFzkGqr0jVvSylL867Gf125ta9jfo+5xk4KMNJr0KxN4SMfW0cTtw6ROAbUaQVTfOp\n",
              "3gdxJl2EfPBiPzudCYW219UBOQghuaDIqam/8CToamS8vOQDYdBmu5jliOxprjKoh/CGcJJzZlUc\n",
              "r79ERqpGWAfDyYCu1X0Irjz+Y2eFmLvWpvv2dmhhPshbPoN6ZbhiJa1WKVwXokkZak2Xee6QQ2US\n",
              "G4l87UfAY7XGgE9U+G/ERhUws5vTVr8InT0rvaozN+IwmlOfAZBq3hePJPinViNhXYDqMioX+TMB\n",
              "pUyLbP7UUdss6hnCiers+XqLbvwJwE0F4FoNzfAyF//jwlRxvbraz/MkmMOJMntF3PhHX8iBFw6J\n",
              "MRileCWSZFRIRA1A50vm/1XobsBgwBZmodp9yW9a+lHrefjTjcnvGiU0/NtNF+YwYmGUh3cYfaj0\n",
              "T9KKO1vFTTlq7pvz4GLE69ReHUyt3tqIFoI3W5HhdNt4FZmk4H3OfxZGYosRId7Pp9zjBuP5Boj0\n",
              "PDPGXcHLOY0sBr/wjEennzNcdlsVm2iCppQe5IgS/B2Ug1TMTdh07u9yEhKb2x2Uo4G8berUdCTT\n",
              "XrBdkqTmBl6oLPrJYj+mVSDJr1qMxbMXDFPGZ2l8xKeNfitf9xvtKVFKIeNvj80NmUgvhs5cgth+\n",
              "1ATGCte68nHOnUpHgIrGTbIzxQbmXUbRD2cK98acda1MGQpUEjESbV7ygiGiUV4kR8tKsJEXVQjt\n",
              "ycGnryEP4ab23ojcsaZWvFQCUay/jwRor3bQ/X/NjSjA01OY/Ei6jf6rQ/p+KkPjjuN4Ijfbpel3\n",
              "Fxzn4EWM1sGPsi/hJZn20Fn+ouqSE7Gv/yMFVivdugUE39i8oOr2pXAQsCG26ugVjVH8uZAfv7jW\n",
              "gcpBy9jRzH1XbQ/hx18+IDV4TEkpm3xzN3RT9k3LP7qKnIkwuSr7mBGE5sx0AspQO0mZzrntYVCF\n",
              "/HtGQYNgsfY4ENumrCLBMGXIlyJh8D8XkBAJwa+L7RAgG8giRLU66yVh2QvsrLDvR8Mbr/7avKp8\n",
              "uUo4PqJpnekgOSeRkLbqCgAlOEeuWIxKvtgX3j+7D8qedbqfcs7iaUGX7LyqZmT79xNc2HUiY4M3\n",
              "VmC3qQR+i415NYAgLxcQtIBnWA1M3MMr/AZee9FQvVBeVaPmCqoU4bYPX6pE01AwlcmjAUiG7KHx\n",
              "5ZvDFIprhhoCaDKujEn0ohOTkQ7jLiduhLZjvzujvo9lEzdfkUAGs/n33/7lZ30UpxHlQNIdL++1\n",
              "G66jXiNa9ptR+02/F0PcoSK0fVqhIiQJVhL+PIUbTdWc5hAApb+YutjkPlH/3eEhi/wN7Aw13Zjp\n",
              "N7SezxPuqx9MjJaBDc17gtuODF4O09XKKgjUMOs09GPfezbLrC8QQdhuJN2JQuAIj19JwReR4t02\n",
              "oUjhrQtZc0nczGFMkganWNLIQvbPUm9vAF15tY0o7LgB+xCraK/QzXhXEQJdfObU/6aSUA97DGGy\n",
              "VA94xz8+aMpLg94ybDCBjDGYg457b6GOe2z0CvzbmXKXX2YWrHRb9ElZV26F6ngH3rAcgYmEBxiE\n",
              "mmqXtnIOmkoDt+8a1/MkCSAA4KqLFRQn1zxfd1NbjwSOZvXinzvisVk/Ky0IdQzoW2Nb3CzSKm0c\n",
              "KO82glpzfYLtf43gOaB20g/VdnzYUmQLMxXOLMQ/oz9QX1ssfsGpkh6lyWN1LWhIGz6oSz0htreX\n",
              "/oZMBgCU8mTLB3jRHbf+efqh9qcv2hcPX9AMrlBn5G2yFg9+0rc2f/jZ4GXr6n1Z7jRF9W9MxI/7\n",
              "UhekllCn17P2UQKXFzsy3Jr8uvCu83d5Y2g9uYWEd/PUZR072qKw/zGJUeTuWPMacqa0CL5Rg9Gd\n",
              "RcUihF6wrODXFLC/bwBwKNHA1v+z+UOU9IRxTYBd8Lm06pWSOnswxlP1xxmgPCoSTrMabUPXgYy8\n",
              "eYnEXzDpo6vmu9E+oZ85gbRBPAtWEW8zzYLyFdk2/tFVWkEv+TvdmkDiZQ2daR96hjRPTB9Y1+aG\n",
              "HYZ/EQYHbaL8oPMVOwsPU7UMO9GD+/m2JXovMcYg39LTZc0q3K2nrO6CCHQeRaQLG0UTjRvX4c37\n",
              "C3XKVZ/LGjg/qTuGLUyEbqtEh9oMsZ1p9uwC5JEhVUWhCpBTnj3alVp11+ziNZB4RdofMTjTqbvR\n",
              "HOcTmIS1TdV1KuNSLr1sZ32l+4RSc56ApTashBarLvTjN6Pczx036/dcgFQu1WneISF9irihxc5o\n",
              "ILkNalqxUM6GQl4jVhRbfEZyrVDZ5BXnHhykwgapXhtiO1iehNdDOLpbbOuQhr3YbOGt8QIM9Syu\n",
              "voe/o/O/kIdpqEac4af7qHx9XQxmFjFvPtSQ7mIC2ojeyqFHelaBvt7fa0Pk9bko+ny2ri9FYpwc\n",
              "LSc7jzPIV9M9QmR+TQf9S4km2+g7Gune04Budy6Cvrny5lgG6vttx2MXBO/pgCbJeQaJ3s5dTwuF\n",
              "eJOkoP+qyVaiHwm78LbLeUBgQ+7zrgKJqFDtdgLhCHcp5PplrfV/5GYhvW7UzrYPilbkPhIZVLsy\n",
              "fZorUWZgDIjr2YMUHoA0M2j4ZQtS8usDGlOs0fWUwW8rri43/gNX2hkix02qBBkhlsAAS7OAVBPe\n",
              "6RQzypvaUP37V0+PJ30zYREeGkyAflP6l5l75JLXn6VDaZzZiXzyfSjwlJra0ZwMlDdWEAfAKw31\n",
              "t++Xl4oWyxhjoI65uuCAxkD/9az7hXaUb0iQAqDS3MqPObrG+2qnNoEb+s+JGMITgQsFZTNS8Jqf\n",
              "53EETj0VzXKHbPvehvhmlAaojegLn0KQMOLscrhz0+/X/nVwuZAvoVPVAdRUFKRRdswpepfBDT6F\n",
              "57oydO4J5cpBYon++iKQEZCZrVDr3mU2wqN4AaoUDgqHyMHb0yRO4vTTzbrrbunMln8F069oCegQ\n",
              "v47IGgDOrY7/HcsVow1yvKHD38JHQVQvua3t3XZ/qpeAQk+XGt1OV2oCbLgC+czV2VVyWjhv/0Q9\n",
              "xQRNBpgrqhLiSOIb8s8jYWdmKj233e8KqCUX0UzEcVhnG9ENCYTrKLcV6n3KpFejmK+O2egM1kEr\n",
              "32H1549Dd5ioI1kxB/rLiayk4co8qWWMV+EaZOy2J6w2rxo1WXCAYd9wjzyaxCQtzfxIH45ixRqb\n",
              "Q8mfzbWnVVgIK6AZPn8MceX/tvMFLTBK7/zGDd0xPmTwEp9LkrmV/71D/fcOu2QnOu2myeGRIPyY\n",
              "SjXGWsZhsSp5LlKg2ypCjxIq5WCwstiOjkiSzPKnIM+ZOUpt1dNezORIHTAscQwXLpnGYMcUR3zT\n",
              "1dcka1WIprRdeUKN7JrBsLVP7EzquUJSZtRtiE/zf8o4eXaffrGyHJmV9jw2N5/0kndj/bjtmaiY\n",
              "JnWUaPiWAZzpE8xAldCuiu1GmkAX0k1W6lcJctfOnG1SpATGbjLnuUnRPL2DOwqOfGqkF+zEziOk\n",
              "V+VG6/GXr5bDSF8c52NuN51wLUOXkWNrAfnJOPXHtwocP9Pdovg+Ys50Shj25JYuUV0O56EfVLBJ\n",
              "wwZamht67VqgxvwSwW9FwcalUVX6wXkavNkohDGswwzJLVM/sdzHeRGbQDwXnkGIRstG1BW28job\n",
              "KcQP0XQcK33HO71JTHenGLVfMlbYeghVZLandU033PhRt4qkZ5sKrHmUZoo57uxLsFL7IaYClyV0\n",
              "x1r+3yg2RuX/ZAgyapJWyH4bgQY7NWXYFGk7pd1j7XG8f4VJyeg43EFVKS3aNUXOiyxdFqS9LdYl\n",
              "I0OyVnBnqP+aJAP9VksNoz7l0ZKab9ej6H8o3SrFIBVwVs31/sTIcnM8aqpx3Zw3crZV+9i+BhIm\n",
              "B2gsS5cB8aA06q8CJRSbG3ZL5OhYcID5Mz+jQ3bW37w7T3SKA0BAfUQgPNM9gNAwXuJ8PGq3BGh2\n",
              "GKQclHtFD1cegcVOezs8jjiPHJyYRdr9/LCovHISbsz0RlDJurewDCg2B9r+30LpPXgAF36E6iCt\n",
              "yyAPGMRGdFSFunsy2wGn4hBlFUg3Fq+sUgGIit+uSkxVEBSGTBzmhWsFATxxFUnpCUqV/hhcdcmA\n",
              "FvtYgETdGj+7VtqsjAQGH8fYtLSxVUvMrXPezSNd5bejYaBdmkIeoFJFZ5AO1TrNfuKLKUgBbCW5\n",
              "jqE43rXqOP8CP8m63zt2GR1bI4ztbvTchCgFibr/kZk96GSKZLWmdlHA0MGS0QpV28vw76u7JIUv\n",
              "fIkpewCANS/UDZzD1BmxJClBTEe9PvP/psZU6Q9L0jAvn0Y1rYpDutyjwmVUTGl9jMdogveknvGa\n",
              "oVPuFKk6teRio8RILxaQtzTJ4CxsS12AlPdVBGi4Q0ll8yOao2BvMWYdZWS3O974A0Qxcogr7phb\n",
              "JfkaxirBmV0lW8oZd7Yl1Gmua08W7NEnBhAeYxAKokPBYlH7WwT3oNhShX8wXByY9EDv/SPILx9z\n",
              "gDJTeF2T29HUeT6XvIN764RCEbIebMndn7FEVMoXzy/71NThPSIbtWFwJFtg9XtEH8Fz38rLVzWB\n",
              "tKbnJl9SPG/p8C4BfuhmyxMoDm0wFXEjLx1tf1rgX7vIPjytNlppg509+CN/9E6i58R/QUmtPaeB\n",
              "XOHjdee/uMm9wgxHn6j8wMww1T59rVYljPu1hd37morFzNfmT2mu8ZtiQBcjsJAqR7BWdBrixUqu\n",
              "5vp/7MczFGLUoOx5Fuw+3OKzIeaRiaMVdFrwZg+azLKxVthEjAuWLwo9pZ+J6RR8bVBfiR7noO+j\n",
              "qIb4UrAkAew64EzFOvO+7kfmITCAXYbPbeTplIghS8KOIOjbrZhjcSZ6SYIa15XHN9FS50SWmOW+\n",
              "3zU2wNbVizUfDXUi9WnALCD95Bg9aesIvwT5y68sbtejmHMHibjQaM8V55x49kH6qpYOPx8JMJtB\n",
              "PKt6ttK/tytCelwGQvonU61m7/6m7aabAI9zofDso9gL771UgHtokWcUegBxVudxecrVH6BA5w7j\n",
              "Qi03Hqnhs0nLC4Mcltapr0MEFFWdV2pk5TczGbANiN5xSHtsXjPSwhRtCshWotSOqAq3FLFg5NpB\n",
              "c+2jNEoWq5lVVoMOMmk/XjYZVWg6upMRizvVZI+2z/6742cps0aCXTCjA4EKR9U7mZ9NURmIpkv+\n",
              "5KYJ83nUqlZkE/u3dBevn0Zi6fhmqOsjfcMp3H2wS/ImEYGOTSb5qcVGg7M/ibKHFUmEYGle3cs/\n",
              "rBCNxsjRRlrhf/cgcHf5QglJdmqmv3KE6+/6+QdmK4s/A2MAAB9B0eiz6+eDSto08/35vtT4FIdO\n",
              "EnVlRDNoLY1UpZhCtMatlS5rnL8AjZ4TrI7Yw96fUMiDLW3U2igLgBgeaaqgr+v7MfF60Y3fW3rK\n",
              "CejV6RHl/AV1ap3naZD8Ij+4aBlgkryPcwo6PXqV/o1l3KN6/w8LZwlfHD0JcOfD/ah9Z2i+TQPE\n",
              "8fdpb3vS5lNCPPq/brqq0JHYLHssx0VGRU0rwpxE/N5olGYeKMSOUMHmBAQQAs5hDti2B2Vkh+Wo\n",
              "QJDprA1tEu0pL+d9RfT6mofU+Zy6r2xnYOF5e2ZsWICqqGVqAmNcYkEAAAGRQZokbEJ//fEAQnyd\n",
              "MaJ655nnddL/sAHSHb4MOfT9574/+/pC16Dg9P9hUIfmYMt6jzKKCAT7AsWGMB+wYKGsp9Hy8WL6\n",
              "L/w4oeBvFXnQk/TiEvv9zszXmE7IBEOZokJ3/T8wxqWwGiGGaMmeHUxMEwAqHsFBtwqBmrRusHfK\n",
              "GFGfVL7RR3szwilpO9giSNJHzXN4HEh73ShrUp3uJ/y2LeiER31r1bNCPjcIoeC6Tv5fORA5Xjkm\n",
              "aeHeTmJa+zBzbSYm+hIvcyq6FQV0Fcb+U/SLjdGXDSNe3wrNF7Z+luG+oBcEfKuw2aHu6BYSeJYh\n",
              "NKIXUV64KqjJ1jpi5nnaNL8WsKe807SSVwQOMVECQazp6ZHR2R5PAzsYpqadlLMPC8cOl18O2OYW\n",
              "haZEJMEgvElg21uI5LV0a45yzkiAxi80K1jSByBw+LrzvA6ALG+AleHfE8jMFcNGVhKbjb3p0Tet\n",
              "KTnnn8MAD/fPON81IqcY5bzLB4/pOaAY9JlRC+hDRa1UFCeDnyHG9EuqfHnozaQAAAB5QZ5CeI3/\n",
              "BAm77s5ELaNAAaqL2xEdTD80MENobWKFpFRml37+r3sz7Z3s1TTB2ehbJIIHiTOkOwscIZcAcJvP\n",
              "vrwpHxkW/HgmdllMeNQblcsGqFAYY0rMqx25S94BXhsshnzGuJvR6JzgAwuxzjRS9JgNWeMoJU6J\n",
              "aQAAAD4BnmF0Rf8FQb9NRnb8T9IauoN4VSkYAZpTpi15oaOnmON3RgBbsFq+wsk3JMjetQSkvRf9\n",
              "aEeeDqUJtO36QAAAADkBnmNqRf8BHmJXDEsmN/PKZ5dy6vPaWzcTDMlSpR1QAuM4nIQhnX6XCY2h\n",
              "hNcv2851ZGwCNQH0H6kAAAHnQZpoSahBaJlMCE///fEAH8d71AC/cbWqA6ST3AdAPdA26zD8urMI\n",
              "ONjwuJl+J34VB8RXm4OCA66AdD31hC2qX/UcJO3CyZMImN++dFn2z4TB4qfW451wBX/dAT+f7Sy/\n",
              "oJHpGS4PXosIfHcSXaTfLn0lmDTg8l4huZFbaq1KGNC3h4KsG7w7swUMclBQNYMe8PJRgeGSnj3S\n",
              "vIaDZRm/kCBruFIg3PnR4u/LIU9SzuzDKlu+snViHjpqI+9dpYGI8JHKb0oeSq+SqBR3/Wm/4ggw\n",
              "w/HWlyMFjOkQEwKwCikM+FhNRsQGY5TgO39aIHw361b/P/IV4KDwr/Tc13Qb/1NmeJ6AjBqPk59Z\n",
              "/pV0Nek2QcF4qG2ux03/+sD6kTGTX1FZoXImDHvKN1rOPe1NZLivRReAG1lFIHRUdr19ONNez0/0\n",
              "kzKzrk3LdjeMPTF6la4UhVcyzW0AqLHKl9A9BfNn1y3PvhAyAY5drDDusOAH/OFHnVB1+KYn4C3n\n",
              "VW6lAKxey0RhmYcnitbA+wZM165v5r3A++ut1nwS9ipIgotEtUXHGr82ihJPWiNw7bnGsI2RxB10\n",
              "lqdzFV0i20CXxy4uT5LCt0JjZzksbt/h9/Z+5DGiHjBwSACvgjqjTxDtbl4xMLm+3QAAAHxBnoZF\n",
              "ESxvAiU1TekAHi5ACmN4JmAhajKIql1UmZztzOJmka7aKObWe40LvaCVGXiFDoK7kfBKcyosHJDn\n",
              "jJVAUKmncMySasOhtL1fp8dtYpkh5sH576cbhr2rIGf1dOGBa6TAEvbPrCK9UgusJE69irMsfa5W\n",
              "aqC1/5N/AAAAUAGepXRF/wWL3tYj7Bu/nq2zoARfZiRNEc9fkrhwDdW6D2AuiIK97OYw0WECaymA\n",
              "p+3GB05yLUt++0NAGAI72Cat2Tlyd/6ynZLpyETdsCghAAAAWQGep2pF/wWIY0uQ8tDYj5VN7ebM\n",
              "sr4VyhYARZAiVqbEKJYlPuegfUpOLQSs1cUNhS427KlFJomJb11ETxIWr7XQntnqhuvD+7Gxu8Vi\n",
              "/kEv6mUdcoH4pWx8AAABR0GarEmoQWyZTAhP//3xAB/CE/cAmu71fuu7t4trSWqtTbLnoBsXVIvb\n",
              "3qvezsQy16I+VIuA/jDpXoKt2GX77Hrsd0EC4DoeybYQEuxG320ULycm6Tv3gFDFIT/AjXnmodhZ\n",
              "iFkMl/JEgQfwP4/HmLGr9Fq2nc6bu1F6sV9tQQhF05XUyiW1B/9R/t0tihwM1aRF+ynfBT6MWwk9\n",
              "Lh0bft6Ow0X6b2xvKsxgZQNnMm0pyj1ISonUdveeHw5hU642/IkzC/ZBoTX+rnooAMHl6Y3FydyV\n",
              "l1FrPQD+2a8Cs3j8C7oG01aPTmnO2WwrZ6si0wkcttzZbO1oXGAM9j3LlbKqeWm20I5l/m3CXpYb\n",
              "pUyTiJH9uAFd/9+Uh+XLF3b4Rh2rNhy4OPBOrhJCqmFzKKbueWB2H+fYCqa7ipQKJjUHhwRDDPGv\n",
              "MwAAAFxBnspFFSxvAeOcFwpfy4Me39pl9skHkhbKfL9egGN0qDjFqf2pwut4JXSAG5v0PmgaEJMD\n",
              "NfCCU5fu8+PdyRBLs3fyQYj5QzRlbAgyCUZIRJYU1cAfn4qciKCfMQAAAFABnul0Rf8Cw7jxAmFQ\n",
              "VMpLuAFU+VIOvfxz+ebpamATE9UxDRoFpZS79rMVPJyMVOXtbMKD0hASfMGAEwyayG2RmFhmsNjF\n",
              "c5Pjwzt6pwB0wAAAAEIBnutqRf8BOjNh2HRsaJXv7jQROCZ4z2ungAThnbGAQ/CpOUDR6Nty+68A\n",
              "+oCn0Ejwzbfd0Sy0FxR2J5yIupk8AasAAAG2QZrwSahBbJlMCE///fEADo+6uE/LcyJAFhBD2pvg\n",
              "3Slh8YPREIW/allGq1RvAJLsGXzwLTJ6HYwxxDaA0yuyGMDTlXnr6hAC4TQOs8ZqPM/rc2MfYGu3\n",
              "YDG3Vbe3hrQIqKDUPGG4hmnDtcMfooART6bnlXQ7HAfrebdYFiwmripvosAzb1MixYY0S3PKL2zV\n",
              "GBzWqKnNKDAfRy+fGwvzqtyp+kspIJ4j6NvUxTp3RS9WM+QrhWViCAHY7J8lWymzXPeiFU85HQIs\n",
              "Mq+FdU9dz5jqi/ZJU2KbFYt6GxOcb+2D1mNiNzT9yk0dMFov2Ie9XMzXKOBl/KQ0vSHGM1RroMlu\n",
              "88w3xII2HDXhkTkeqwg3y+onarQ+t00bQYmL+9SG/i9bz3thPsUKu9iO8v/pyby8UVLnnI/Tf+Un\n",
              "lsND6fEMsXV65Ha7II1Jujhsk69lpsm+y5yVf+oxVUUmD3zzwbQ/9RHJ5NUBEUG2moNUutvhZWCf\n",
              "tCIEfiuz+xfOsgS3uIAxIlboCFRUkDBeVxKQHq/8q/1vOVXTIIYeQ3FM81j1OA5mvSYcGQ4wVmc8\n",
              "FM9MRUwd3zQfAAAAckGfDkUVLG8A8kuDM0Xh3EDcfd5bwrjaPDONK8aeBsizyAGy2bDTag969Zwq\n",
              "EzB9A+vs04sF1Gkg0aZ0KpDnWfH3/fShsb+IsZs7NPOlQ/EBmFJIh28UmjKNtNi/wOXs41wX9npB\n",
              "gBaC5/2x3BvPdYwu4QAAADUBny10Rf8AitxUc8xl6MQYWLjLoqCylvKsOp04KZwAnAC1n4gh3JZg\n",
              "Mk+MOdnco9xYPfo+4QAAADkBny9qRf8BJgp6jhqTLSXpbnNu/sUvz6w4OvQh+IoCMOQgAVhYYwUh\n",
              "lr3gsCCLfs0Maz0e9M1AIeAAAAGdQZs0SahBbJlMCE///fEADo+6wZGUGdIgAVxdD6WvJLvoYj9p\n",
              "Lg+AHDfvlmxDHaYdPEy14ZBBMMyrmlCrYiR8h1ydHXFLhzjpx77WvQcHH8ExR1vHuMAyAoS4rRNM\n",
              "5vroK6vvSWgKkRT+4RZgV+gFBPwF9u3GrNu8KFujt6Q5riImwStIxEUV8mX26oo0eSp6SvpiFl8Z\n",
              "d8Ma8qImbMnELcEV28t8EHBlPGDVKUfbojVAqv9dVgGUM1mXnyRz1PQTv6HgjQlNV8J5+0AkQYLQ\n",
              "aNi+3khC6wYepIBY1OAe0vXGUTfXpTO88PuFMPRSYwLf1gjWL7wlRlphp/URJG/s9lzqOrv09nXs\n",
              "1x0uVFv2O1YOtBy0e0xCXIpEB1SHI4eyn5codgCIsNGX/UbTCaFcs7e9/yc5SVHUYXRJTJ4rLSdt\n",
              "kWzkoLJpY8mhFTAkZB8d3ehev6ACjXxbl+ldfSYrAfNVSbzwBC+WVPvfusQaIceDMVctmBUmm6/P\n",
              "4vUv6kuCfvW/LVgzm6vPzNzdI1ngNRmFnqJZB9hIlsd1ZKMAAABlQZ9SRRUsbwD4S0NEJzqCIkkU\n",
              "mcOLPk5/wr2b5ZqrEmAfY7hUytQaVoYPiqtaLMGiCoFr9ogALYvtQLA/K10wy41hYasHmQAddamw\n",
              "c/xnqlS/q119ny+oq78ShQBl0zUOMi4wLuEAAABaAZ9xdEX/ATZCrBivMAC52HPBvNLvmbJB6v08\n",
              "vGId4+ZU/+Bq7P/YCCkrsYwOJE2Ls4owD7eDd8KCPXFiD7kd99LOMd33kkGibF7sc0Az04FloUpK\n",
              "u4OB2tB4AAAAWAGfc2pF/wE+HFsCUaYAWv9xCmNEnkFuAa8S0MnAo2xZ+tea2DKkKNbPtdZIDehb\n",
              "dcHNm8dX9xXK8fLNPLeQHxE824uHjoxhDKLC/ldU6BagaiivTIETODwAAAFkQZt4SahBbJlMCE//\n",
              "/fEADiJcJS3ADMpPZadk/opaS80oFg83jb9kZQdX6k5VNqql/YlGR3CcVZfZNVTf0itIYv2wkdMo\n",
              "NjoT5SecIISWKQkuFcuVYpnezfbSfz+crPGjA+9H+6rEkhKzAycgXor1WlL6/zXW6n0mWcsxbbno\n",
              "6HsvfnjLfhd+mtVQfVw2PhmZE6y0/TFljlpImVjxTjeT0R4Bg0LXo/6F3T/RQSbgghQ7rDxAPRJN\n",
              "fUNMz2pY62WW5yIccNrme2wKSuJjRpXhfoUWAggXJBeKOb6qcybTMcC3DZA8qSSA6Xvol9nCa7/J\n",
              "QxoWmdj4mhUyGKNR6hyfK2Qbosz/js208DQ+u+VM5IEjyDHlAgnL0ES0P35jJY/MxTWHdcQJMlcO\n",
              "w5Ld7bPxZZCJ+CpqLpRZZjOTIV73mwjAh3lhpJYr12DgYmZSZUDUWu/acyUF0/7XtDCzsoHJDpSM\n",
              "4VsAAABsQZ+WRRUsbwDzDl71yvBml1kAHBTVQKrdyKhNjpYOS25Ci19jgO+hsZEclB9neGDaR835\n",
              "7iInIFgzxE4HKl/9LT9etJChH0cWSaYfW56YkGid4V2P4x6CuNW0+VsOFmaI6DyhuYewwAo5HFJA\n",
              "AAAAOgGftXRF/wE1uKQkSsvbtGL5OzncGKD+p/bgOxN1ZZNNesQp0iABKT7Bbh5aR07WmqvXW7Yv\n",
              "RsU0A2sAAAA3AZ+3akX/ATWgRAjeVVwEQARepPAwAC2mpCjXLww3NNIi5bd6P5xHcL6rgA6F0xBL\n",
              "1a/4C/GCdwAAAZNBm7xJqEFsmUwIT//98QAZsHN7ly0Ic0Qnh/Ye6AOLePkA4JtJkJdUNd+pgCAP\n",
              "KvZWifs9rQ1XPpL492DhlQ4eMnFDe/DUdlU7iWG/NaqXx28RiUnkL7MRqqaG429HnXYh6CZ6sJ+v\n",
              "IOFGJ/pMcB9h5u+Pm5fG3BwYKqD6okjRSSVWfjJVswoiQWMMaFSlQcydH9F3RKmqV/fJrPtmSikc\n",
              "Rhce5RbhBAn/d29hEPM7RgmQ+/fughcDn8mxP9sYCFJYLHur4BXDJsTkVCwVpBOi+e2a4pyPBykY\n",
              "0JdeS7epHq25VFXyscwpEQNk8oEkGF3m6EDpMcvN9Y/acejlCl2f3nibonL1njxNmC8FC8QUbFUm\n",
              "Aya4TgjY8HApA1s4ncE83Oj6xH4bcaZvF2I2XhNIuD8k79d0l9y92ha3bxpR2+oMxFSjJJMnN4/5\n",
              "EKfMXNe+Jm7+XK/eXakPUl3nfaxTS4a8OJG69X/NOsBycAqtgg7EDRYSdUcZPpLCdIwhy6L2T3B9\n",
              "7mJG+2qTNwP2K2R8HDJfAAAAY0Gf2kUVLG8Bt+LZe4XgADdDUWkmx/jLTi63zFuDKum4TinMy4CI\n",
              "DuOZR07F9fe8xEEqYQXdxosIKWBnbY5TratetLnI2xTDuzwq3xLFyshW2HGl1l4iQihuSK8cqWrJ\n",
              "uCASMQAAAEcBn/l0Rf8BJkS2zwABbSACH/OB+5OgwAYGbptXL509bKP5Y5D3tqJV3ykwg2MwdldR\n",
              "RJCxZMEvR90ad1oTypbQMvRkG3rqQAAAAFcBn/tqRf8BLgp6mgSwQAi+4rw5N1QBK6gdR7mJCYjI\n",
              "4O7NoSXCsmt0mTXKaqGQmKSC1BmgutmeAZ/doegBLeYRPGv5bCW8AvoDKjbQvcNliZLmQPB6geEA\n",
              "AAHKQZvgSahBbJlMCE///fEAHDMI/AC3f2EX0fru4wAgRsv11DJ4YBKPSiX/ZLG8Kaaxg5Xj3gQB\n",
              "GlVD3LzsRa1H7a6VX+hXdgm9qznfMuTGOiLA1cAqgzjhrxifUlfJgc2JOSqSgulGPQSMlu5HrEpP\n",
              "sESBOKr59XfcBrDrZ/624chlADm4AncVgcN00Zd1sltSpp1Vb0tObaYplegvQSroQ3439Aqag6HI\n",
              "MXIA44zVEDFQ2Gl5L6PNbnRCG9b26S8BbZHj3FZDTi34ySDKaxDk9/wGSaFLOZF/fmzukBxZSx4E\n",
              "qKFW+BU1v+X+b23SED+YRn7911x5AfJspemC2f+//HpeIVA48SqCxBJaWDK8xQJHl/TcrAPzSgTt\n",
              "rGkjibfHLmZSvpRrSVhEi4T3dTlBFUKElad/QWGA22xjW1/uBK3cLSoQheDLqqzaTs0JWKrq5Dcx\n",
              "07iUlh64sYvBfD3ADxEMXogcPG2RGwctE0bCAOz2okYROhXj5eCMgGEZlozZCCjODsSW6k4xGWiI\n",
              "yTsj+BvfTGKRZd0GQ8Y6cWgFFOTmpPII6WM8QrwJBXY5J+NLwui/YVGGDDrNCaGsatjShip8CK8/\n",
              "RjKrwBEAAABWQZ4eRRUsbwHkc/jjgf7ynJXA5sfV5I2ye2W8cbXa2pSg9cqCza6hd1HMybwszD/n\n",
              "E2ugIJ7tn4F56UFV6WStXdoylX5MJONWneI3/F+epZnigA6zTZgAAABYAZ49dEX/ATZKBYADdgIr\n",
              "e1ykKSoL0Yg1jiR0fpsihtbhvZLPWXh5IRtfV4F5joBE59EJWD83/zcIeUeQFoMDZNL1JE8f6H3/\n",
              "VOlvfTWnz/OWf1DoDmOiwAAAAGoBnj9qRf8Ca+U7MjBACzbBXzcJc5RYtcXi7JVy5UZsFjzdXuIV\n",
              "g4siKynDsH+tT4l9/i3EZ+PP1UWoEo45+vpNC/LiSTASJx97rRTuNL57/AdG1+xiOW/rKxU+h3As\n",
              "t3ZY0DVuGiADIbbtAAABgEGaJEmoQWyZTAhP//3xABxPQuPwAEQDlu9koj/524Qi6tblPMKnqPmT\n",
              "JTwT9urxAencweQAYJK8EftaK0NeqWRSnZzR5dXfNon67NKdpK2o6oZjM5QbHxiJNpgadYn/dZka\n",
              "h+K1zu+++3w5/AbF8NJoRcX8839d3Ve8XeTAO7pOGoVnJbYOG2fuj+HFVY+jrEA6Ri5OmgjiMns0\n",
              "Ridr0rPh4KEC+1hwyqNVTbtJkIvBZkMegmZFC9Sf4AIPDIHaV7DGSsBGtQUakWkoVba4S5EHMBA9\n",
              "vxADyefwEBPvzUIcyV1QjdNOGBtv4MqMtKN54rwPDON5hRg4fIiYM/iXTjg2+y3qRlCVKNn6eXYY\n",
              "TKdclivsxhF6KqITMGcb3shWxP3PGUoCQBEQ3UwGAvvzvygajUcOu9/uTt4fRaOjYxLYLiRJ0LTi\n",
              "hWXs2hbVqilVUMHcv6Df8iaQeN3h7KvNpI77/Gl1gDJFbzEiziOvzJGjOf5rijYuW9CRg/QXweAv\n",
              "mgAAAG1BnkJFFSxvAeKRLHIBgAQ0PanGt6z7o5sfSV+SAL0gVabw1hHbVDAuYJHuCezgWaXHb1VL\n",
              "YELiupN8wOG+uPYtU6lbT4izKHe3duqN2pb04vGWqGX2qG+aaTD6TXObPSc4TRceDWl0B8kRQSWB\n",
              "AAAASgGeYXRF/wJEISJ7k3bad6FGpRi3OIvACLGzl5rACyDbXY9ZIUa5oKzObs2aFkNNDreTJpGR\n",
              "HHvrq90ZamrC061EljvtHf4MYHzAAAAAPwGeY2pF/wEdnq8YrH2WB6qb47I8by0JDgZm7GQAZuAk\n",
              "eFBt82NfBAv8aZacyZEWGxT+lK+8Mq0Mji+BAXRcXQAAAd1BmmhJqEFsmUwIT//98QAcT0N00v7U\n",
              "xyxkAE5xH7cb0hPUo1VeosR5DXOOYKrbG7cYyYrl6BFKPjD37Mvclh610guohPNihJuinYkUGqRR\n",
              "6ixjWfsoSkBR2B/Nf/qPvUqIkJ5LuiU7q2d34bX+UK07RTgSGgUtha6zQzD5ZIytaI79OCu8f5er\n",
              "5SDhfNFh7f9BLdOHgBdBR/99wx/baW2JaAa+mbaIBTZLKVkibCvqDXkIT276yi8mvNc+qoobDUWW\n",
              "Clxtfw9JJGr7bZA+yIQEEjwpNJe70z8NXhsaozJQTeDStQOFhSzm5RxOBoAfGs2fhyd+2zQ49vZb\n",
              "gSbMbhPf/UHbPN+VdwLORWLRrSCJJQkN2qOSl/Rgnooc/KWQy/cf9E8Y97L+JhDz58A7G1VVZHtn\n",
              "FcO16X/G5ZAMi5cLWhuqGw5b5VQEbtnemO18Gw0x7QSzk9lvTSqfb4mlANFdUWZWUdeK7Zr+v0cW\n",
              "Z5sjd9P5Zice9J8ubhz5icYiUEI3egl8Zne0J5OAvysZL8LNS+0WRtbvnJvLBhBMqYtydOP7HC1c\n",
              "xDG9GQ6KQsfltaRT88OuWfBASHGEjpLVOiHEuxdRNxCUsKqOo0ZeEOLBR4SaCDn7jxcnlW6AU3sA\n",
              "AABuQZ6GRRUsbwHikRSfND0gENNgu3Vzhf0O/LqWkLvialZRBdVnBRsipkIGwWfQwAkkq6pvWfY1\n",
              "2hqS0p0GeEW91OtwbIhHUgsmhjJNETD8t6GtG6nvwU93DavFouLp3fRTH7LN0NoG88WAYOdwqcEA\n",
              "AABKAZ6ldEX/ARbRIgBmECKHhXVifO7fdDFRqUbGRbBwZRO0XW0puMF1YwxdlsAx3VKMNCwIqOaZ\n",
              "Xr1kenF/JhsqBGJt20afgESgzIEAAABkAZ6nakX/AkTSXgLsuAEyn4iMIgc+Ye06lelwITNjHOx3\n",
              "XwCEcamwYh63wBIJL0jBkLVSvRjnICLrg4mepFDpnTyAsf3Q73b8R8y/HcFrcL+SocaZ5ZfVSUrg\n",
              "tvQSYvZgFNQ6QAAAAXlBmqxJqEFsmUwIT//98QAcT0RDsRUABcgAs4u5WeUBpvF6WXLbvAsg0qFs\n",
              "7SxlFBqNwVquo0mT/XEmZuDe7qZXVdw3gmkhL2SQIap0Ox5ubFbzHy/6Huj/DMa/DAeAngXd1LRx\n",
              "3WfZtYtGudTV6bt80JKit4So5dgzb7H+cxgadQ/eYOOgg2Z1A2l9nvFeFcg36+wHmOzoV4d+A/LU\n",
              "UCHg+TW3l+G4C6mxfLHaPYwJ6wRCZV2/llH+ipciJR8OHg20C/SbAo2DgcEsEGrZGR1q5qsxcEwa\n",
              "2qO5Fr5U3kkiQPbJSE7fGG67tyc8ydAZvWWgWS4qnUjW/+zhn9EXvMTrqRdOUuoZFkcKV8imvGlS\n",
              "F5xZZu+borlPya/fqtN9GA6yy4pTRK7o1blU+0Cq6F54eQKWqZ1LEzpHTiyL3/+DCndK6DfVjGzo\n",
              "OYpaBjvB5Cc7cp9TIbl4e1xM/BxON2/Mdl4BgPBnPm6q26aLguKOX0dVYfQxLhmKTgAAAGtBnspF\n",
              "FSxvAeKRLFCPqOH3X3bMMpwJJGwr2bGnNF+/WAhACtCdCuGHeG/B3O0zw1Xab1sq87DnGKxkQv8Q\n",
              "RWZqx7n92Xy1Yh/H+bhp/QMpVlzgXatAVcwnv7907qT+DOFzcnIBgKtQ9nPu4QAAAFwBnul0Rf8C\n",
              "aYVafgAAm0Nj2xvGNgA9uglE0yc9e/0jeRuRRnKuXr5c+jtMqbJanI+sHqUJN+CLLvVSK2nBTpp8\n",
              "x0+hpDQCDY7SsZyvldS/Wh+3z+K86M4AJXPPgAAAAFMBnutqRf8CWMMu6+MZF4k+eccPvhhlQAs5\n",
              "ABE4+Htlvh9ib/pRycaJYImgPsuSAr/q4/ufSpScL92y8Fvooeg8qkVpbLPnIjcWHHPB7W2kAF7B\n",
              "ZwAAAZxBmvBJqEFsmUwIT//98QAcT0OYbwAQojfVqOa12IDfhHi1a+fNHV6BZVdYu4vdaw44NdxK\n",
              "ivZkGqCPuc+IXW7Hu2DypuYvhEOelE8DzllEgGlXCTVhW5ra+pFfD9AgeH63cETV4pwlqGTOw2Cp\n",
              "kpd255uv8Jl/ZzF/PVOTVy8JdDJbilB4NuhYSeIBfGU5BIy4U7Jg19LybVtol6fSNby7e+Y1eRrC\n",
              "2SsaO1sRUVwk7syzteb2OVjanUoBmTf5k+8+Tnv0pBNcmpAo0jkkenv9Rp1FQVfqLcQqPWKDhZVk\n",
              "wdXxlvEFPiyC9ib12Eq7T9kqkr3sOjZ8qlHx/WweoSunlL4vk6PxfUJoeIumChcNl8ye8oHh8z+I\n",
              "X1WN4jLhDkDrHapdO80Fu36Fw+5GVJ82z+wsLoteGyU21Q8EQ9FZwhk9t+IJM3QBCm5aL9R8sSsK\n",
              "NSLvz+ioHVnM4ERX1FsZ72BhS1fppInrtSO7rpcYVJjUNfhb7Z3tG8DQljLU9u9NfQUW4PTpRj0s\n",
              "8mB9j6SMiUSHVDad+d8AwWZRAAAAf0GfDkUVLG8B4pEVRCUhkriobJ7hy6PnKpSw9aRfVO1N73T3\n",
              "wALaaTmSm9lWpwlbaPnZfDvgHV5Gz7RDM9HOvuaBy5CaG4rujXIXMDY92GQ9Tz2hZpgTUc2Vpo/G\n",
              "13X2Yb51Q6aB8N5KIuJidr/xa8+qDasUE4rFR8+zQ8oJ7ekAAAAvAZ8tdEX/AS0kyA0ZoataXmxm\n",
              "BF5pE6rsePixrwpo1Q8eR3QAIgFPnVGZ5gPUD1kAAABFAZ8vakX/ARZiZFSQAs5A7hyyh0n/CtdO\n",
              "/tqAueA4PXwI81UfWGuJvm+e+C80AtSBiW/Y4P+eytaq0izlD/DYG7SR8BXwAAABYEGbNEmoQWyZ\n",
              "TAhP//3xABxRrKpAXgAaNm5z/2f5n04DKUvhAGk/ggG5Ymrj7ih+KOQQKQYPbYYvKPD13BuTOCwp\n",
              "PTBsTxxP73bW14nA6W6xqjz2xzm4baJ+Wjl7LUGXMLsybq9oaQO9HyQcCpTJnto3dTdvQMMcpjv6\n",
              "XwpdlEbW6FM33tKb1iIB2xUD5co7aRs+3FpbsrgvDCLHXxG2hh8TWl1Rs5Vapadou8IDLJH+rq8P\n",
              "4zxS4G9HpndwQVDyRrw14u6JTBDv77OIt7l0NmUqT1o2V4AA8d3HdTzWpLpdKXq8vjF2qV9wIp0Z\n",
              "/A/nUOHvzgcrhcUkArWeitVEBCFgDbsX9lXkER+Q4jOCy6YmAabcauLBpLIY6hihXuQNp3IVHKOh\n",
              "2z8H+5ozc2e86jRLTYk1N9vEzCix6gU1cKlHLBDUUV8GpHw61HQ8RI1s/A+N4hUfF9uwMeJV728c\n",
              "bWgAAABvQZ9SRRUsbwHiugjFC7csAFK2f9TVK/m5R/c/7FdmDKYOVl0Lnc+lQsCDLFQnDs7EeVCp\n",
              "s40jVcQsvZpVxotJGZlP8S9InGD/LgMqvnZVN1fvTyDuDmz5niSNy7sQAsgPMC7aEDJ99BkvBqu+\n",
              "4l7tAAAAWwGfcXRF/wJMZcQAE2iqVugu6rz3kKnZrDRkLNGxLZ03FvLe7KbpzY49YY2x2Wl1UbaY\n",
              "mOUIF4TyEsRe/coYwHAHXnDoJB8c9bVJ3Abal9WQDhyeUkOO4AaOnzAAAABWAZ9zakX/AllukBAA\n",
              "E1m2jsFsCEC6TrYlUImqfdMwcPxj0/9xgDzuAddnGavHm9kfyI/iUw/rrIq6Rmb0klUQOd+dDz8i\n",
              "DK+UZT+7xNVglY4cAAN00DwAAAGiQZt4SahBbJlMCE///fEAHF0vvA+Z1gAy7lnXJO5HhMmR+gxJ\n",
              "2obC9pbnsCoFvKwAnsX2hp2QajFZH0QxMQ8KKJ5sTiPrxBjWhWBndLojBGg5d+T/Q9H/oCh1iEaQ\n",
              "SWGd9qN8+uPr/jHkJv0eWuugfhn6hXFVh2Fio0DNg3onk2aUWe/B3D7M62n8yYD4W1r7KjCw6OEN\n",
              "wt2ERuBRLbgOtZW8HY4KLepdJthWn70dx/Vn/u4yst78bU9AzGoWKEHAJWa7LZoSVS/mm778ucmk\n",
              "6778Jorz/iCIfMQmWUPV1gCRGfqq8CJs+h/CEQY9Yr99AVVrQKzXxeGplF4V328kI+5k1xioV8HM\n",
              "BzE9HWG1feqPDHVb2iYNc5SGTCLA6slAxSrXfz+/xEGRxw1wh47ZmRCwV3PxgljmmfRmHis5cFiB\n",
              "U68kwQmaMo78o+FbAcwo7j0QJz9SC7dzrPtXb8TQRUE1RCAXKDjnHG4no856pSCcjO1nv1DUPWOr\n",
              "ab42ab8ItbrZ6gxR/kz8klu0tJuzUBPjcAzfJPSrhn7ugUmOvBlAoQAAAHRBn5ZFFSxvA8MsAMUs\n",
              "nacAHGTNDHM6qhzfqALIATLwaHn42ykZwRgU6R/sRuWxmRMhHL8ZnE76sflf3PYkGIL+/Ta38VTM\n",
              "Upr0wKa3OYmHTY2mpk1XmrwfyJm/G0c9oljzC/UkeXriyIUKlYgXNui4DNop6wAAAF0Bn7V0Rf8E\n",
              "eH/uW5IATSPrJsAlWq9dNNlV7tebV3gsRw68YFsOCPji0PK0NhDNnrdgMnngE8KKiOwZ0JoiDL5Z\n",
              "aWBWS1NQnN03TDMNF/ntlUZWq7UCwwceyBIkskEAAABbAZ+3akX/BLfKYzH7KJe2iCkKPkugBZyA\n",
              "ClE1R+rVu2ZCfsm5QPFS05xbZeibVFDR8MbKvYjvkPEjWuAaGNnwLCWDTNZPyt12nWxHDdtmMMHZ\n",
              "7QOeX8AmdhdnmQAAAURBm7xJqEFsmUwIT//98QA5XgG7q8ygAlH7I3rGtGC+hfz53Rhijrd9x43K\n",
              "8H20b6hea5AezMdaMEdnP7DNHxdmFn3ShOYXeECDMU6rnVxFfUw3lQP2rZy6Lxue3O4kTEkHdNfO\n",
              "hDj7DzVlf4bn4heD/6jvvWrjQdbhw/w4wU8kDpqDFDA87B1jl+y0My329HRtep2QioY8RCmUS/IE\n",
              "s9wCKk1Y1f27RZb9NklE/QqD6L9mZe6Cmpoui265ZdGipEbGokRdOV7dxn1n7tU2IROFvi8JNIbJ\n",
              "ZsHRv22IxmhHlaVqUtpCebr5oq1FZFVccejUp+xLmZeZ/AW+QYhPaSKRzFRLyJgzaaZCPSRHHQDh\n",
              "+zii5U91zko9CnGWPQREYaRPVYH7ObCUVWgssPXABY/MDs2Tyb6PDogEQBXS0Ci3omG7EfAAAABw\n",
              "QZ/aRRUsbwPE683KvDLK7gAnYBiyJwpyCBpQ8vo8n1j3PQOIHSf1PPm41h+0g1dpLQBz9DUEYeqT\n",
              "ADTvs3yBdGmuMO2Iu6CP0pohR5ld3qScD6ooKdW+8f2Zqry7JFOa0Q3BcUQZ/VSjPzwchpTTQQAA\n",
              "ADQBn/l0Rf8EtJOIJ5kvNSlHDSUZQhBV8VWbOgBFkBBBPTKYNVTRykVfPnRsPToUWXQB7f6kAAAA\n",
              "UQGf+2pF/wTX0nurW+zBAB+V0hw+RH1e6BfZwhIfsQ/QLQCge+UIuKMoc3pMttuOahn3uC3yNW09\n",
              "L6orRsUgLvN0SEfxMgsaKeN42HfYCmjyfwAAAXdBm+BJqEFsmUwIT//98QA7XYi4ec7vpA5Ded7A\n",
              "C1nd8RZ41SjzTZ6KST/XSn6Q0aisKW/+vwosFfq09sKoi8NVEXfYjOZPrsndiYil3+bIsOxHY3t/\n",
              "aLffqfKUzBY5V/nG0d1+jUezX/VufPCaeGirDrsyhsYh3tvekxSsd1aj8ZKQItG5Vq4uEguhtVlT\n",
              "QMp2QH5Au4T9MOQQmshGGPCL0eVLtJkH0wzDD4HZOreKLWijvPqk2gfk3rs5IsNYAE/xhRZ0CHGW\n",
              "SKGMXlXq7Oyu3hXHepFNLHH/1wvAQDEg8sZEBqy1THZw4yf36ltgrC+4RxtzGZzIcW+oVxnIhjeX\n",
              "faeQCsP1eHu4cGm9czkHpDSF4nErmzQOyWtg2foGYfOISyvgNfi7C7P34C/XVDxYzLtj7RNVwmNq\n",
              "2S7cmujtNCplz9X8nDYCCvw/1oHUXlYoOGER5UD2PyVenG65ij8lYv/la9TWxRRW9CKMrPEswXK+\n",
              "o1eLs2MAAAA/QZ4eRRUsbwPDN/Bsh1moBu2MdVEU8dcvEeW339arjutg/iWeZRIjZYgLwJVk1vwr\n",
              "uN3M3iJipA66G8CKurjgAAAAUAGePXRF/wTWmt/TUMiFuE9QwCjaQspA/kAAK/4RvpmyMEcxTb7f\n",
              "quGZXEEfkbxJG5GdnGItRihW5hIJasFJIVp2mRhOO7Kze/4jHAh5U92AAAAAVwGeP2pF/wTVdakI\n",
              "EMaZt3ABc2LQlo7d7trHO+2Zn+lXfrba1nmk7YTFuGZrHpHunVowkuVGYtH+kerVypNHFBXGMs/e\n",
              "8LjlwoyYew2Om3j3tp8xKCAEXQAAAXFBmiRJqEFsmUwIT//98QAaYfhDq5braZlQvO7bAJW/jFRa\n",
              "z+Yk7NrpV+rejlwxFc3lmBgA6F5qTaQPGkQGZiYa3/QmUsZtGQP8QfIRAvt7BqX5KLBKC0UCqeaj\n",
              "OmVk9Kjjv8SqLK4ur41v7baKtxLXpBwZoOoFRoL7C8ePHa7LD8fw2rUpvCwDNWNX3tJYpSt33/1M\n",
              "aCgEzXOfnggdC3FXWgMsJl/tfZfgreYAoKxr3kh/KxCfuFLR5spkC8voXvZtvhDXt41pTQ6KKyhx\n",
              "gYslOu+SgN0BL3YpMhT5v/mm5JK6a8M/wMZzPbDwjiEML5hEg6RrCUiSnAyMSurZmk2ux0GScOfQ\n",
              "j9e3NQF70StNzWn0a2hy33rhsgVkqnjFqHt2XFLxnvlDSomAEjVkxw1/fntPLSkG26sspO1G9tla\n",
              "5cBlXLb1TY4Wrmq1eiHM+ec+HEGY4058h+eSdfcZWipvcLmQ9hhDP3cNEwtFHkGshWwAAABQQZ5C\n",
              "RRUsbwG2Tu3dVL2WNWTQKyTP9jkLqYADNnvt9Xe7fNBnHpgBl57j9oEaN/Rclar1tNu+odMsk8Dr\n",
              "v8qdz9Fd4chZdkzJ6tZUv+5ALaEAAAA1AZ5hdEX/AEduFl/qEVs7x8XxOz3p1g+qAG5jlRbBcCIk\n",
              "MLblnL6Ouul2HS/jBbr66+OgIOAAAAA4AZ5jakX/ARZiVuPOvRFfI2HwR0QFk4A9LY6ay8zAFTzB\n",
              "7pP5L7jk4uUZgboAcbcEpg6D0VSAAVMAAAErQZpoSahBbJlMCE///fEAGmH3ccvQ0AJYQCg9+jZH\n",
              "Rv1kKkJNQcGuuVpzwRfiIVcfcW66pB0aPSvMv++3T/5AG8ctx8XlU3rEAyRCrq1WVHuzX3K2cYQK\n",
              "3cOAYvd7PYI3gIrJg7sW4GyNKPHvw7cRZlSPS1p1z/xZuPA7qBW7fO5bw/QZvqT5/y1zlMfP5SVh\n",
              "ROIzIYvymdt4xg6wQEMNjR94Ot8atTNKUxV0iDdx4tP2xEksSIyK1Zqb/p9dS4BnbWqLeiuiusXV\n",
              "gJSBkduqmckJVjuvgHydiLPe05zY/+erFtBrNLYtnZRxUI6OMUKS0qJ+jbJWqQvfG6MacJJGciw8\n",
              "spYo4diP9KaOdWToq1XMNofSHAQOTt9UwrlWuIzp1cH4KbLbgpfF2YUAAABUQZ6GRRUsbwG26S4Z\n",
              "4KIc8xYvQIpZj355fF/NIAbGHm7kytXSiJLO5050frZwyUvmRP1fdr3JX7A45YRicuC2eHm5ptxj\n",
              "nl3CQwh2u3QVkrH3NWEbAAAAPQGepXRF/wEWRTHfgNjKe6cgazVs3zkinD1LVABcmQ9EXIhoKcJU\n",
              "r+vx/T6rZjyDKB90kKUw/WSZQB4XDoEAAABMAZ6nakX/ARZif6wQRPexgAJrAI+Kp1lmIC8SKhl+\n",
              "i6v0Yx173vjRvIOh6e5a5qUoPteXvTulUjLQUPbo4KmClOtEr8sT3k9ge4A3oAAAAchBmqxJqEFs\n",
              "mUwIT//98QAaYfhDhbLraSokQAbEtv/fWR+xP//573xyUg6YOaZuGLxl8uTfQd+cj68E0fwLqNAe\n",
              "a6UhZOYafNLaZDs9xmF1luiZ6gjdTJZ2sz4ZMhvaztmMgfZK8mDMaGzrXeaj8mFx9nJzvMcRk3Ps\n",
              "BUHDAGt0vaMFoDpO78QzhQISb5UEdvulM6oMq4pSPVnkLIdffBHZnUtITqVLtIAGQzbsj04v+Yex\n",
              "5x8U2IbpVrWoXar1rzzCwYChpo6cO88+ot44biRcBcuYwgfAwX31ozgVt24zAuB0ZCo7JTdCUltB\n",
              "u5gvprLjqzT8DOYlDZNfKeaQyf+OcoedUK2MK4vvIlvYj0sKnSO5UeziujORJNBiphpNr6zPaawV\n",
              "wLoXYmW9slJqQAt4becW2ndcDMx67z7i4mEOEg1NnjdOmM3+E4i83bxz4LkFB8CFCeFEU4UMm9c0\n",
              "GWRF+BbqbgHvP/IHVCFiUY268sJOFv0Op26vFpBsmAEdW8fqc92d7GEZ0ykgVOMgocFtQGIeG34P\n",
              "z1V0eU8nz3UCRFo3fBtpJVLnJvBHKiH4ZCyHFP6wlcomKmS7pBGQdh8aFSRp/gzPP/wAAABIQZ7K\n",
              "RRUsbwG2Tu3U+f25DhX/41SfK6JQwqI/rYNwcUxDXR8KfJiRkHFPfH8XzQkCCJOX4IXPR8XIypcX\n",
              "widYxtNBKGkn+SBhAAAAXgGe6XRF/wBHMOl6dJHrQABNYzPJygka7kQaEjbk9YZ2QvkS6WtsxFoT\n",
              "SjAYvGDXeRcGPhrsXNo5Aao31qxZSUS6hrIFh5UOtgDUUfGr2lpRvP24RA1vyT0Urxe4CggAAAA+\n",
              "AZ7rakX/AEl8z3JhndejG0uMFypzNm+ABbTTeTWca99XECbdGu/XiZlCfD0NM2JNkqXxmURIzd2X\n",
              "kigAUEAAAAFYQZrwSahBbJlMCE///fEAGjzR6sNkczKgAEFryaPVSeS+gHtcfBwQHZqbxeVDYkWL\n",
              "uy2Rf0UvmD/ffNchpgtjVUdlRZbCqDzLJMsx+vM38cDLGjFgM3+h20mkYhpyvNB41nKjPSzqbEKh\n",
              "1Sbm6IpjSsN/wTXUB+P5R7vqidsQoBOgCmMCl0i0YNiibVo0G3B/SCp/hreTr0u2e4YoQ7JSATB1\n",
              "T+FSPvSxagmTGodXgFSPS/9CruSv05TO2T6SBmpwKvy57bL35/jMLFMolDtRosB5286mYyTM+PeV\n",
              "NO5H5EL5fLsF4zLGJA0+LvCBSgeZRsBM2JzD2Od5ExZixefPbacxSZpXn/yimlLkDO8D20DF2n6p\n",
              "KBq9REPttBho2qz3yF3Nyd8ZOu41RlvJ4BxVwHcj57a+UZMrK/g9iJeMNdmXtgSlm+/O/jJRYewQ\n",
              "aKx+B8YAdWV3hLUAAABYQZ8ORRUsbwDdWz8jNOh7BC5Tgk/TQxsy8H/ZF2ZBdZ58w+OwnPcVjUcS\n",
              "c4dWr5naSdeN4gAfkmY6KkT8uJcHWqdujoUuIT691YICtemlHCuWURousNAEbQAAAD0Bny10Rf8C\n",
              "LD7ta7lxZ2eCY4L9hnlAJQogIAK7BacgiBY8riE65A4z72vFEDjxvnvXfDsaAOuE9BAGF73RAAAA\n",
              "PAGfL2pF/wIi36Jto5Acecj7WCZoGDypU8U/8IgBayye+9yv/wLVhJwQaA0xC2Sx0JFqw4ooIArg\n",
              "AIk5NgAAAWhBmzRJqEFsmUwIT//98QAaQ9g0rhLaDACE3YnVuVykKlGvm6/T23GZmnHmh+YTq/cU\n",
              "cJ7xTribfbomMsXSGgZXiHFfEaFitjSVK2E3T883KbjJw+Tm+Hz6oDkRjwdfqk0h40TcqExIbRNW\n",
              "reIC/qRRiyW7jpn+lWcJfC1yUqRUNnTKN9qo86r0lI6M3Vudv6encVH0gChEF9RUuoFQ86+qfJ+Q\n",
              "JMOFKBYFCqS+KDnhhTNC2iC7drws7s0EHMeqLkqUjKVkQvGId/3mgqkRBdJE/tISuGeCxIlhuRdS\n",
              "8gKQvF72fMuZWGghj/rWZQfHCS/anqSTC4MjcBlQ8ir8zmrsDtJ87q2lu6ifloN2La+bR18ZT5Fq\n",
              "ildenvMWG60AxXQbdpug0BBQ3cy41v9A/UBZr7pBzOXDr6rtaIInfYuwOmxrNWd6LO7cHKVKhleY\n",
              "ke1vuOX+Vy/8CFH4WOJzIWP1CXi61s8HG9AAAABvQZ9SRRUsbwHB7Geh7VYALnDin2ThgxVXj3n3\n",
              "KNdshNLmiShZ3nue58GAg6gWbHypDF1HBETdNcZUAo0h1ME81k4KGx+iSZViGdSDxrVsq06YrDj8\n",
              "pAO6HQjnMNxaKqt4HLW9vxHJcgWB9IHZHK2BAAAAWQGfcXRF/wRYfmEbdkzPGKYAiQ/DxTOfo3oF\n",
              "n3QaLb+ek+CPjXYwpYcRp87NGVcCn263YLCGeUC8kAhaoaZC2d+YtVDIGCAZochDnbkYwyNRzdUN\n",
              "Pi+A1QQ8AAAAVgGfc2pF/wRVd6RscVCHMpfABOu7uNvLxOFzqmVDeLW9h3Ez16oS7Hu8tL5w8QjD\n",
              "DvH0Fj+DWJUdk4V/y2UIHQ7q+2Xb61yXMuW+v2wAJLEdbYCu5c3AAAABU0GbeEmoQWyZTAhP//3x\n",
              "ABpCQhaaRcLngA5l0gRwkaPIODm4jxQG2EUjUMHrweVxR0dk5s3plWbK9LBQ87V5rDYq0qlbBtqy\n",
              "KrRXmsNei5/XT4iFiH4guZ4Su0lAsckgMpLF9Uk6eTAIRzSEsGhQGJTo73f3oGF6elp3IPhRD5N8\n",
              "Ys13skjrW8BzNzjJ5gRc+TzEL3eR7B5L2uDETNrH+lbIDT1JacTRNgniVyyi8ZB7XtMrlSd0mN8u\n",
              "vbPav9VAclOM5JYyIiebXphx37jMvsb4CivWsJmp52/pi7yPrhmGIB9jxmuiCUyH9SA0Za1aSJkj\n",
              "nEdvCH1kCtmbzvSfC9gjtomiQN6p73NeAoX2kW6fyEO8GqGrgx0jIQ3rVKscgdBkE0zfHmgcVIqF\n",
              "os00CkL7X0oFGgPHZ70DHW2xn1J9D1E2JDjC7UjGsoI+dYCx7riM4QAAAGNBn5ZFFSxvAbZOq52A\n",
              "AldEaKxqajk0GU9oCImrVmfA0RXFYQ7D8Ky0Iye5pSGaAJxjO5KYBVH/l+WOwUcqLsgkkcJlGnDO\n",
              "GwbHNpte+Zaf0XR9Z2yYCjc/+8XKE6oAGUGAbMAAAABVAZ+1dEX/BFh/jLrdpYtDf3pACzmqIp2s\n",
              "prjHYCxcZiOdznVj1hj3sm9Hql0397Wqly9NAtCXrwP38FYBTk3rwfZJfyv+UNsVGEIYF6i5G2mJ\n",
              "YgBBwQAAAFMBn7dqRf8EVXejFE5gAOJTYwZAy4Vi3acXAWI1iZSp8a698+loygg2m02K9n4lDq86\n",
              "0gYPzfKtjXJYvU4y3C5ZnKLwmbsE88mpAQp3raNDmZgGpQAAAatBm7xJqEFsmUwIT//98QAZwfii\n",
              "3QANnmVaNFHgD5PvPkf9KsJr6sNV3DFHJIvwwf9ns80YSeAUOHaVvKR+cPpoCkLbG7CbZVKJjUWA\n",
              "T4/6R3YecTy984TlupEq+3ykyzCieOyr1R5YwEoX5nzerWhkJE4Xc05OrqH7UN59VcJWaxEn5nSa\n",
              "ZbtyECpVcnaGoGD/IiiPiCWSG+AZ4LARWHsn+5B43IdiCBr6uN0vAJ9u4UxPrmMyMOhHNvCZQJCB\n",
              "JcZvLoTGPTDnHhZ5z426ZcNBnuW+FVbwdgo2aoxT/5lf/y4Ymqth/trkoPwNezrDAFHv58L8MzQ3\n",
              "5IqN+8jylpxv9iNW5v8KHrI7v0KKe5pfFX8LtBpmFbxAV3QSB2KXFAWZIV4/W7DbriHpG9U3oZHR\n",
              "LLEIH4Ol8KhnWHhID41pDBnN3s1CaMzCZSkFzZdK/IAAYjxbs2wX1X2uCuTl8V6qEatqB3v8NKp+\n",
              "lsyZ1RCPtztDUboo+qS3Ks3ub5Is+bnSYu+CbO2sDQa7LYYa62FmZFITpgjU5SEAJbQNhqwb79N4\n",
              "QyoUwctBt4KSAAAAZUGf2kUVLG8AcAHfGoUG+AAHEprwn/uoSxnxu42U1cAWBoTWN7yjejooEDfJ\n",
              "PUCMwJ6qMUWO4rod6ndZ+6Hxh1NfQrJTa9zeoFsunCfiB5X4BjH2e8vy5gGQOtVZrmDw1P5UaUEv\n",
              "AAAANwGf+XRF/wBHbhZi3MABLYbXGq0mzFfxiIPIcWL1HauB1x5mxHGhtWD8BgmJrzq3M+ze6fM1\n",
              "AVMAAABIAZ/7akX/Airi2gBL40LeqZCzUAJKGadV1oRP6ihrqJzP39yDnFwkrHLua+aiisnR5iTS\n",
              "AiBAdz4i/Mqf3csyuLC/jcL+ALiBAAABgkGb4EmoQWyZTAhP//3xABnB94tIAFqQ8Iuo7vydWnbo\n",
              "z5raY4L2P/w+TrQPBv3U1YFimlRbOE3QXVy9i5fbjU+ONmf0YoNgR4m1zgucXDvTMlqtfSEGNbIf\n",
              "etpOIg0AwG5/5uHrGJrQQysC/sO+AlPl4KkAHtH+PjCEbh2zLO5tqZWeseRsSR5n6Dj3Vr7eQWEU\n",
              "/+K9eShSorGKYm96ohvVhrIYNheD5LYOnRyFGSw38VkTIGnt2UrCCR+FXURuI/R2xzHWpMvsUBsA\n",
              "FLW3QEIAmWWKXmUoH9llf/xy/NQNuc+OOitv4vYTffqZ9tGf3IDTzZkDuLEsHCxo8Xx/8Pc6hyeB\n",
              "3rW+NaL64DaCSjRiR3US9JDYGFft2kiKk8BDWMUzMzuUNzTtvJZk+shxI9kWtou1dJ9wul7fBkBh\n",
              "JyXq+OstkPdRY3bXBf2Pp7XUdL7b41s1Fo1oagjEFm1X6QKX3NZuM4sqUD/kEJLOb3zxlQGehXuQ\n",
              "6QhPTVabfUN0RBHxAAAAT0GeHkUVLG8BtukuOM8eahnkAWcwtPM8Ogm35iKi/0h8ySQrzoADi0vz\n",
              "KbjHQrsg0wjtdppY5578V6yqdBCzXpfNoG8HwS8/3Jcp+/iAI+AAAABYAZ49dEX/AI0GQLSrtUJz\n",
              "iimdgAJecedFfW8qQox16uw9IN7HeIV1JbStc10LgmboPUeZxPFXt9q2Y4F23ACkqbcnDL/tZmJ0\n",
              "qWnopnNrm4XCuNUHAADLgAAAAEcBnj9qRf8AityGAvF2r8jpXwAWYmhJhwdBQEtr8iQu/TgeUrwU\n",
              "EM/KqDE97ddP2yIm4nbcnOeQXYN5XueAqxT8cY9cNAAWUQAAATBBmiRJqEFsmUwIT//98QAZv2IG\n",
              "gcAJqy5smYCpn0FFXz1Hd+apIAxWN+1UR/nGCcnZO0ITO08EF9rMJP53sIMxybJUQI9NWWf5VtsI\n",
              "7Jjg8av9vBz/B8tKiVPx4I0Il/PGHHtewD6IKlxEa+Dd0htEF8LuscekKozfxFsNW4K5dzYPpOan\n",
              "b8AjmnzlFS7YU+bORIzPrVHCooQSMjavtoRZBxxdsQTYaHt/P1WCliZjWz/jOYTh0/4gZGWf/PuH\n",
              "XzxJbNpwRK8hu72dRRodoIMPBShSNivHSt0TaAKCv2pDF8Od/kEggzhLoqWon6CRC7Cs37WjLRcQ\n",
              "YuS3qZXA00/f1snX2Pqe50VxZMjk0XDSZdi3quLMHFwOds+xXnc+A6NB2OaRCqU9JvDtJClY+1HA\n",
              "AAAAVEGeQkUVLG8BtptJ4XJmOTFJgAJVTaPCPznTkKq/QhqvNIPWSNn4CTFNmFhnWy70C3zbJzhS\n",
              "GPxoHHNEEup+Q+2XbzXNC2lBHT6kRPs23chgwiJPwQAAAD8BnmF0Rf8AitwuwxkJjyYgBWeWuQx/\n",
              "erJrOX9obxhuxPGuZieIao1Jkc60HA3otcBGNGL4crxcGiQmQkmIAsoAAAA+AZ5jakX/AI8FVnHP\n",
              "zABa+gu2R9ET8N91euGozWqZir14fsET+ka0w9FEhASDhwk5U5icQWA3CL7Opj4A2YEAAAE4QZpo\n",
              "SahBbJlMCE///fEAGb9fn11ABa1Jd4zfLe9y6lMZZRoSe4qWdrIscGD4o5l5THbaaOR7fEpHan5b\n",
              "QJQ0CtVvwp9rESzX2u+IF3MHqiX+8p7gTrkxj7RSDRfmzsyXJNTogT2O+dJ5PYxXMbpqNwDwSK9r\n",
              "GcwzV1yaTJ8Rtsd9E62aSa0fGQZyoe2YGQNkxBD575Yal2yqJYzvQy8SGXyIUNESNwdG1XcRQFXI\n",
              "wcsf7oYK84SALBwExWDxGxccM4FmH9kiS+994RaxVsxyA9uDp4/9nvnd76q592USA370yDlVw0Sy\n",
              "JEIG3lTGZYO4YYKl2tLkHoPDIQfHRjVrgATtIZo+NzB1WSd56PBnZ2mS5JEbkUc+SFiwyQ4VoXDo\n",
              "xV3hmAhYaFeuHOO2HN6B/6iAF/g7lRsXAAAAREGehkUVLG8A3SJkz+HRBEnA8rj79fkAAGY8/G6D\n",
              "+Yuzo9Bh+c2SLRKAJFbt10DsZrleSSak1bhCi89GxTzwWvQf1w7ZAAAANQGepXRF/wCLIqDKIPtF\n",
              "01cvgUAFq9PfGMEpgHAa26OlS60kj9i/bigsHihaLgM7A8gPEAIvAAAASAGep2pF/wIpCgA9LgJc\n",
              "vc7AA/GInIgootaLsWF90MAHi8cF/mUSoOG+bJ3FibdoJ+U8qNrtVB0mGhHbgL8T2h9mN8q3cgAr\n",
              "YAAAAZhBmqxJqEFsmUwIT//98QAZsGa/BfADoEaQrAbcP87JNL9FbhUEXsC8lAY7gzAeitL+PQrM\n",
              "b9vpK10EwZQcJo2OmW8rIH51jtcM0LnkH/pS/A6Txzc63h3BojovrhvVKdnqM+PhoXhNbr+wfRWJ\n",
              "3j5W0TE7ceY6LlEKj97i9O75b5q0Bj7ChyKrKNjUzhHGy+q3CywCnvy7nzIl7JeLVAk8lOitCowJ\n",
              "VpCAqKVsFM61IaD2NhOlMRN8I3UUevKLJl+34hKHfjAc+YB0fjKQI6Fh9w4s2dsF10019z0Ub6ft\n",
              "Nr6/0NEzwJ2EsgyP2OZXyTCnwGonceQKiX1/VWfJPtkUzqipter6UaabNffI4abH17j9iX0bZ3JG\n",
              "oDSvsX+YmL6eI704wFnqhIL/Gut87RPwlN2NbBqYF54db8PWMZ3VebXw7Dd2R7kzSv/h+K1Gd9+n\n",
              "Da4ikY4ZKvQ6ESExdwPrXY+21f2/eW9JmRoy/Dnm2fwfE39w/J7WZRERsLP45oC326VOMP9mAuGn\n",
              "zl69uvtPr8PxnvSAd0AAAABeQZ7KRRUsbwG5y5AAtr24mDAq9ABqSq2geu8b3158pSQYxkJ8lcO9\n",
              "h26I1LxkEQXLbu45b7Ijd55NBKEZCQXzigVyRibeBEFW0ZFiceXsrAAeyfruV6dP+/OkydwXcQAA\n",
              "AFIBnul0Rf8BFmAOdMYzj/AAE1jP+ZDSUp4E99vCYbcmcj8ElT4Vt5WmUgZumu4kYzNImV6jEOPx\n",
              "n0v7Sh5YgYSWYS8+OCezvwo8cAMV1dAI19ZgAAAATQGe62pF/wCPMSohl4Vj9dhAAW01IUaQMaPg\n",
              "HPYMkBL5y+3Sn+cToisWeNESCfradu4V9YkO/mghZYJ4cgdqywxNliSK+gBxceAAOuBJAAABZUGa\n",
              "8EmoQWyZTAhP//3xABmlxbgE0nSIteqH0dwGyS4b3+NjwHpI5VFV3Rd5floLgez2EcrhmFZjSydi\n",
              "y4Um+wVuTvX8sQpACE7ev9JUSRt5iNIZ3oEtWwByY7LFAgkSQTn52WrUrCTE/kLm4sqgIQstRpor\n",
              "fLxvdMuKFkgrKtlEKvAF5DR8BvjVr8/dTSevFFlcLzAM8v54QLM3ShkIVFaPpaof0zJUAmKRLKMR\n",
              "ZlJwRHg3b6JGbkpu9NuEzif6EFIbPUG0qYBbpJLhCgpcll0yG82uGE4gL3o9OhdbG86r2OCpRk7Z\n",
              "u2F+pT8VUsKdrsBZzttp+8ejq2RtWdz5kQMf1OlSqrOTZurjmYpkWpUJjj9UxnixW8SuYHSH3SaP\n",
              "AidgSHsektBT2APPuq2Rq+RvhigYiAuqPyEpxAZQ/zxCJUu8isdIkR5URsTMgT8bmO1SUxihmGbj\n",
              "fEK5XlC84q9vfAARcQAAAFlBnw5FFSxvAN0iZNJ4LnXMgBKGpbOvRaHfzOJRkpaElg6SKZC9DX17\n",
              "WtpJ53zZTWzaU+tEkEtgfmTr4784HTMaTcO5fZ3t5pqMBGfoQzCeeF7p4CmPspBvQQAAAD4Bny10\n",
              "Rf8Ajtwsv9QivYNaABa/QTFsTE2Yr3jw8bKDJFVjKlClyKsgcFwy780yKenE/Vf++uYA2e7wHXGN\n",
              "gQAAAEcBny9qRf8AS5Xp4lSxI2dHlx9XZgAG7AI+L1pWxSuRNYiMxnPHMuCexDVQTXsOHTFPN/Ds\n",
              "RuOnaINSmK/zlij/zfrf6VQDZgAAAYNBmzRJqEFsmUwIT//98QAM29HXPXQoA6Tj/nAA4Zl0DCOY\n",
              "rH3Pc3HB4plPhFG5w+uI6HB+3ddEyZ2xSn5Alm00BzdaXTjZMpDtSyhMaFPmbC4NpDcZNNAzSRuy\n",
              "TiS95BnzMuc0l5YyVx6C0Abte4eojY7UuW8Ru95HyT3yV0eK0wiGADlbFyXEdFoNzYB8mF/BMZDT\n",
              "nIZCxa3IdsRed//zXwT2rXcOtZjvfoSjH01tj6W1aqftA4fAVPDQqzdAAlTDj6uWzEBbjtU2trRG\n",
              "gxu5oyLPde3Ao+Ud2BgPsP1zfZ1h4Zxl0PZLdiEB4AKWnJa6MVLgGqrB9Dy9Xr6R+q15xfl1LOy1\n",
              "tAHkzkgysBjaiGPz3whk2KeylahPIGfnhQCALPYNq3GRVaWAkRzOxD3N0hNGJicojwzJeh/rcd1v\n",
              "JqFPWm45kmIOp/l2LA5Y4BCH6Nnx08sheaOkiF1K0N2joIdcWZobTnVg3qZLwHWrFDVgB+6YUJw3\n",
              "YZuybXqMGZeKl90AAABjQZ9SRRUsbwDdWz+z6j2OyhawIuG56AADMecrh6c5qJY0AyFtq678Whzr\n",
              "DLK0IDW1aXCUoPMEGdfOjHZdVVlcQJiG0w7CjhukIDdMzSc0xWjeideq0XoRqxBdnu+6zuACPkyR\n",
              "AAAAPQGfcXRF/wCOODVppHtCAD5uf5roHZpJm7M/47p0PYR+6W6K+P4zCb886Ycd0XqIJRRcyhjD\n",
              "92/MPI4AYEAAAABWAZ9zakX/AI4dTD+FFmlFqgYHPsaML+VyVVazAAC3cjoOQUZhC5JB+s0kCLaN\n",
              "3sIxbTFywCdOpvso9dBrCJ9U8Tv/jSgOda3+gvolXTmrWYIvP9tECXgAAAEUQZt4SahBbJlMCE//\n",
              "/fEADOj8MT4BID86ZhOTtE8jBXoRlHPo0KdUaMcm2spQJTQ/cbik4nl9PAl81aVv+xiX2PEM3rsU\n",
              "FtiqbVpIWY6qVi2klSHcS4DVQa6qiCRV+tJ3QFNLuFuewZv6EvbG7e/0k5lBI0Uy3u7rGJM42TbY\n",
              "+ddqgGJ8ThoAziFZf7UgXSdF5oqoqMDn+4LIwixflthjqPbU7lNWbs2bwlxWCrKwIO0VZQO7BGW9\n",
              "PcFU4YUvXLQ2i19Qmn7X8UgGG7/TABwzLOsBXzaIVW4xxGYwHdIYrd18WVI2DrldNUlA2zlvCoSY\n",
              "70J+3+stVU4JGAPCJlw2ZWJw1PDcrHQPCtCARY+ACVjNSjZhAAAAR0GflkUVLG8A3SJkz/tKQAjA\n",
              "GtThev3HdPVtUCuAAbC7iorZ/UkDuDcL2SOSTh+B7++auuesOMKswUM6CMxouMGvuQy1AAakAAAA\n",
              "UwGftXRF/wCK3DcboACWeHLBFGcgQHo0r1qB5u9rMh8YatPAAiCl9uqfpXlCc4a5rAR+5LCcL+yB\n",
              "hXE2o7JV+In4ZvXfiBn+rE+Q7zjRQaBF0BNxAAAASgGft2pF/wCPMSq/XDZxgC9QAlTQIleRCA6c\n",
              "VPjtifFQhAAjVmUAMbMEXt2P3PdNK0BfvfOXp5p3P88UHvJOjqgiGp6LLjlZAATdAAABWUGbvEmo\n",
              "QWyZTAhP//3xAAzhg27Xpi1gto8DwBtooxdfXyHzgS3t7h9r8xEzRnp1TzEJnwuRlVlvg/A9k8uO\n",
              "wQkJ3g0VxkNnccIgpQimCjZeunHUAvh6lc6D9mOGAq7g/9kbb1IB2VhfKbjK1pnL5hjuM7s8Evi1\n",
              "HHYiFFuC+JtsxOA2Kae73FlZkBepJNxYawkXbobvG/Gh4AgBI2sE/BOAM3KFjQeCe3A8qqqFCg0d\n",
              "UJ7BZuOBEnp2hRh8rlfXt0Z/nRZk5q1PJa60da8f767mDpOLQSWz/KNwipv3dbxqQbYjXVFPnW+d\n",
              "S2c67T2v6WX0nXPWHPgnyPrupA6/vvy1SGVdGeEE+5n/D9efEgdYf24yM6CHg7PYqBavOgelsseA\n",
              "fZROrZxfTWZNwsD0jO4w4p2C/bYGnKAOT68dMrAXD9Eq7gILKt951rNAfBdouHchohpdL3pqSAAA\n",
              "AE9Bn9pFFSxvAOK7NI0919B32UPypeJgBt1pIB+hfj2PACrN/u3Q5CET9Klh+MD8kyNGS4ZDIXh3\n",
              "c7Cwy7UBgMwlPY7eGJS21ftCvlEqADZhAAAAKQGf+XRF/wBLSgXrlxIjiWs0vsgRzL18vyQy6h0l\n",
              "xUNRDawncbYGY36QAAAANAGf+2pF/wEd9KEzXYeX+dMv3743GUABKmgRK+74iFh8JEWTTBdT4DDa\n",
              "xMGIt5rzZOyEgk8AAAE9QZvgSahBbJlMCE///fEADOlXK8T+nd+hCeKr8AcJnt9KhoSmypW9OBB3\n",
              "vjC4iAw8Da8i33RyM8oV6ibFtAxTF/GCXTeRPOt0qSCO4NS0qC71p2rUtQyxlseJdqMKABufacvP\n",
              "anUmdUORD9ol2xl/VnqFKUD5nwWSJYU2bU50vfL2YVhbgUN2Luq7d5F+JnY7tq1XWcVNEbppQ2xw\n",
              "7a3FYDkaN2KDY1TehppX4oL2dggQD4A+soWg/6p3S+Bu3lsWsTpG/9NnTiKtXrUGYC44PM7zFr7s\n",
              "5IXweSkfybHjB0sePIGGUSENvwhTtuPO1lqbgIxei/mZ6BXd7F1/MILZ56k02WrkPnhJw7m5I7kP\n",
              "LELlGNJGM54XhqVoQz0nDkSlZbT4jj11fwH4+pVNMUXC+otIpAOOIbPEqpwxoZ8AAABZQZ4eRRUs\n",
              "bwDi/axSgHcN84b+kOg2f4lCmNOizshi+JZAUFxevZ5SIAbmsAngnBo+liXYP9uOkN0SL6MgG5YL\n",
              "mP+l+oPqZeoeOS21pbTDTAK3VwddYHYSS3AAAABJAZ49dEX/ARZFQZRB/PRwAJrARW+s6rUc2Mr6\n",
              "uR0hVF3IC9jXjkLW+9M81cTc7L2m+BWpNjUbq/lXhZrGw/y2Bz2I+SSzhHfCbgAAAF0Bnj9qRf8B\n",
              "FZ9ogGGvYq9IAS+NAFSoI0umUUipFyNv0c9iI6NnUcTIcABKr74Cu9F3k0bcQhYfcyGlGpuGIEuP\n",
              "5d7unaxU7lUC71gdeDRAWzW/na6yFiUqD6Dgg3sAAAGxQZokSahBbJlMCE///fEADT/03UC8l2vv\n",
              "me1DLjofjVGvmlT3BcUq7gzv9oX5CmxCzfUixVl/5TwLA/56NrMPcC/7xU9uVcc5CCIeypN2q5vM\n",
              "BNItoYJ4bMaVCZSfLJHYs/tkxdcO++PcDQC8XHiPg6Hx6N3f7haBd7fDoQOndkDri1YaUF5QlLgs\n",
              "D0va8kyYUUuZP5d85jijVOgJDBxAkqiPbLEc3V45lfs9GOU2O3K6wTgFeY79asH3EfqYu9i+XaLF\n",
              "6kACPb+qv8Jmju/rPnM0Z5eK9dY67ELJFeQeC5o2SdioOiFjy5OVjQyJak5QNlxs5MA94UJjeLNB\n",
              "B5nN42qGeOjWCKRbNOg4triDXooQSpZF2EPO6V/bckK58JrW9RNRuAonEc409jxiSoZmvSjIZDvz\n",
              "yRHzJj5BmItVZK7IvRTXIS6j1x5zTohaSDqLHEiS2jKSmgrnI4aYq3ZVMzrDEcuZrjCx/GZnoWdF\n",
              "4aOfVmaY42CvLIrxmJgvxpVAxcfwr5ATMtAB/Q7GtmA9jhIC+yOeW3ED4eVXzS5dZLX5QsR5PyyA\n",
              "OQheSNrmmj2Z8AAAAJ9BnkJFFSxvANwkdygJGpidLYdFcEAJM03AOXIhYvd0wOoPmGm1T1NgBS1+\n",
              "Heu/w9P41IXkyr12h7/vN21OgA5O/lqWVbNTO9WGLysZySu+MZVtWBw5vwLW5iTg12O762LC/mWm\n",
              "dxp7MlZRaHdFmf12pMMn12fsrg9AV/AercnL94IwpURZSVnQ2nj7FskOsq6VBun11qN5DHKVMAHL\n",
              "DUkAAABLAZ5hdEX/AJKRDuZ/SX0bfXYARfcV4Y9QhhHEddnL5zJb8T7bbEmuLcKdxqO7azWhsNIo\n",
              "EoOQnmKZASHCU40rXosHMCuaxMAQrLzAAAAAUQGeY2pF/wEdUzXiVPHHrBkjnrsAIvsXx7l3o8e4\n",
              "YPLP0JH93ng/qriP5Ws8K0wldmvHJarjVDCM4aP5k1pp671YbubEQtlGR2lT4JQ2zAAD/QAAAdBB\n",
              "mmhJqEFsmUwIT//98QANK9USkpLoALT1yB4l0DgR+KK52VnPH++4P9xrH8yl16d8ekuE/LUqJos3\n",
              "I6jSR47UjZ6iAm/hPOu973udyLRjfUfZd9ylW3pGA5mBKRF4KutqmaObKJsTxvIp7e4zya9WIoZl\n",
              "9iE+2Y7ds2Js880l9MGul/l8/raotm6KZVcd8TWXUIEMU8kL8cGdp+Q9nkcgH1rbv9YcmBrK3FeX\n",
              "VbhthNtDuaK3TU10G8EiE6N5drKFmnfqwtj7amn+4vCEyTbu4z0e91+1AZPUx4/zcpQkb/IXE+sW\n",
              "R9/4RYX/+38nzSUmtJuEn+CbjKU8izwCx9i3b160BeaaWFjHrofqxfwmXNyxj5cqHfoNjaioWX4A\n",
              "8o6a6hCM58lPhQ0ElLvi0GieOSden5oeLHbY/IFoeErIJagkrbblL2itvtRWfBZpLRotVorwdQvA\n",
              "Svm1pL1wmzWeU8RrE7aqd2xQKCGjGLGUiAgiG5+LcXg7p1yCZYYAnQ6R7XvIMDm7t5mqzcstwtOL\n",
              "BIkVER+9TdcCAPsdayLC0Y4ppvVDvOoxFzyDhA4M53WxqEerwsvK58lNCz1wWTz+xxsQwnCHinXD\n",
              "GVxEBf6CJwAAAHFBnoZFFSxvAOLUpvo+sj3cXiFTay0z1JwU0QAppptebGyWloPwdX+uqCPRvJae\n",
              "6l6jc17p1pK05O+2gt5VjmoALzNOibfg3gPkqJw7+PwQbAjEP2yLqL6LRmH5akW3EDIS2kwiUC4o\n",
              "r5kIxBNSfgCygQAAAEEBnqV0Rf8BHkOmR3VwYmcdWOIkMGR3Liza/JWBQAiyBEr1jPmEixUJd7AL\n",
              "B3PsbqSXvEI8vp5CEaC959dRgc0RuQAAADwBnqdqRf8BHhqKomUgAK79Vv1wNLnHucHFcNWAEAoX\n",
              "AhQA2MD4AYun+ILJrGRxHAcrpE1SIXqMHndoakAAAAFyQZqsSahBbJlMCE///fEADTK6U/3wCanC\n",
              "a4X3rhnz7xPH0nZMLYpX0Q925x+a7rzW+LcpoeLq5ojuot3Gw+imDGM3FVlxLZ8yAI0mGM3i1Bi6\n",
              "MHtXvZneazg8JY7jMYdSCn21H4P50gKyJiBLRbah1CsRHkk9rZyvCUwP3Fc9nbaAAUf/weCpPqkl\n",
              "5gXhoqe57fCjyjV6PN463pENlqSL+brTfd2vKrMMPUIQpDI4K6Br5kPjskzoiVWO/8/6hWE4oqw9\n",
              "Z35qyzX+bNgkU+503KI7did4YDsNNx5tRJm395mwBgVbFjCHxD2j0nmBSK6++4I6UP2C9/OKl+nL\n",
              "JN7TdtWsfQRPSdd7KV76pum2D/gXahhQbNbMb7H95LObpWkGtdyjrido50DmWac9cG4SOjhUqXBs\n",
              "bhYAbNItcJjH+m8Bllj8kQjxzLxdhJNo3mWCQ5p6iWhdpSL6SctQduGLfMlx88ZbXA6DNqIg8Xm4\n",
              "uNgiJgAAAFBBnspFFSxvAOKOYuQxVKsWxgO+UIIcchTxVNQNxZEonlQQNltGzV4bim6Y3m9ACZgw\n",
              "nubwZ5b3pOd1TdD4MeBq3WU3QUm2hGV6Hd5A6IAXcQAAAFcBnul0Rf8BHbhZf6kjAM/GVoAEkmVu\n",
              "rRGF4xohbR8MJxZ7018TweLAjD/lSlwjfcxYApkl+IPyDMC4jnyn7BB1nEopLsTZHgQT3Gu7mQbh\n",
              "t0V+OqyAA2YAAABbAZ7rakX/ARZiXgZACOX6gjQ1lDjzEskTkWE7GRW0mJ9M+Fc6vj7CM5YP8u0e\n",
              "kRfLu3ySB9u2SkFf1IGCFhITri9AXQlTwpr2ud7uSgC25rQvPxq1PygLAlYz4AAAAaZBmvBJqEFs\n",
              "mUwIT//98QAZwfbKp0s1IAH8FkdSKAYMjoxEbNlEIGHTYYlG1cebKs2s3kL+YVYDe8X+Pi0+t/Bo\n",
              "BDz4t76ORIHrbHJ6zw38FZYXz44SuoklrXQvxvS41VkzRQYSMZQ//pFB8PfZx/BkofyjkgigEx+k\n",
              "ggTdWe1ctwUeJWw6puGDbd74CHJmATa7vUBT1aRqtk4tSPJUHIrPo99eIqTE3tSkT4nKnCtUfKID\n",
              "EXJs5eKtiE4bhDKfu3KJlPSH+FOeezmQ2ZlKGBcrTKXqhKNRiH6nHcI16S+fyaL/CUqSS63r33ZO\n",
              "vDfvbqjAR0jj0AkI6QUvLkbU//ZSNOAenWLYFUEAQvB1+qayBeaQjfVtWvN4Og4eM37Bt72tYBGh\n",
              "vHyaU/CE3qhKUp/UUYGZYPIO/AaTrN2JILt8fByDMOefHmw7KSzgbPU6NlJODfsHUFDdbEyt/JWg\n",
              "U3WH9QXtvTlgALaTGrpBYsdghiNULGr3D+SoJjqixKBf449esq7wQ/RObIKZ5+GdBJvqhZ25Lzfr\n",
              "MuOgw8Gl/UBeCeBR4VjJOQAAAFhBnw5FFSxvAOLUqec+kyJ+X4Ko5opsgARQE3KxgN/9xkqzEEIr\n",
              "x37PlP+4oAhy/EKL37xzmMPEfkpJA08XLHkufSxzafTpcYCmrtj04jFcVtRUEcZUqAHTAAAASgGf\n",
              "LXRF/wEduFl/p8jTJKZ6sCABFjZy87VK1R0eFlUsQuvEXeohMOLigJNzlf88KTLKRIAz3L4s0h+Y\n",
              "xG0s6Zv2HHudnCmQ7ijtAAAAQgGfL2pF/wEeYlV+hPDsAEsj8Kf4IXwFw9Y6p7Qd9xfu5x1QxqdX\n",
              "Cj8kCGmKSvlSESwVw8VOt/jQHxZ3jvtQIc87gAAAAVFBmzRJqEFsmUwIT//98QAZwfhITpWGQAPr\n",
              "fx+DyI5MGSsFBPSDJLYT9YnwH8JnLsaJQrAmMJm0aP7hn21pNmJSHaYXxSxGAIi61ZT+E17CgR5d\n",
              "CILD694bA+r7ulWmUyLg1UWlDkb9Kj6JTDcobw0AXmKO34sYVaHUuPKvb8C/vBISjQWfNdHwJkvI\n",
              "cfpwSs2l1svf7uvClCz68bjnJBEsKaH4ZzaKgB6VQE2m1kahIoHS0zxOMTsk83S983LUMn/9kS+f\n",
              "G517xDvD5sX8Fbd8A23iexIf/TJ4lpw1HR5ELdpdoL8p/r8ub5JNAFTOsu2sDLKOvm6Zw71ULPe7\n",
              "lCX4u6GgbN6TaUF7wz8/6kVeCEQR15SeEPJH4/WJ+8IdyHnaMFNvuhH4PWfR3YlfN7c6PDm+RtZE\n",
              "/AMVD693JO6YpCBBhXhC9cmaj/lsE0gtrz5gAAAAWEGfUkUVLG8A4tSwYc0IjazAA3YlAfk+sWk4\n",
              "yNsLQGmoJdcyfvBDQ7VURQosm3HyFYcl5Ckf61ZGIb+Rfbz4tFusS5ZrZ9rCZrOZUYy4GK07BNGj\n",
              "q8J2zgkAAAA9AZ9xdEX/AR24W6hoQAd+EpMaiY3+6UBKsPFkF1Lq9xOaT1TpbG1E8Gcj7IqoXOXR\n",
              "GgzULXjv2aEAJETFgAAAAFMBn3NqRf8BHmJVgq4QAfNz/RHYeGFXLjRWKfU4HtnRO1QTqR/0qnNP\n",
              "PLOXe2GG3yKMJF/yPZbFdX7IT/PxPpBeDgKgcUst/2BvhQWB5TLNljwrsAAAAZ9Bm3hJqEFsmUwI\n",
              "T//98QAZwfd1zzCs1QAWD1o757vC5OLp6aFApLK07B+g+lRP0bwjAcjKt7DR7yj/jCa/br2gi0uz\n",
              "gdHmfXj9BEnpBNNis6lYqJLKQIjMBP0abdFTAkiqNT38UHxP1kfuY15IfQRDClO1AkJcINrDk1P1\n",
              "wxJTAObhHnyVIE++3mGQ7n8xhCiOrq6siVofsiLB5l72Vvlkmp0u30oFP2OVDFtmRIW1wDhkXVvM\n",
              "nK8Rv8oNz0QEJYisVvjSQ2ZTeW6Wkx9oYPWz7FXtgKaSMFaglF9HL5d1ZoJXP3qKw613cRJtxpOw\n",
              "LG1R3f+Cn9BCdW8YzL/sS63Gz52t2I3p9kOfjFwHM9CdtmFcaMujyVmRWy2Zly5KgJEM+v0TvW7N\n",
              "kw7NoG2xKEVkjM50neSKzEDxlci7B/xGPCg4dEKVzz4Oyxuz7RQckyCbOCx5nViqSwuJV0R5Eoqg\n",
              "6aVlTEmd8dxRTVWKOKU1fVLRn8EB2Hef/B+/XJFjs1ef/Xyz2tM8dmdjWDjv+NlgnxLvgSvry3hN\n",
              "+FTGP2nTAAAAUkGflkUVLG8A4oyRiuVWlyYAG6XGmKSQR0KQK/+6/TFwdzJZbm2cXHWRy+68+716\n",
              "CFQKC2bN+YJSbczX4kkDXXAEVN2UaJL8ZGmPugCubXDOjoQAAABWAZ+1dEX/ARW4XYYy4iAAK20D\n",
              "ZCunBr03Gw5oYi28NtXbsXbC2hhnJvIHPXXHz6wzjDfawzS+7xuHsBAmXMGHlbd1BhkQASb6mBXz\n",
              "tc9aTQA9uOwA24EAAABRAZ+3akX/AR5iVwMZ9CAEWJrhezKD3ROrVENxNv+H2Jg9LShA4GafoqNg\n",
              "x30VTkyQb+dNq1SjBF98hmOuGkBvAV69jzJYC8LLBYzZUYQN3KghAAABnkGbvEmoQWyZTAhP//3x\n",
              "ABnB+EhPRq8KsoAFy/nBxq3ynREP7aerrdVfcp74GCLP/EiHPdLvsOM2ytZr+JHsyI0rzf/w2ag+\n",
              "QBjmXcOqo7/a3+BvKHZpwYv9m/0yV8rQ2kB8wjuzCLAQUPFmiYjyq/C/WRU/gIwO+m4r3Ztjk0np\n",
              "24vrd2scCAH0sH77meChhwSYel48fT0w6VKXu2NNDX8hmc2ACIjJ5Nc/gxbj+17jenzeJLRMMrkc\n",
              "OqKcw5kxsBgoda4mALGBhv6X2I30Duw156DoDBuoPWxjzx2PK/erlw3YRIXdzYVQ5FTdJD1jqtF5\n",
              "EHs7doiLMM/9Oh2zpwxM/UiQI4B4Bw16N+hYWIZAipsNzyXmr15bh7ihwHXNMo2gZXudWO3yc1gi\n",
              "90iXlxzKIhSEjiTSMMb6jWiliyzhqmjvPyhwtanRfq5zSvmsA39yt38Rjn0X5xu/RvdRChqOMkrq\n",
              "n3C9LtH9IpC12D5e5y9T0M9S6Xcc9lA00qm0WTUpj9C+f3vtfYJyth1IoDkJWvDOOFcmp8QCvoD2\n",
              "gAAAAERBn9pFFSxvAOGjyuFO4xKd2vOgAOAJY8Pmou3r4frEASZYTEJt6c50V6tHwJ8FHshNag42\n",
              "4L+pic/oZYwk3SxE4eoDRwAAADQBn/l0Rf8BFbhdfXDfymNddy8MGccsAM22cvPtmM1kutEyrE2T\n",
              "joQv5ksbSHGgN4ABM8YMAAAAPAGf+2pF/wEeYlV+hJsKy+4pny5vZvDm/NesZLikM3Ezy6tBMfXC\n",
              "/AMHGhAAQukGB1C95gKfJdAj3vgMCQAAARVBm+BJqEFsmUwIT//98QAZwfd1zzltagEAIP8bHmlN\n",
              "nGgt/D+cAOl6UC81hgIusAuzit0NUul1jaC+htsSuovDn9M/SnpwpyuhRFHcXpP/yTYdkNuAtkyL\n",
              "39gcB/7sHy9FjN/N0WLO15H+Y7V8kJsOQIi3fCxPbbreNIssFTfM0dXURra2k+17wNNI1QAlXdRr\n",
              "6IdxNXCvRSGRYmAShlNIdhz+mYcndrU7QkQYl2bgEIqm5PLMlaVW/7Lj1YxxM9vHFCnlzBGnxgnP\n",
              "l8WdPrKDAvU9QuQUNBu/byP/S+yHbAKHn2AMIbSAD4ZfFtW2Wh2NCxncRNcMFVO/7dYTb3pV611/\n",
              "QD9rag39Ani90O6mkzaB1ETBAAAAW0GeHkUVLG8A6DudKxwxRWrMLlADYt1ifR6AFv7/cSP2TvAj\n",
              "N2/QCsurubIEx0USCpoby5Lv6r/uExYbBcfpTZfcxc46NV0C4hkxTagSE7uPuv3Gt0I6ayJd/mAA\n",
              "AABNAZ49dEX/AR24WY7YkAJfARXA/OYiPIu4uFiYs20DMsNaYdM2c8uti0byZY0tAe5oR/djEX7p\n",
              "8iZ36pB3VMhwQO5pIwniAkbR8P7oAZUAAABfAZ4/akX/ARw6mIE9onWfABOGgIIFdxgLOwO5MqSr\n",
              "HransrgmwC+zgAmlFMLNIl90sDwJpeoALl3anHHQEyWFOU2ebo1NXEgNVF4pf0C3pxw/pdQzgaei\n",
              "qFYvgLb7A1MAAAFCQZokSahBbJlMCE///fEAGZ0au7g9AA/TJ3Ee6WIz0Pl06r+FUSCc8C4fQU1w\n",
              "ZxPuGTcZdd+eC7tBLiNFte1v2HjhXuqV2C5uWAbwqWy4VNg67wrQUj/BKVYlrBQk5O56ElDXnLzx\n",
              "hYP+YrteuRbhntwBP2v2UsvWy/vaqP1h3WhxyhaTPjVjCLQJXm/q/5vm0AUVi/U4cePINBzirYNQ\n",
              "Fb0TZXYFHha7t22lc7a/h+W0HQXUqIpG5yZhlHxZcGmLupR1+d7f5GBpW2y45rlNjXqo/ftcE6Em\n",
              "fAOLc8UAE2s5jCETNG7xZMzpb51cfHgs+QCoKtCnL37d4KpQRTJ/OieM9Tyfj0ACCBjuvzJKRSxf\n",
              "XvFtkriqNYs4D/FoIaPdZvn4bHVNLav3bX4J4Q0qntnjghr1HdTm0EFs15JzWrFEXAAAAD9BnkJF\n",
              "FSxvAOh9MEspACwAheTb8Zvmzv919ji3bkjM3MVEGKrO3l5wh5B/Y6CXmeB+jsjT2HE/oPyoQlSx\n",
              "s4EAAABSAZ5hdEX/ARSdpxqXo64CgBa5rDODklqoCS/iHXS2PPWWpv886nCyw2yqdjRO32/LRN+l\n",
              "Qd2xZsZcSOBb9fl3QJhfak+aKs6RZ9C0+PrHx4Tw8AAAAEgBnmNqRf8AjzEyHzAC2MhyiruX+EpY\n",
              "n3CO2fZkaeTv+eUEHX+PVTkKDYBZxkhfBuCqzuNgLdhUtEQiGHNDJT3oGDYKhlDKzoEAAAGxQZpo\n",
              "SahBbJlMCE///fEAGaXFuAEz8L1VXoO/Z2MRQTWHAIviaLt4cU2FAL2Y5H5hnWX9LlY8RsFnuscz\n",
              "6PtHnpCL2WJ9RGz5jixJgEPBkK9TruKlVLs+g1AsRMcQQBsKHIN/xDDJpCJRnU81YMBS8skWly1+\n",
              "DWZft3LUNsqZomfEgR/sHO5BjDud8Go40HyJBoChtIXIvIS94pAX5x2TqwifuBGoHR4aP9ArrYK8\n",
              "G2T7eEnWdmlOJ8kkBaez3pmEWOZcFExM0opmj6hilrbO7ba5yXVru+wNB8v2eURTfFC6lAG8Qrq7\n",
              "ARGuC/BdBH8qVKg8WhfG04lHG+PUTRfyWJSLwfReHc5xPRXriyLFXU6e5rjCTD2n6VzEZChqwkwe\n",
              "5iMrzptK6rHzcSXUSA24VnNHsPk87/4dOV72tnUDDXOLNC4Bq77RpJwq61O0VIfAGusoU++t6b6B\n",
              "IutUmpYntnPvn+IJmU6AnF9J89q0rtoSnmZbk7aeXDfO6XCi6uruksfmENMOv60N+Uc2hd3Cmepa\n",
              "e/eoLhRxRusD0/vZntx7nK4ETTZfXh0k8dmswo3RMQAAAJJBnoZFFSxvAOg7nSsmR+ACVM8N3XkT\n",
              "0JVsHnhkFqSj0V8erUTL6/p5fr9+iJufV0yKI1mrDZHOoafEV9DfvzEfKjEmsHRtXUgxHiIF5vN9\n",
              "IiXarIjQRfOxZl5aXtqODzFIEe7Z6l34dJgSZgAJh/zdF/lCPfQJ+p8W76hHv2Fqmbc38c8xeB5y\n",
              "rLXKmEeiz4QIuQAAADwBnqV0Rf8BHbhZfxdt7KsXDqi4AFtIHcOLbdPjqrn9E5B4C0Z3FQRh4tGs\n",
              "QCmeEAOEpEhCsJI02FzAUEEAAABbAZ6nakX/ASZWa5eYADcDvJCZY3t5NuhxKYACtQ/q/hh7wuXR\n",
              "GWYXq5ra5TCXcEIr18jcj2ekTzHoqbe3ha9N0bw66EgYgVpIYniCxjABQyR8EbAxqeG0HjHlMAAA\n",
              "ASZBmqxJqEFsmUwIT//98QAZpVvwAc4B7iswDB7AzqWDfv/Sr4xxgvHbYS4y/+oBE1uzvBnq2RAM\n",
              "IVazlsS6R0jbwUcdQ9BwFUC8tCgyLVcqAkRjKnIsRHTbyuIVSMZVlH4bQXUOTL8X83tfIrzpIIjo\n",
              "OthG8RTVOlXKu94gfLn5AJZln6gg/2IlJ3Va9U8rj6tHXxVWUDvS/XiOhe02Mbmgvs1SdyClAPUw\n",
              "AbfQNQ3Gf0eC8ly0/sZZk7GyOEvAVAwdzrX39GHMTa5lrqVrq16+hV+ZkxzWvF51/UGplOHtFQbw\n",
              "pYEWjk+6K6L8kP9jV78Jw5UDasfGjaV7uNuFqftHXKq/qSqQxhYDXKhLXIvdfdvIgiYbUD7ealuT\n",
              "wdd6Q5GAFYnGrs4AAABEQZ7KRRUsbwG4kn4INHABtsEZtpsSnv61+b0d9q68UN0ajF6++aNA8W9l\n",
              "+oN/j7lU3+XijrG7JRLUJYDta+r3qlUA9IEAAABIAZ7pdEX/AR24WY7YkAJfAUMSXzKzOQrSbQ+F\n",
              "GzGtl5oQRwPwvtcFh4uPDjgNxGUFr3g27GiKaobUBvUvR0IqTQa6BnlAbA7nAAAAXgGe62pF/wIr\n",
              "6VLUr2vRwAJrGcALLv8GOuGoMDnMnuZeHW81DCZcU7PWru0o5ehFu9szRt2Aqy2ZKFlM6Khd2eZN\n",
              "3hZHySWfELGPDFrXSzxPbRvxDv+Am0uE2oIEiXgAAAF0QZrwSahBbJlMCE///fEAGklwfABzfLPu\n",
              "F7eX7emwc/OKKB/BLEYSqu0ogLDVm/kl9SR+H2fod67K+E2r5CwSlEToP4o+RI+m1E3O+BcA0oJj\n",
              "yxnA3bI0sXSedPxqYtstOCF/ULcmTBU+xpDliUyh/EAwbmj2Sta5cXZ8rG1afXoUyKf82N4l033U\n",
              "XJIZn7I3b/MdWgjJldy7NaCrx5nQhna8+m6yW4mccFTjflEUwbrSL0PqZorNtW7NM96KjPqfgIDB\n",
              "+1k21SI89NsKl8T8nbArXuh0jMNodOEOTXOUhxJIxb8RhpMe70xGP00KvYS8IqZVCN6LIieR3Kqn\n",
              "zTgts/ddxSOqxTo2thM7IwR1ANiIVf/2hCFpxOrEpu5HoK9RVV7KW2sfVKZ93hbro7MF5/P5yeP6\n",
              "NQT8CpMtfvv3sZazsB6ndZVR1mM/KxQJVBgJUq/8qafQ6qYGSiws9+FU4JF7DBPRDfpGqJQBuARm\n",
              "sh0tG95VAAAAXUGfDkUVLG8BwPakVgaGFu15MGAGNA3MiH9yLaINVycsVxg4g5RJJeO6u1+fcQBm\n",
              "fwIAk17ET88dRNKp06nhI3dREaP52q6T+g76okjJy1lLi9TJeDJFQaOCibU7YQAAADUBny10Rf8B\n",
              "JhuCtDmNnr5jBvYy1Qv1QsgOvAKbLvcUXHfqFQO/5sElhknxcUCNXvfNZUMCNwAAADUBny9qRf8B\n",
              "HZ4r7YvfGeQNwbFLSpUAdfTGM5JXKYDZfNLF+3YMGzpEF/Z64dAZ6xAm1/YDegAAAU1BmzRJqEFs\n",
              "mUwIT//98QAaYfhDq6J3qsYQBPXzc/M/ftZ7AU8OqPs8RaLV87PbHC5zqUhGJSY/iwJyyQuMyj0p\n",
              "pN3flz+sVl5Rjj8csdZU8R/7PDettC+mGadUYKEBaPC2ikMHTljmqZYBYYzlz93yzEQ5SsIrl5aH\n",
              "z4i/6gdshcteht6Ch/qymEHkVUhEbsmlfqzEh0KXNpCR5bjHIRWVnXP1T/VhVjT3YYWesFgCTmKD\n",
              "fbgiGoY4Iig+aMKi/osUIEMQ90VqmMEn6B5Tn9hshXiEB/sPq2PNXmqnwWQvi7V8Znb4SzSpERV4\n",
              "7vgLm6dpTL9huugfmaGoMzPyQsNb2GRm6wEC0Fktg66VWmYT7eKrMOvv/75CgSoAqqM7GIUsQoYK\n",
              "tQvLj0wwAaHSWX87wTrB/nnlpwlAu9M0kJo7CFur4af3DBZU0RNpQqYAAABIQZ9SRRUsbwHA9uuO\n",
              "yMJK4euoqvuXrjX6Vx26cpiutQEy0S97PpWDln+F4lNqJEKu+cPFvw3UEFya/qvU7HF3SUGYWYDX\n",
              "N9bhAAAANwGfcXRF/wEduFl/F7l6EnLQmmNAkhV9k/oiAFnIAIgCGlhIW8EbQakL/V+xdXksRZIo\n",
              "GANFebAAAABHAZ9zakX/Ai2TqAEyn4fYm9eBAuqxkTiOXhHbcWm7Sii/uvqUBsWWOrBGigZqFiZV\n",
              "mKnwnt5DfAZwMx5xQHHYFxBd8wd2NKAAAAE3QZt4SahBbJlMCE///fEAGmH3cneYnAAA0TMJ2RT2\n",
              "ReV88MtOhQpXoFoGHknH1MGrv9u+71uy13VQNEZjqXK//1fsxZrZ+FfotDODtFbu+jy7AdbWgjHh\n",
              "lfoIH7qjyY5Drosmrd2yEmg1pD2s9pDKHSvUKjipIqMmRjbtnwSpsWvS/uwPUISK27zCbBiZMlwR\n",
              "eQaLzwyW1CbFH/8+ktFeaWpIBnTqB2qHp6WL/T7sSrx0Ai4N2fq6w/oTvytYWzBexO/6ll+HJKQA\n",
              "ke8I/AVuipgyhVMNHnpfDTUGGIgGkRZlIrPNWhSr17MLcSrJBhOm1xqMkAMTg98ovQcczjSUOJo5\n",
              "tt4AI++q0Xw/+he/g601OmCjt0ugLOtTPzJwqwx9krGTdgbWCj+cQdACWMh7+MXlUHyBo8EAAABK\n",
              "QZ+WRRUsbwHA9umnVBI2yK0WSBDrpATvjlURXAARFABu49j0UNVR7Asr8EQI5hgUtiaLyrt5/8jx\n",
              "6J87KDYQ+XchdSq93gSOGnAAAABfAZ+1dEX/AiM2PErYAEOtsRjgddT5dkddV1DOPusw4wNAa5Lw\n",
              "YozEI77QptL/Y4P0hoUeAJDfiz+ts7bQAMp6dPVTJYyBCkXpESzkxzpDiCNmVJOEgYhkiDEkNjjE\n",
              "KWEAAABYAZ+3akX/Aj164AE6U01PXGf6PC5YxzoL0OM3t5GorY8T2xvBaVcldFj6l6wtAqT51gDc\n",
              "tdMqyTPL8RlYcpLCOFx3FR278gMKoIWBItg+Izd2VIxciRDUEQAAAUZBm7xJqEFsmUwIT//98QAa\n",
              "QkK1AAGgUeoWRD90pUOUTSKh1c4auYPfUNKcsWhHpWVUB0kmn7PX0FEj0xGN1prgVFFfluzVmuhs\n",
              "sfJpCAP/4/PYlvtF5snWmr1S7cjSd/uw6OLWZ323DkWC26Ej2ablSIk/RGTeMR8g2bOtoxRmT3e/\n",
              "ZApDZsjAVCbE/GqDWymqkKD7fP6p9WeLN1Z9sAUkS8Y5Y0nVFWxyONQqmO5T7F/INTg8oj5Q48pn\n",
              "1f4FpCbleej9bSs67egKwAtHdxDC7uKKoNyi/81jc08gIzBtdgDkgmqRmDs9qCxvQGHICDlqDERx\n",
              "9vPw9rrhkEKYbBAIAT9qLDK1CplbR5bnYXJONAfvIBOER/cPmri+WcDd6C+vDtzCMz+CzlfRwpDf\n",
              "XpEbdtuHdr+vqSmqDoJ8gGef16yUOupnQAAAAGdBn9pFFSxvAb0TFTIAX+gA+bBN4jEAt28JONjM\n",
              "qOY/A2zhLAaTH6pM7Et2ZnBcYF2yp6UbY3FXGrGxwsZtUVANX04s3DRvi9KkJlFCAHtSzwXMz74j\n",
              "YVrbo5ym+ApOT1yRN4Cn9OmxAAAAQgGf+XRF/wEduGoFAAW0gsSNwpb1bOs9V3XvPH2X6M2TAqVT\n",
              "/95kPWs+r/QZxJKQlKJ5RLrbhKJFa8iB3W1NyBXMYAAAADoBn/tqRf8BHmJeyiAEmUEqrmDmv+1y\n",
              "BWnfKKmEZAf5F/LYSAnCdadKYAdzs7FJZ7/alXtQUGMJ2mGtAAABOUGb4EmoQWyZTAhP//3xABpC\n",
              "cl1AAHWUe2XUbustYXLMLCnUkJ5EE6YCE606qGpj74KpXGb7b8e810KF56mmXg/BLTfzutLMB8Th\n",
              "p9VcLpO3COSV2NGyKuOmNG7DqdSJr0K0kMduhV85Qmj+CbjK/HpYlFE1FEblaKYpe+/pMCzmYknH\n",
              "JS+DZDwiFNot7X5dvp+5y9kOx+t3hFNGV/SFTW+cZweJcZB7OvWtSVy2nVJbrdWxHPK9tzkg6Syd\n",
              "z+PNps+/cbdKXpuY/qhbS3eKcvVGWnX1v+6ol/+sDwKfJiPtYqlMUxY78A3bSwUaSJzDZrexZoGz\n",
              "WYgRrnGkh9JQwJN4kvOaJRX+ix4hTdXJ5oq2XprLkWUj23k/wtO9rDwLr0RA8Po6k5ecART16EF8\n",
              "05Ff2Cx1nIe9IeEAAABQQZ4eRRUsbwHBkVlxZkjKdl5kAAMq23miUe6OTs5W5XhGbzT8SwO4Jc5G\n",
              "fyCVA6p6mCed/VTakDB24tcRQ9s9OeUhNz6RscvPyxwqKJgjgj4AAABQAZ49dEX/Aj164AE0D18R\n",
              "7XoqF1gVBEfd62ZnQN4wK9/sIZt+kzQm8ap5H3ESHDd4RoeFS30600BM65kdAzxefasEFiIhezDg\n",
              "bbAX5g3HG3AAAABMAZ4/akX/Ai2iRAB8m8qeXbTQil61vgLXdt+F8j649UrfsUPuqoERBZt9J710\n",
              "X76wrJ/HnizSTqXCz1oqdeSbAckNVHXHeH2+iBAF3QAAAgVBmiRJqEFsmUwIT//98QAaQkM9AAGj\n",
              "ZTy977eNlneHL8T+8fp+bCYHOJ6WICvfKpspJwfp1PnDQ64uf4xnAUrVJ4P+DHtzvZljbg/ElUV2\n",
              "gUD+21N48qgCUR84bq65yy2d9kl+jkLNNkrKAQ3TUL8rDOKuDYNld82Pja8ljSF8eR6stpRFU9cR\n",
              "3wYwOAe42LeGVmKJvsPwcerCxtQ/qOpQAqvECv/fzFqnwooEgnyKr2SN7sFv82Do8tjVrxFTE7pd\n",
              "mTQO+P83Sa2MP1uloCi7WBQBwr+HylEU3Pj4eVUvRpLTOHoj07sTf3iwL1GykX/daV+d3B9/u4dD\n",
              "hzsmXdGkuvFjWfDP89sjEUnAz8pcL1V/wfoY8SCqzQPPak6OmxjsDb4/2+FfZSGCkYz5SmyG3VGc\n",
              "sg4PDewZiVqWG+nOod3MxdfFfGlswd3rPdRwXyG3f/oerVmnFyYEvVUQnvRQ+cmIGI62YgNq9a2j\n",
              "aFGrtizq8HM99l+8M33WmunleVnYH/RQ9Jw05sZzFgndxx4pQ8MmPrkH55s77lzqtcmsit/Kjiw8\n",
              "yoQ8xVmiq673iNulh6Ur6HYkNHiJhAu4HyKcGR+1ALA6FvUqf+iej1xblbjznNDOLa5TVAszg5sE\n",
              "fLAnryokqoQLyu/VNyIWtCu/a1wV8yVc2Z5kkoMZpzZVztOBBWD/AAAAbEGeQkUVLG8BvRJzL6QA\n",
              "Lp1zRs6tuuRPezWr6KLBlg9he1cRxcqVGE/Vj25+d5Rivk3wUOPELTtSimKcRdDn+r2F33MZZlgX\n",
              "dGAHfdG3979MnsbbXQb+KjWrHbB8StmYFDsSYvdI9+yJ4vECgwAAAFQBnmF0Rf8CJhHYaIASAx5F\n",
              "VRE0zq0vMkQWxhQnPye2yIe9f8ujOuHsIpcnUlbl+LmXwjuVKnEuczoS4jElVrLKoRaweWZznm43\n",
              "GqYw4lXOFFQAI+AAAABAAZ5jakX/ASWdYN9/CAFZ5a5Dmwg1+sHUZ6leO05SisoMFp/2TCHN5Yfn\n",
              "LDLnHsXC7VPkx/AtC0cVfcIDX0gErQAAAaBBmmhJqEFsmUwIT//98QAaYUAIGgAdnhgjCQhSd9j3\n",
              "UPNgsAwAIepKyZfchjl35Dw5mxT1BcZpheXAzZBAullpjOvEoiH61mv9oHI46Pr/2U4KCxXFDWNJ\n",
              "dkXl5iQfku3NgZjpu0OfCEOVSxX6dbJ+tJ2t5nv1WRn3XL/NiJRogXqNH0UBPug1xpmMW0lxOCbf\n",
              "S1Xl37HfmNTZacFK+lyPQ9zz77XKpe4YwXc/OY0ha7gLR9mwmp/HWK6/bPO0FdkkNbiCHfPevxv5\n",
              "f8lhh9NjUt52JQeTRiPgrBWLjFM0HF62Mh82ps5oc7tte25WO64sbb0M/4gaUSRdQke78zhTbFpM\n",
              "PkpIKStuqzeGFciGHjnrr6YS1lESDQDojcMEeLL4fxS8Gksgi3ltphXm56rlzpc4Opsx2qHKMb1D\n",
              "LdnAScdocoGBcRUn4GOuh7W2RWU01GmA0QTkqWQaW+FpDlrkneK1pDB0Z9VMqjhNSyV1TM8oa1fK\n",
              "Ef8OFtRwWXjJX1Ao7rx476urmyXFdjaIrk4TK0tuCyaeJrr39B9Bv/ZUkQAAAHVBnoZFFSxvAb9z\n",
              "espAAuiSLtzdRjpYS7xZCczCgKy8M+2dFc4BvDfZPVxcxH+r/04Bx/nc5WigtklzP2H1T43Cn4kM\n",
              "tRdb3FcXqy/9/dPiXYpoE0JxasQwiNe0fA8F1tGdA0+R4YkJSw59Qf7DOY1TimBAOWEAAAA+AZ6l\n",
              "dEX/AR24WX8XuXFTIABW1sJ+Hv3SFyjvzbeaJ6ZFGcQ5j0/1RatnRjuh2CE8S1W4bHu3avAY6dOQ\n",
              "3oEAAABAAZ6nakX/AiZnyrBCcCi54ZEFi7OKAAWE8VUrg2RdH5LJSfiJLp7T2urqqhPEVHfe7BC8\n",
              "ENps+wxbMrrehBtYWAAAAXBBmqxJqEFsmUwIT//98QAaQkM9AAHZ/B/wIDg8H4U77wu1Cc9SdvVq\n",
              "RsS0YPchhz1FOGya3RntaYeWDqED7shp7s7Bwk0oTltP3SSABp8XpielFCHNUYBLpVnKBZ1YCFfZ\n",
              "RpSlTrI3TW8hr40uG95xkMU7TkewyFZ5ioOUNQUHfma02nBIhX/p+FFHG4oR1RRPyzM0t2REoHQl\n",
              "dXwwzb6PHRYgIiNCv6SmyV2zLlnb2/85yHn2Bb/pbcv3DIo6c1ALgGJcpstnU6rZZiokU1nYUfvb\n",
              "FQ3rsU2jS3WdeXk3QTA59gaN8TqHHPwarneQhL6lK3Fk3qwiMlab5WaEhpbEW+78uWep/a3uUkgf\n",
              "tnqirO3WnbikGKMkwIqJ/PXnfslZG6fmV10pdOICe4jsDdBpV2fNUXX9Lc8dxawr9aQ9v6aHBmRk\n",
              "K4j3E3CkxU6s7KM8LRx+iMjXSueIt9SNfrUbMpvMYeP4Bls/RcmINwwVcAAAAF9BnspFFSxvAcTL\n",
              "kAC3Cmo2J1D2vQdkG7WIeWN/kymZ1tj4f/cAfOyrd8Qq0EBjhI8bbLKyCCnaqQIPSBYjyc54/z6b\n",
              "+a0SLsxHkckJwVmlDH3QywnTN0ElACrcpoA2oQAAAF4Bnul0Rf8BJkf1oAWdNsC5EiSWTZVfyH3h\n",
              "kWsKlM8Bfi5FbEco381SQW+q+ClIF8bo4bQo8erWUDUGOXX128tiNPVsXoYtkBPhxw2eEgujW+cp\n",
              "jDtIADRXqNEkAHdAAAAAXwGe62pF/wIt++YATKfivDks9VrIa2XtEPVdQJ1KdNo1szR9VKKqIUFc\n",
              "wQ2PIw1XrdD8vnz59Ovdn6hWIq4wNddGNQaqL7pxhYUsezxeGeCLakFSB25+86Klz1pfiAGLAAAB\n",
              "r0Ga8EmoQWyZTAhP//3xABpf4gaSoAA0Y27jzQFVGVU5oLi+NbnQwkJblfNlIQAIC2lxMhW2BCb2\n",
              "xfvqp4nxm4O/c1Ocqzfbvn+D0vlDR6UCOIuBL7939dFrh+CcRQrf0qmmjxJ56cKsrz796K9cnPDI\n",
              "o1ibKcOilfWRPKyWar1ZPcNx6F/ZcKNSv0S2wUnkUjjdh9RzURkKZaVAtmzeofjFvOfda3SDzKv5\n",
              "2dy7GY0xhrz6SEw8y3E2JCDXfoZ9vQxOSVTnKOX7tVh4bxII61fjhk1aSWHuz8YNIiFNX8EW7o/y\n",
              "uFYBy0BI/1KeNpIr/BzoWD/WEhRDRqBLmEEUGAHjTiqfF6h97ibrbfRMgeI0++jo+v0a9mN2O6R4\n",
              "sOeh6TrBrCw/QjbO3qLw1n0Taz3CpYtqZ+C0gU7UATg287Zd5MDBMwhSD9aR9ICVHxYKyTJnoLIr\n",
              "6PualluuhV5MdSPiPTk1ypyXqima+kBI+2AmlqDm9a2Ot14E0Enebx1tVI6u9ydWc7MyJLn5OYlo\n",
              "tiClB/b6NRk6qpeQEYpme8tzF0aj7GryTqXjDRDsU4nBAAAAdkGfDkUVLG8Bv9fsfUN9u3grYAE5\n",
              "8YHjC00nya6Wkp/g+mnGaSoij37ruMqoRk7yb3Llyx70a7dkBWtgqDpXqohgn4rgxnDA1grTy2um\n",
              "YboGeousbne52LDNyzyO0kiZOaXUyK+FBYifn9LblHIviI8pQjvYAl8AAABUAZ8tdEX/Aji98Gg/\n",
              "AATnX1qbBCaXGXTWgLbZzbRRbj28ldqLid9wACbKjKORLTH9PWrDSPv7653MgDRfjptnAFJpsif3\n",
              "WgbK5a+eZXOeO/+UAIuBAAAATwGfL2pF/wItokQAmU+ok/i2rNZ5kAI6Z1tkdexgK3aQDqo8LkI5\n",
              "nk2O3y3g1s7J6T44z0K3fuftjDEvu3ypobFcgu4q0zenKBHxVg+1LegAAAFQQZs0SahBbJlMCE//\n",
              "/fEAGm0vvBR3qAAaLOlxwGcwVkj4oUR4YaKE1sEKDN6cHaFLs5i6kq5wjm3Oyq2nkbXsayblLdOv\n",
              "L6ElaVNmhn0aRyGjOgXdW7ysKr5taTHzvqU8MKnB2ivZ7XEp+8FNkOwkOffDdhML0hbLf9Pl9n+2\n",
              "nVywkO77osBhxZYUgxCSZ+DzEHsn/MZ2nPpqtQfkEm8ysWhhW35q1oP4ffgd/u9YWbJSdSyA6jVo\n",
              "L07uWXLxYPjtjTTS0qbAtosXG6GojOxFdmAyO+MkzI0eD1Idq3gAkGKlqgc/73zFvHtd62YGj77H\n",
              "8MWgkjLrWCgepV89Npaio+D9BvBgWhraW9yTgc7OyHd38iyFdSPFTvc8G4CtV70bxAQ9d9wj1lY7\n",
              "aRpzY6K2bruYW1bv1H/KraRVQ+3FUCMfjs91mYafsoQ/+SIRcN5uAAAAYEGfUkUVLG8BwboKu9AC\n",
              "zn9+0ZbxkWarmL7HQSquTHbyG2sHx2eyzEmP3WWWPWBCxAsmZETa4XkKmaRm8TEZ7FELUKGqGZK8\n",
              "x5GAajR3ya5kY5xQGMFmMX/dkh1hcRtkgQAAADcBn3F0Rf8BFh/ux+DWmewh7sgBZyACIeyTNPMD\n",
              "ldqjQ5EFSDGdoJz5kITr7J/eVogSj+gZfORAAAAAQAGfc2pF/wEmCze931Ech8Q1sRvAIAWcg6pa\n",
              "NsDEJq6ICcwQ7KBan22zKAYQjKjB+FkrzHfhiTg/X59u3bA6QdMAAAFmQZt4SahBbJlMCE///fEA\n",
              "GwH4OhTz/jSqy/gADKcIPwd0oBOcYgnQy2a+3ijwqR/ZsXjxaQLkoLz3/1oQrsF/e6aXGXYgt7Dc\n",
              "N7DTt3MIHXKLsh+bbOfqyDZnhkTtrjfzlwggfkl6i/eEPe6JUnu4625o7Vw0XimmJ6WK1WAXeA+a\n",
              "MTzVgVnKddOUL0ICQ6oES7RuUtg6mCtnhg1+XoiYmlwYHgf/4oYa7LVgJ/vaOKe+8syCL9VMl5T6\n",
              "RpOR51eeMbvH/DLAs3UwtAEQNy3pOzfZK3hLANURRVU3wznF5f/Ax7qWQrKAea+NM4n2PRwyBwZR\n",
              "IDkSQ8igAjwcR9hb1QZkpWujo0XrtzFfE4FZVc2HLj/wn6Lz0H5wm9W5szE1gv8/uSyt704xwLwr\n",
              "CeCSMxUaPQaamo3PptThd1s9Q9w1w0IvYVInmScaRpi9kmbEkkynrrrBS9xB9nHH09qhNIBZMGQH\n",
              "5QAAAE9Bn5ZFFSxvAcD28d0AJCbtwYI56KWUB/CgFTzuDnfR71D9xSyb1zo1oU2H8KlcYp6jegfa\n",
              "g3kBu5xmvExBWqYWff1bTrjp8m+AtOvASMWCAAAASAGftXRF/wEtIh54HAAsxNX1D4/VbPGm7aKA\n",
              "2KhsXz9UDsKJpEl18nL2uAqeiS6PlLMfAOkS0km4hzqkfEu1zh4EbnbnhhABCwAAAFYBn7dqRf8C\n",
              "SuLaAEvm1s0R1JaxP69u4EqQrKO1N/J6ehDF9CsaHmSzJvnKUUVxk823AdcMRKpgpiM3mAYc5HQs\n",
              "tYXmZrUS9AF32zgafHEueFNqBe1/0QAAAVdBm7xJqEFsmUwIT//98QAbAfhifACER7lo4UrK8jQG\n",
              "MS2BdMWr7kEjE+zNoM0VE7kCh3fWegQhzc4WaCFgDlIGw5EMEs3C/Z2TnerReMyorrR4+wq468RX\n",
              "y/pjpM/1U7PBhrJ/6bEt3mWbGTncFuuMiLxkQIKXpUqNXhgKoxldbbys5ohpiu/UmbOqvSESL46Z\n",
              "JeofXYkKP6bYWHb1yKqze8VgXW0DUpiGmuhhmWtKrQPfzegdPL+QQEQmrTB4J22fA0nkfenL6r6m\n",
              "mhpzpZVWISvZrDgRBUDzFMEx/ESMi3hIzWIN6V/FG6pJuhPh1qNdpYcqwVlazevP/+2Xj4RFs+cx\n",
              "ng2XZ3uzn7vGEX3vh5woXr4NZcFMA8dkiX5Qu6aq3HvrqT7mCJrFCfEbzs0vf4DnWIfrkpRFGBbI\n",
              "kFzmxBJWA0SOwokMhV/hQ9nN6jo2nYSRlvNiAAAAVkGf2kUVLG8BzImVUSdX3NWT862byTRnY/PD\n",
              "USVdjfPm3nEJf59DONEUCKNTwvI/zEAHcwPgjLWrGuuRHGczDKIipcZUlXn0G7TRE+9qiOZQQIFa\n",
              "aHbBAAAAQAGf+XRF/wI9pKIAPm58w9Z8BWuiT+foaKXrJGz8dwHRTbcLay432AsKDbW5hII4pbng\n",
              "JWfE6QtVRQ8WzNMQAccAAAA8AZ/7akX/AR5iVwN99potpTswA22InIt0Z/WaMOEUp+RLWt7ER8E3\n",
              "QNAtmnzxVfcEzhSjzJdqsVAx/CSBAAABh0Gb4EmoQWyZTAhP//3xABsFpmeYFiAB2fisOqMYIf8N\n",
              "Ksa0b23E8QnRHxvWu+1HnG3KlWVkRP+joiFM0CGpB1vzwCzp3q93DJXC7okrGGWFMoiTJ2b57SeR\n",
              "9wkcykInDoNhPfI3X2jc+u1riy9/mlCE9vqTsWV6c2Jf1af2MlEK9cnfFO4SC/fIZfYfOfh0jrTI\n",
              "q7b4byrNayTiRTh9LSzrRdm5PyJKb/n9+Ohe+JGjY9S7/2Ac3rkGGPc1PvALHqcSu4ADG+d3cafj\n",
              "U6Rp32UOlErO/2QkBBD9D5xLUNKzwq3pL1ROUptb9wCxZ7po+4zcWc7ZzAUTIBTXUKrb2pqmfoew\n",
              "pueeAFhCCvLaV/RfKv9BwDiCFCG8m205Yx7Jx7NQZlt7axRb0SGLvEJ9k8ubMxXKlUZzwJjd1x8X\n",
              "ROIFoTUtxXceXSPrILIzL7byJNhwDkmnOZylWVZ5f8ICKgPVJKtzBNkzrgMIwxAJP6wZxBAR2fNx\n",
              "qL9F2BSo0G2yzGh+YSZEg48AAABmQZ4eRRUsbwHMkRUWV/+3ABbDUl23Ar9p4yvW7HvV6/SS0jVD\n",
              "wktxC+wDWYPGgyZLkCRhqhpQT9wxuW68jyGjmvn4ChHiNUCDcxyNZrP4LMTb/kC4JRBiHlqNUVMr\n",
              "cgaJMnAN8HpAAAAAOQGePXRF/wElWHCgHweXt1eWHXmQkvdWG9ACTKElvdE23lxg8aygROsHpRg9\n",
              "8mDcpW4avNVK6vYBWwAAAGEBnj9qRf8CTXrgATm33FIvbq+S1LIsU+7nym8nLDjlusdO5oJi7bB0\n",
              "MUNsGa2hoROTCO8AVRnbnDIMoTk1S8sTcN+qXRSVk2yFWDHC446k/TWi3BPR/z07/TVz20SIAMWB\n",
              "AAABXkGaJEmoQWyZTAhP//3xABsB+GTqAC+NPZZF2YvX9pMjE2cq36Aan4Rmq3W1eWMsAIVs2Fa2\n",
              "X/vquzTcevMC7vm12IBAgEtSTFAE+DCo7pJTizLEWTfg3pgxm9QzrJ8tAK72eCpaU0jZxtDhORO7\n",
              "dLj96G5dHqzVhEqx5VExFenxIkg7LTIDXadSFx66SJYd755G2X9Kg4fziYsSaS6GAxX/Kj2rTo5x\n",
              "WAWOIf0DuBPWPuMRHpZC/Y9N8ol2N1MG9RKZX2v/rtewR+YL0eiUexEdBecx15Xl245httdxUbLe\n",
              "QD9NeQFr3tcDuZ01yUP2WoInB2VWoVfmZz7tki9lFkE93qSCfvcjiJORt+R4kHULH7XtSRvXCCxE\n",
              "S/Ru254/o96fzlnb8gaVA8vu4e3o+JYxuDHzQMT4BQZaulSFwdN94j173zoL3hxR/+8tE2ZzYPnv\n",
              "jJxFKn6P8tJ9KvNbAAAAbkGeQkUVLG8BzJEsIdqkbTgAFze+HQGlWeZNvac/wcK2CgWst0QSxMP4\n",
              "jbGlIjWaQT5/p6/JvfI0AWWGYG2x3bW9rWlGNLAdkg4+uVfmxN6j3V4y0P8jdHXEryiwTd1puhyE\n",
              "7pMxId470LZhAGfBAAAASQGeYXRF/wJMWigAJuVUMc3WoCCisChP/gf+E1fEyKZzImDXyDYrc419\n",
              "uDsmeP5HEC6SoNG4X0OHFJ7EKtfXe7fTel1pngTADpgAAABXAZ5jakX/Ak164AE0npOktkLiTuRK\n",
              "pSjj9hhF6XQcM77uToUlxCTp5QHl67WdYP9l33qQtAweVx3bsCUoaEyqUzz4m5axlMkjVHuOZirM\n",
              "jruzwz7+soEHAAABPkGaaEmoQWyZTAhP//3xABsB94tIAF4BbEAqvkdJVOASnq8UBJB3mf/aXoXO\n",
              "LwxgxIOn4JupspwTiwtrDT4syYNFPjHd+WrgELQBIDMtVuSqds5mZrXjAyWZ4eBP+1EdJcK4NYJ/\n",
              "xpc+4iXO3tWakK2ycgLlMXCw2qIA5sMGo7ksUmKrrOg7jNhCbT4B8k6RSEiWSlxfrUF6g+jKH0Wj\n",
              "DnRYQSMXztjVMw+UeqST3sq3t1u7gn8wTeY/bzcz2guIMQ2BCs+BuaLxvB8fIytLEiiYDoBThpv4\n",
              "rrdXuwqFHAfWBbqxarGhd+vLQ///W2VCj1679FCcl1iJ6ta6PTumuqL2A/woKB2zkUw/HshSzy59\n",
              "W/KE7U19c6n0/fNqTCqPMmfC9U1Eve9XtK34i4LnMhf0RJQj43bS7mIkArGFWQAAAHpBnoZFFSxv\n",
              "AcgL7jUC7H8AAtpCCaAiWxomPsoqZfuNMKj272++4lEWTeOJ3VLH0E1i/gPmc6IE8Zxmxi4Y5/SM\n",
              "LU3lgMJ5Vz7Qk3nKpqs9Cp7lVJUYs+uDi+1p30qwOsy0ez4fye9BoVtBb322771jiU9GInkaB5Xf\n",
              "dwAAADcBnqV0Rf8CKnrSQAk7goCXHXxyBfCfJcnKsItHIhbMk6+pBH6aBJYEaK/6wYRL2bi1+gYv\n",
              "gOmBAAAAPAGep2pF/wEiEJ8pT9IZADMIFeHJzEj4xHP7eGwNL49KKwZg4Lb8hVV6zZ0AfFddXvpG\n",
              "6BtyAI08RuKpgAAAAdxBmqxJqEFsmUwIT//98QAbAfidEAANG8wXfKPbaAUhtpMd85R0qLLpmtQG\n",
              "NtxSk9uatGdSGAOlbjC3P/QLJpy0CfWMH0iOLpodILOius+rlKLU13SETJRNY4IKXN6dRXG6KHBC\n",
              "G6kRp+Z2aKjuHyhM3jJNZM7HG3FW2XF9ukRp0pSoGu90oaxzZVqNGGThWyNNePhBqYncrsmQ+QW0\n",
              "kskIbYnQefG3mTwNLjRddGkMmGJYWofvbLtZAcH8ZSsYyeaQL6ANwYRb36Dw2PWv1tGV9S/k8t74\n",
              "ZT0MyFq4MXA37DBj2iC+yX3wT/2hX/BTCeh082ZOjDYXUfYME3q+V6/XMS1ZZw4DlaBu4nWfUT55\n",
              "YRV3MZ23/a7mYng8w2DAgzjT0BBgWopTAwIDOfIOFWC0wzCDjytiOMGtMNItz6RLuiP63Zxhkfdl\n",
              "BxQ8eVx8VfaKrEPt1Vsv2ZUD+yNv8JAXWt4di79h5n3Fo6Fp0LdaDAR+z1Oubc1mS4YwUouhbIrg\n",
              "hvGlo8xbCR0UYLfQx2kFuCtzX7TWfS1FaaXrwHwTWyS79/Lq6f3jX7IXPkZ9EAOG9VSBwIAXybbc\n",
              "Cz3mN831iq1K3P0NxT0s2V1Vyg9J7qq6fmCiVHh070CggAAAAHNBnspFFSxvAcfR7x81neUAFsZY\n",
              "C/wRTJZVdfs3tsp09r55aw669mA5HnYKDfujSnQe0fVN4NEp+0i5ioUnhA2cHbaMrEtE20VVHnHj\n",
              "OatKf3rIng6c5891ay4oZqyYWZ7tCPLzqMsrbMaGtzrdyoDiKsuBAAAAOAGe6XRF/wElpg5lv+AN\n",
              "3XaRaBvIpaa+J7Q1zCUsZQ6tpY5jKsZ/P0SA9oleg/pJMpRoqYSCNYUwAAAAZwGe62pF/wJMAmoA\n",
              "Jz19ihWZgbN7DFtZFAtEDDkigMLnBzZjcEEeO+8AWUJiWOG6vJp0bLxbHCwk4dkcEQ5HtyzJvIL7\n",
              "XxjiTqMIggtSEhEXnPnsBJcGEc+2jn9X4PsEVEKkSQp/cYgAAAHLQZrwSahBbJlMCE///fEAGw0v\n",
              "vmEiCAAqTwFfWb3n57Y/bg0BO6vGQ6f0dUURYgDW5hheXnB521nPcyv8Kfg6ojokrxzDlhhwFnbJ\n",
              "fJIaHL/0QxbqWmlbXRdEYCnZ7TlhHLZL4FezlxLPwvvGAVFnVJi1ViubunQau4gbpG+wm62v0VEu\n",
              "v84rhg5chX8bgzS9T3hR0jiiboXVw6EYoGV+GkrEOq8pRrlO103D5Ot249808Afu38ysHxTiQr2g\n",
              "lYfVc2M66dTBhfV14H2y+uomVxyXyo+kthjBIsfnAcaiMBDMZGJ3+my80IcxxrjPNDG2LbRkPJz9\n",
              "Jipt818a9Uqh9OYqAZRMVE7r6GiGaVNrdaH5Tej7w6I9oStJX5IKAB6uCU1qoXAF6qxG//Hm7Pz/\n",
              "BCSy0+8i+ycLiKVU7DB5f3zJbo2z7NwMvf0q1Y2aerrq4fML5tbhdRKheCv1nIWXyeg/v8KLBYPJ\n",
              "BibKzz7F4INdUtbtZlnWYjCGcTXKnql8EM4wNOAnfzebxHn5JhdUi2q5DLL89V4uWz3yVIMLxcwB\n",
              "22fhpifBFOhfM4uRbM1guyr4EC0S8JIjD66H/MkXgPdDcHMN5WuB48lNAAAAkEGfDkUVLG8ByA2f\n",
              "DX9owAXQUwThj+1JYnuhDAPRkgOd6blHw1EXJYc0S1eqzRkF/d4W8YMiFj2g1gJn0VaViv9i7bht\n",
              "+8PklHcncw+X1yYn81/woSzQNv47su49v11VC/406RNIt5zK81dlROmZZYabv0sv5yobJ+QaTZwR\n",
              "KvYeQXztTfJQX+Tr9UTD6ggB6wAAAFkBny10Rf8EeH+NtEgAnGCxw/Cv+Y/PQVIEM2pyV+I311gI\n",
              "IG0uqCIWFLz5OZapR9hsBWpOHYE311wFtPFq3Xe63tbJxtroIpOtIqYMdip//AAuyXa0BQDugQAA\n",
              "AHYBny9qRf8EdXjNHgJ6iP92AA/vJnfTN6YqVHGPFRgmzr8PkNWogGp4Fk0jfx7Eg05utMfqDT9/\n",
              "6/F6KDV10d3J1bneegdfoBZ8WT8jQPSPdLyrNO62bGvqtSEBlxFaII+MtQiz9BO4fRUHIThPCT0M\n",
              "G1m9ABWwAAABpkGbNEmoQWyZTAhP//3xABrioFHBwAc4QNszRH5RSczj/TaDPW1DVvvmWwz+CctR\n",
              "GsfNXEC92o8Wl/M+UFK3ZUH1HXgAR0T5vgjiqcENckUS1RIRt6r+ddiPLrT15yDB/MwQgzIUev+q\n",
              "I/bMjS/laPEqRfOdW3MIHqN79ZaAFMgOIoKv7zq0j/x/V5ZjK4F500/fbUW6bQOAXsh6qt2dDhyv\n",
              "+0f6alGw35UXV6YIroOF3Xk/+B+wayHEct30896XXADtdWAS/3MkZfbYaRAIaqFrxHvbX/HC6J9z\n",
              "/RaF0JP8jfDx8Ns4ajDX64l8dPgsKZJ131RRU5coqI1lWDBMu93p+SPWHI8y69H15bXLOsgtQr7Q\n",
              "koypZtQDAaZOrSbxFzpRxUDzshMA0ZTa4yKZVrwdo14i1NqWJP+A/XnjIrXKtFxdOrSrQMvoTS+T\n",
              "mjj8qXLtHx9FXqQuKDkwTklanwMQSKP4OjKMQj2eJdb6AyX5WTBqGoGp3893q181SMkAigZrTric\n",
              "1Di8Mvdj2FSABHvWXWwir/QEcqRRbfigTxGIZGh10JesAAAAe0GfUkUVLG8BzEu6zRgAum19Jgco\n",
              "9NdP5NAoFUy2YVT7G86dKLzQ0En7HQ8XYbFUyo1cn/39AdkT2EF0v0u6tx8QhIvK+mw4TuekLRxf\n",
              "Ymn+ZrGG+d3h8IBDfeftRd3xHhQ2mxaKiat8H89euZ5UqJZ4KOpT1bs+Q0AQcQAAAEMBn3F0Rf8B\n",
              "IhCCyujqWYAC5Gqvz6xtM/mys0KGfVaXwrY94teNezbPA3OIln1Bar1HShUQTv3MQD9R9Qizlzd+\n",
              "ABqQAAAASAGfc2pF/wEiCrFTTNFnJ1AC6D+IYMQXzh6S2yKlKUS3awXA4Bd4Nj53FAS6qPA6eW3J\n",
              "JhdZTJUd3X44BYqWrsXPhXlfAADjgAAAAWNBm3hJqEFsmUwIT//98QAa74JlW9QADLyE1ytUbg2r\n",
              "/7o31EpfMUGjLz9qwGuCFeraVY4KzyEs3tkmvZCqXve6uJklaCT/iGXIVWbM1LeOsZP3xCpNajbJ\n",
              "xwTd6i2jTEFGi35A0Z/zpiE0YQaifUMie3K/Ff24JLYZnNLxk3EJopieaxzW9KuI/7B85X8/PmNr\n",
              "yAKABu9Di2oUMqm04XaKSYiitzLFxJwsKuXtRdOh1lu/hfvXYyjtj2FbucFo5tLMxLhtBRzGRlGp\n",
              "fhVGv8LsH1SPRqlzctrZY4ucARdHhNcxprYxNH+D4b+8zFfFTXdxFj56yeSaPhAN8hnxvMXrIgZq\n",
              "S5lwDGAIl9uwO6MGsvCV9YnQUPZL1Hs7+2x/ly9A39NyElqdzLzfVtpu6DGH58FG3XyhSrbQkVXi\n",
              "DjC0B9slcbQOXJvYKMSH56j/AXxB1nrhJVBmGQ15W/F+dPCdng1JAAAAbUGflkUVLG8BxPywAEqp\n",
              "tLSvkOZKa1sQZR+ggV+lJfeLBSdV3g9JOi+Oq8i+N8AXFs9rNe3ww19mW3E1EDcf4CiTdgPcBB9H\n",
              "Xi7QEhKlMrSDAb0SylpHWgN8bd25WydMmwrnGtV7kvw+LVywCbgAAABaAZ+1dEX/Ak3BOAD8kuRW\n",
              "x2wZ+obxvHxa33RQmN7TTpelow0bWSmEJmrTRF14A5WjQGG96BUSkFe0kQSBAzXGIIrOy7eUZqlJ\n",
              "7DSkE7ylR1599qsYO6MhfAK/AAAATAGft2pF/wJKuQY9XB65pACykstTWsR4Nk30Zh/dEx1u0dYN\n",
              "Tco19RF+Z4wbHpyzePkOcZPvsCa0pHwNriGMSSJ1n9+5iEY0YosAB1UAAABVQZu5SahBbJlMCL/6\n",
              "WAFJtYj7OACc9uh++c7jBgu9WWQxcJ9bZHgPG56caaZV+Dapo8bnD6NNsUUsgP1+IeD8my40smMC\n",
              "m7jlmDaj3XeEdPiJEKDVgAAAGFpliIIADP/+9uy+BTX9n9CXESzF2kpwPiqkgIB3NMAAAAMAAHgd\n",
              "KF7oOEqr0MAAG3CLZs6Mf24Pu9QA0oFFvc3i2fSfTYe3/k+tbjuJ4vRiKnd0QnSp/lYRw+WGbzn6\n",
              "r6N29BoSJZaKmjPRAE00w4756M/Tcf4aSLi7P6agqIkUYzMx5Y2zdKwJrilyeAeC73VATTm9PvZ3\n",
              "l+UEyQvBIASqTwChMgPiYp3y9dCG37Tu0xZHlVbU0QEc+jIWOhwbe7a+B0XJQhrC7z9j9dnXanct\n",
              "fu8yExvu5uqIdA+LaS83Z3kYKm7fkyjLW4/JI6AGdy0IJ9cXgCJCyDMktovJxAw8NvVodcaPa+gc\n",
              "Q2QBTi+TtpqQwWPcFtvYXQ+jQke1QQpLL+j7uhYGPsyCwdfamn8uZpRfK6lQdG24AJQ3dgVr+57x\n",
              "KYOWsRyKvHBS+YUpKJnpw/qkX9EMOoucp9tRoJW2bFUW9g7kxvVYfU+8AupMjLkOp1mwAeI7sTdP\n",
              "O+cC3vwf0LgRbDO+FP3ahtPmDN1n/RfJsbzcUhDm/YQA76+xQQPiniBkF5DPx20gtcYxi8gmj+8i\n",
              "oTYjlYYwb+0/qNmQRFMTe3DCt8nw5DLye57qxPSYfmHJ1XB6DfQVZbjTxLrHgCNoVj7Y4Sx+2lFb\n",
              "iJmR0KzdBajWbiF0tqjpO0KNKqwrW8yUZeZxuIY4HmiVyYLV2VH60+Wgu7pUHqZxe/ObA/JXW/ms\n",
              "C1yHzFyEFa6OyG1MoezontvRF9eR1JrXXeo3c2EfWiZl9DvNoNZZn9NXwCcJZKcqsZ+RlHog6fBJ\n",
              "K/FePifu9kX7iDvizBsAIkqyGhVuJpEfx8mSj6Qrk4P/8amlpaA3J5Z4vzfl6gvdBvL7/PCydvHU\n",
              "FPWVRdk5laug52SFzAr/9NL5xeVR4MCXPQD2I5J6j8TLH+p2pgX/P/MBuqnwTwP4G93eXyNcC6bU\n",
              "MrPP/wfugJvAh97UqfNFJaUnHiYfuWA7OVXdmSSwnNkjfXpZbBZXCQ7SnFGV8Z8QIkLJREwzW5PI\n",
              "cZdaHZQtA3q9jmN5LmVgkdQjckHg8QbNNQoXMlbeRrj1qYQONZISBkN9iTvEWAAg3jWGmtQ6sHlT\n",
              "H2AoQuGn4UL4uwKFCoPVxawthDWcPgCeVsPiNIC3vKG5AiCRfFUJ6q6ZsB/wCDHHkEvzkA/rIGUs\n",
              "fg+p7DZAqaenhSG0Yd/PQ4zIfXHtOWrdyxfRnEPBb848Ajfrz71oEMTQ+iZFrOM7B1KgBEMIOwaH\n",
              "vGDmapYJlIRHOK7Ay6smAB4VplpItPMwJ6heoR/ssPmyvj3/P3TtQnDIoARdmLMnUWBXAvbc6GBb\n",
              "67e+tCqlKZnOdQBURe7xFcKLhFaOcccZO0m5WLW2XhbLjesRU238+g7FUq+svnxwgllKwE7vCltF\n",
              "vE3YtPJNbxMuTqK0YUnhj3k99bFUmXyGHD/buc97Wqgqzj8szHErnEcgqu0fllwOeuEBIbh1rdLr\n",
              "q9LqvDil8bcNDn75QNQMVvKBfBywEcBQqCkw7ZmuO+F4y8Q0JTVC6rc7ym+e+qbnqokB+RO44tAA\n",
              "TgyMo5mL0Ri6XzZUNk5vY81K9zeTYtbUYQhLMKJetwp1CVNCSBRE4wI9LyaVvUasWLgRUrU7PIV+\n",
              "LZVz7DKbfGeNeWn1+thtb/bWA3JP2fwR6qo33khnBxCY7+agXGdTE2/k0scijMOrq4fqoQLtaJqK\n",
              "D5RxNH4XIjVJVBNu76N5kGKmYWfSsoUDx5w9AR0rUSIABY0iLsXJjAz9LsmaKenUS/bRQEbFGkrD\n",
              "/SETqKBop9YjjWr0Sv5M+cuJdvu/xO6WtfNekV8EvqqTxCid/gqEls18TAYZ4MVve7TkoG9yhr2g\n",
              "eXa7IqCDGTVDBd4pv3kashSJnqa0CaolSJawkrONZioLJLi4TIU+5prA+cXwlURXB12gZ4Jjqc3a\n",
              "ww6N8VNRnR3B3ofoAbDdlH0x4WCeXJ/kSywt1Klz9tULschK9lwkeNo/Ib5xlt5wEEiJJW+LJMUO\n",
              "+uHTBjTrN0VwFpa5dM8wdwPsB/SFXBfEl9ZG7qbwdxMBsBGeJZSJcnJHkb70MbJLhoQohIZDw52i\n",
              "tvdurAtSi3iT6EJnPEnvmGux2r8OquGkc633XBKOY6zTjRy/XxYuK+lszRC7IlRtf2aKhSUtrmx0\n",
              "IfnAtfMaXGLR1uuAB6Y90xw7Sn8PZIk1XnChEY8ItR3CyJn31GU0NKx1a57FTYGh/z4dbnSSjN0P\n",
              "i7xZQFS1XfFrmaMeYI9VpYbHOokPJJkP2boUE5Vvv7CMXQ5qZD7wsT/XwExHN9A9UDLIcIGYC1Id\n",
              "BkRia1G1ISAPV+MhK0WaazGEeKffV7Hd1Q91gUw6PZ/tso+a+iVYSQttC784rH0VtIiemgTVYPEe\n",
              "ux9jxooZ3jomci+0hJPgt3Hd+XBcE47IPS5Bmpo0S0m+RmE66o5H/ZksB7o+qpyFpVt9D+1p5eA5\n",
              "MDkkxZQST1McAcxf5jMxkPDDt57RyzxSDMEzD5V5Q0lWbC9y+3jq48MS3i+XrO09vzUFZO/AIPFH\n",
              "J4xYgRWo3LMXNhLNYd7CYi8a7zlP2IhFJPGOd7Ghq1YrdP78LlTA0p3Nz4vU2T8v9lXZl4/GejeE\n",
              "NLa49BvZfap0IzCsv/oe0LdGhLXnRDGu9fHcomGM9kGqUTQDLz1zfhmSrXaN/nm0YMgku4c0DyDb\n",
              "td0DY5QsQuKkQ4yjMJX1LRYZM9aTLyAAymThh6RxMVxaSgu9QQRh0v9ryJ6Xl6i/P1bUHEcNhcG7\n",
              "dQ/QeGNrinfAF7FtuSkjVVV6WPT4s0I/6r+w60iiotouBlsfVVgAFG3YyfqNrHGuxY+q8tc/1xrv\n",
              "oZ8V+HWisVa3PjomM/pLY4eci7dqg/SoWdHoNWv0vaufxzcil1nTZd8OsEShujh74BqNbydoj1Qf\n",
              "IO6dgNnYgeHmfHjb60CoyQ4WvOG/OkTaTB0Esc6F+2cZ/F40RLOoek+A/xRjsUeGyxxx20rx4E7A\n",
              "r6oO2bXgIA6HXdGV7IW4nEyAjWr2zD4hLBfnSSgGpJUWEVBB/UdQOCaCA8z0iYPtYRmgKGelIHyg\n",
              "wxUkUtUeARhWBwuljfum5mkhl0OctNd43q1AMQRCAGXsyko3QFmSMGX1Q3BHD05oRAydMQvuEzt/\n",
              "orKOhSohfSxUJbNb25xaFCJPozJQY5Bj68oUzQNLCIdOqJl+dbfvEL2UGgd2VkYuJy9sgnHaatmL\n",
              "Mf/fpDH47rbPPrGJHnWm/ZzQ7cgyDRmc2pnU++6U2bZJQdVAp2ecWjwifuixVC46VLRLYbcHZH/O\n",
              "mXcOf1GbvRhgTLw54QA7DVY7rbEamQf3sTiSkeHRWWT4ajblj2kXxQtVKP801DCzsVMub4xoqgG7\n",
              "jcPStyUA8xjzzhh7z1P8uFnm3zfw2OaFeVDdVegm5yeThr+dNxWqIHfqsQ/rfFUpzHB4GVoUqHNY\n",
              "QeCZRFtaJBsF8V9nvb9QJaiBAd+9Fzyd97H8eysY/SKxVReSvkVsf986KEAAYPeYvPBVmzoc+STP\n",
              "En9YyI7boQoAAFRU0G1AjIAXJ7d1wtD02XYqA5CWP1KkRTN//bDelHqs6y+6ve2twfakQZcSyZPG\n",
              "g1Zr+R73FaEYk0LrMRO5AjK1yi4oTzdmNQo5o/tMP/skOHjusCvogkjOtpuysBnKP7IgdA8QNeF9\n",
              "lbZYnHo0UEJcmgoJOUklf2z5kE2O8TyJrRi8gkHUBXNodTS4dVIQBXhkLZ9HitDtNjBEfqb2zNp3\n",
              "fNBgaIQhWBYKpa+SBBBnfka+2x+96r17t0rfc7vUKhb4QNAUixB7ULZhjNtGBa2p8eBPZ4H5OPDv\n",
              "48RN+U8+c7BQJ7cw33q9vz+o38Hz6FwsmFXveksPGnYZzhGTD+ab7Z4093bwK0tCehByDaXbyCsG\n",
              "NcHAh1AA6BClnqlV9TRyXWrhrBTYVUDcio51AFGoRqnTKVRb1X/130AJreX5xR8eXbRpT+R8NlMB\n",
              "Hw8RBoYxntEc23JRv4wdVRj+3K5EeEOxw5r6h4nlXRrr8Bm58LkdMNFHs8sjUuZaFaAYyCDt560s\n",
              "YSMpGeo1DFEe4hLnuvuGAyi0+4A53EFZNQ4uWJobOuSj/rKavjNxS1dRa2decI/e4EN0K1i574kG\n",
              "JibCxw46Yvu0X4VTBASKTlinZ6c4n9CncwrtaJDkW/m2Z0w7FfLsYRhYZ9UdpOP83XU7R9KUhnuK\n",
              "2AW+KmuswfxvsKsH4/JHgNWoT/YrZIjZVXRi+uKTrj7Vsd2h6JlFLH6Qn2SWPe2h5Az8ZlOY7/6G\n",
              "k4u/NBxLXNY7WuPIhJuQ0kkYRNZ6NerVFZD3cOdJW4Hz0Fwg6ktFU2oiJ2jJbbbhyJUsmBFnJ8zg\n",
              "V6GT1sqiDMQDvGAuH8NPYay41BcFdDoDS6O1o2u4DBuNNAvW1aB2t+ofwVcLb0zcc95CR/FLa3v4\n",
              "DXgL1hEmb5UDv8VE03idoqYuEpd89GgowqqUwjvOd+ZYfj5Qn8HMNzSZUDSF7Bpr3nk606wsnA0n\n",
              "vEVdr07SqHjyUXDnSASJD99xMjw3Sp9bJqe2Ni1eqcNCs57xkogEfby/qhz3NHCQVt0noZh/EYRT\n",
              "/D54gBBCDfdenWXIujrG2MWm7JSj03oOV1As/4HI1KMbyxHTcNbleIaYd140gkiEyUZ7xwZeR0H9\n",
              "5Uio1o6WHb/Slm/HoUf4Fc4npqQYTrSHNxz2SfExzGxdR7v9tSvkVHNyvg9F0IURnXaODO4kwVsi\n",
              "RRdu+jI8Cs6W5pPHqSWVUE0quIcgWEdFFe+wdZ2tRWfZfn8/T/XNRKjplH7uUvPb0dh1pjG6OLoy\n",
              "JhZvZ/TwS0eZPtvQqZqq6Guezf1K9Z4oGd+7QgYjgK2705MLpRsrFyjL70vIVm6DZ5m1vFaEAbcz\n",
              "0+2xSDf7bBmykBN1B9Rj1+KUCnTTL/ttl69XK339QsHWPgvKlBLdJoIyq8HzRUfr03Yy+3CuyC01\n",
              "kx4CK3ffE9LwiztG2QXDWRGYv7YjMbnHEMsV8hT8Sx3ZZDNlFkmo4bpWUbMd7ZzMoD9zM7EAwT9z\n",
              "yEQPGP9nzu6xYPWrHTcdF9acxZi9buFJ3ihI75rhh//xKnwROc3OwXvlFczOu7UgKi9vRvM9SIx7\n",
              "6smGdQJOVZ3wZIwPjNc+JgJwSEjYJFrDt7+x4Ww+yaylXkSJF5ljMay7YyW/rd7tlDINXqneeq3d\n",
              "pFPmNLjwSO6aZ8fRKYhTSBnwROAyjcmNlcZgrZkdJVtFub+GQwbAWaKHjICX/m4ymeq+6DRfj/0U\n",
              "SABqCPTwbuTw+Di4q7PVtTFMAs3lNhZ2q2rGRpoLNfz9WFEobcyuuHxmPIW3TQSZMOlyw1msoB1a\n",
              "J3OVbQBlBfD+LUlGsBAQhH6JGz6uAbDsDP9pqRSMAPziL/lG6WedQey7ZP3ut5LkqHQbCZjPHgEi\n",
              "RX/heIccWJQeZiEgzv872YFgrjjQmE8CkmmIFqjhg3jvOXjmZ4z+2Vc6q8EPy4jIixfCJt/H9R5X\n",
              "Bf7a672zSAW0Xo4NV6OC5o8I8SAjVk2zoRD1JsrmkbGP2T8nGD7v5AROn7EHqQTlzJuzRecDJ9ry\n",
              "SQIMBgC36EFkT2dnOc7Qf/4sYtjZ7wojTvpq8ZsDDh1RQ450oErSIXdkD2ebXHuI/wS10G8mmj/K\n",
              "gvaTvr045qK9/C2Nos0ElJ83Ih/UaefXrANZ24jYkE8fryhwArDPwNVEMSWtF1L6O30MIAACRV8C\n",
              "s1Rzjo8jUgwhGny+5HAV55HDO5tLx/ZG+Ts1iSl4Ns3w4omflNs/+8wyDvqO/yu1cg1d29Kz4OuR\n",
              "k53TAXSxhvId9L4mw/dOpxAmHpPCd4SKq7Y/D4yh0ZJ+pkePhXk3kHNCxVtECLED3wwopWzH03uI\n",
              "lW8L4X1hcYAbSRHbHqhUFs9yofcsr+SrqdJELC3xIpjy5Vv2h7slhU+nqHRobZYkfSbFzciT3Vd0\n",
              "cm0Q941BkbFNY62V86u3QBcm5ub6ZQNEdFBsT7rE5suOd3vdmOOBkQuyLUhxJPXfvb2hlfIROihs\n",
              "KvGX0vAiO4BRymVqzhIVmpc315bPxOQEoQ8SqIuicckKzh/DtsIX706jOE74NDAE21C2XZjAl5A3\n",
              "Pj8EP8Hp1w/tYsXnlGFmdLm+gIULRUU2kiot1XPVhzPNU/0dJwuoRibZzQSMX1P0Lla+8mJd7kUP\n",
              "XQNJRYKvRTknpA3CXIv6LDpJF/c5932b++DXm6cUjSHHUNxhtPv9JicmJXCk6htqfbreDLSJHu9/\n",
              "GEzo7S7BxSYtlPHT1guYA6dLpS8T8FwrfH/9ragGAjAwTWLPj/MrP2mBbOaVO2ZENqJWDTezjwxJ\n",
              "1at7o8bLbeJqZqlJ9P6Ex9HHIzEqiRhFKB5jBsAnYlnDi2Jv97gHZMkDtgyxO3zIbyiM94ZPGa3P\n",
              "5D//T0VUzBVKhtAb3u3Tlh4WG7p3xZx4d+WJ1GQAoUIQXstvO+kqkflmiK3uYyVnIHJNhN96w/b2\n",
              "lVX0KMxqgb3SjX2nOeRleImr4rVbouQg/dyo89JeH+D+lPYbMosnhcQdD1YFhrvWOKHElCup1OET\n",
              "1ENmkFIoMzCdnH+nHHxCS7/LHs2acKJQPNBf1a6q9QirCdVkHyHY11w6r5X6txYvNXXg0vMKsZcB\n",
              "ltNQhrguu+WHO6Z+2XXBcCYO5qeEW6loXFDUSfMyirSTqUtfYgX/NJ8kc7SIR4BaqL+PH3UEsMjH\n",
              "k5lXVgHhtAw4nvlcb93XvNlgUKNpN9OvPG2Yllw9hcTCUBYsAF/00ckgR9Fy5G/A2GoDpHOSuZ4Z\n",
              "1x+I0xSrLCzkGlLGqIBTA6gzIffOwrEIXfWr2//K7vr4yMmViVNQaT5zGTn0waRNp6bRYSCBQcK+\n",
              "sNXyOz1iLCDvazL4Uila9z3u7AdjzIcA+AOjJQWBUTLZ4cjiY9ccr3TWKIsNoXB31EIwpC/TTe5k\n",
              "dkT+avRLsN9HYZd/h/GRPwBHRa4JbGsngHPVRJ4O081LXq/54tz8tABmw6ccAdk3YdQZxdVCtauo\n",
              "Rm0q+acihQK6zweXVL+bx1c2a1acuZvwyYwPXyDzAEMjymPW/PistQk0ZyU0iGGkmuCYCUZOxbX3\n",
              "NpQQJ7mP0LlMqqwSxUZtX1FDF4QCI6QHWDnoHtOM8tcWGUoUSd4lbkBxzReUqPnbM5/4+cnGeQOa\n",
              "ep92oenBmyCFcYMh7eVJggRJO5gVF1QXpALptP4dcnpmczokdqp6xBNtSYlM85/U3u4ghxK4KHEs\n",
              "VAJ7fpAKyJkzjZzlpOR7ice0fDsgVJjKubBxnUA8QyzzWBXIN1MV1AXsJIrz18TimtCRFzVL54Th\n",
              "jL09YQ8mBsTgflUX8lhq410b2VuZ/WJw4Crg/har+txxfU43uOEtAUtn+BEvIxc74v5YyiOZPfin\n",
              "RTV8YqwiUm06GCcB7kXp74DjHx2uQ3x7D9H5wBfPkRAhH1EFv6oKY6RC8JPa6fhJ7Zw9gAazJjWi\n",
              "GpqwpBU2SZdKyWdHXiylcNoVK8gFqFlOGdOxFBnGRMuHgh/fUWZeuTZdcBO8JzbAw84z2uOFWDTD\n",
              "rhTWz13db1tl+Qh4BxWYj0Pk6EAGvKwLVVjLSaeRNAcmO+8ZuUrzODECky3jlcIP7d4BTa8a3g+L\n",
              "5MbEGLBJ8IeCtsPC+5r+5Y/aCzumhNCqJRrGsQyy6jqBsE7uiruy28tqtRNDEX2LSMn0D30UMFWZ\n",
              "b9RDN6N6zUzymPn7VbZNGFX8cfnCCAnQL6MvfZItJNAhOf1hoEUjla4P++WO7uWVyNg3fNtj0HML\n",
              "BNLTIR1dyjr3h4kLOiJQaZ24obbLdAwH3ueo7AOg6o9oeZedLc1lCSf27AtpvGAXJ8o2DElA5VWO\n",
              "lx7Aj61dWlcn+2IEZ80VLA6edOu5Q24IvISHcNgz1Fb+j9c7x9GneQxaLDmVpBtdshQ+jt6QaeB1\n",
              "hj+3qRZDtF96gAAEsmIZ2CzQmxU9AgzaiTK1FZa4MXq46lj6JcNbbpUOBiLVrhZMBbx/QYqburLR\n",
              "ovRcdQC0fC3/aUb6nqUWc3l9IUvHj8FPo3DmsZVgWC7ngQ5SxNvoUlOyQZusLFwwCZMnBwAoQNfi\n",
              "Si4IAYrN2FIv8NCm2LWG8EL/u12MTuYUm9yBr/MWkV6tkh3N/306SHPtWz3RtcnDW11Hm/ui2lDk\n",
              "N+ZjuL4TDRUf1PyPX0CcoKGPkCQrhThDOJOyqyVEqO22MeTMDuANoZ6vzEkxCTWlU3kmkJVbDyhU\n",
              "I2PAmfUmlFqve7w2wAyHzM7y4UG/vZEbfJKK/xZmmntLP/OAADPYEBEAAAFuQZokbEJ//fEAGw93\n",
              "CANt/Vg9Q6Pw6S46eFFy0xuvjmpzEjQmurS7nqzvkumIf6XZgKLX/uWba0/gI71xOquCPb7aWvKZ\n",
              "1Jur+MDf1y6VymCcK+piD8dWTO2xzx6lvAM1bkheQIPL3aiYRV5scI83K9LwXz1g4HdB9++VGytx\n",
              "Vs6U3jBucmjRryKaI/XQR2/L7xRzRsj1qaLahJX7sCjX1Ly9yvwkV4h0ZvF8OfyjEvjRd9ahSlZt\n",
              "imCIquF3+LmEPzBN4Y2wpkudU6yBNrXbMsP2QMYcJAUYMtxYzJtsWUVhXHw0AjDyuxLl8Yv5omjw\n",
              "ZEuOG474Kj/DKFcncLYF0xzIng3uBKnTp3Sfaj2imvlOCZIK6t8cszs9b5Nv4JO3F8H3VW8NmCuT\n",
              "qTPFCCXuiBOhAEFFHkcPrCJEMZJxxmu3XGzWhxcQzXQNqE0u82jek64jrFyZz/uXMG6ByELKuYSm\n",
              "jx8Kx8JtFJoEZwKAAAAAaUGeQniN/wHNnAPPg3al1g3HZ7B6Smw90mdJG3tIAOCm0+VFSGzo+T5V\n",
              "/6FUc7KIa4u7sr6MWurp4vcDKTsj3qiwsXfKdj6LnZORyYZHcRzWybcSKth7mwZ0Ov1c4Q31HRmD\n",
              "7ypPbnADCwAAAFIBnmF0Rf8BFtEiAG3JcVLRdgsbOXdYQg3BVvuJyoQbHo+MHcFW4XTk8ytugeU0\n",
              "SFjeXgj8yBQTOCtRBW1r913nn6BnHLLZeYgVUgA2GrMcrVkxAAAAPQGeY2pF/wEiEqZ06snp/NPR\n",
              "wBKGaLCXuW8+MB2Nwx8Oze//Q4I6OFC7YAGs0wdsNUDE1Jqi1kBG965N6oAAAAHHQZpoSahBaJlM\n",
              "CE///fEAGmH26N0AHFcodBtXBQ9bTG623Bna1XSYIdP1dIBmMtA6BYfMvjrUNAUldWw6yvf7IzyD\n",
              "JzXwsIXTxTXucsOKNWoaB3H25xPcTu4cuBxts7eVjOil0fUx+pn/XJqjuDoQhoGDYpQ3OySViOVV\n",
              "6f5tYPidtbkYTUjzAJr8qMCCR1KSiBF3jwyDKHxbj8iTldtbtyZysbowSiHOSgr71ItwDgd4d22N\n",
              "uU7IxX8SGukDNMJo3xrU5mX+ScSuUhfxnm/9VRVaOeqkc+jwyfngEPWhLmJ+Bn28PBa1RAjooQnT\n",
              "kk/RSOFK5cNCX9NGBes9RdMBMIg/5tSJg3BgQGNOd2ABJv5af/LBfCz73rYWxAzsq1lswQ3OPHcl\n",
              "DpbWbVdrb5S+XntNVp0tX6aDAUg6YsQX2P/Bjt6g202Y0kk2VKRcP98Xwe5+YFrjR+XGWE7v+8mw\n",
              "bIIXY5mHmDNj0VnP2WTer3UUYS+olAGL/r0DLnlkhIrImhdmnsMAAEXxVZuK+09ya2dupl9ceWCE\n",
              "bSIjU6Uk/1+wCO17JGWm+GjPekQiJNvZr0tOXEePRiX48Ah4hGZkyiY9+ZHuTOAAAACOQZ6GRREs\n",
              "bwDoVa5ofyu+0Bb2gA4KZl9THisGgATLYWyJ4q4DbGIsfU0eU278vocSrWkVaBc3k7WjsUM+YK6H\n",
              "Trz+0w5qu3zOL/2vS2taT5Ce0ygSlg6xHOyOjk/4cVql0EMevBGe4DR+Vgvdz7u4rxAI6UR1Eiqh\n",
              "9JSjTS2wW6M7mo9Yp+UqgYwob/iNEQAAAGgBnqV0Rf8BIgyS+KaAFnNSFJIZmkpd4QqeAJJxTvZV\n",
              "mxkXLU4fzbDP3+2IWcFZz3wUj4rQZkV5ePv2IHnMK/6sfkfbHszn+7vxv8kEhw0zX3Vu+6cFjPzu\n",
              "51jpZvwkhVfSQJQEinTJOAAAAEUBnqdqRf8BHmKJGwAJz1nIyGx7JLmjBNLIBgrxovUSeBjsUhev\n",
              "KLESy9LqfnVwYC8K+u1d5S+Tzmm5wPlrHF7jSSDRm/kAAAE8QZqsSahBbJlMCE///fEAGmH4SE6g\n",
              "XegBZjvK832K65NKQJBuNJMhS9ceouuT+SVQqUtlOgAc2bddSZVmwaUA/ajYUh2HcJC2UB6YL+p2\n",
              "zg/VTQIxyPpcPIUnPBQGbVa4Ai80am9UxrukzOGufvcS0NId5IMR+Eef/cENvYcEj1GcUgmbu+H/\n",
              "oBCUCgvlaxP1+2Uyjt8QoYggLrx1LrTHsatPuwhEHEgaMjMW1DKylLVOmYprZcpCs/oKvYeVodV0\n",
              "S3Cqi31d2MKUrGkh+OvAaSomKgeRjUhU0fhl5dWpuCSRA3nOh4C5Kvj+8lD0hT4j1KeRoStps9bP\n",
              "zjgmhJBLRgBJpSzVacJhPvTkhODPe6+EteRluoqeZnTguxK0QgzVAw2J7i89hZO/PSfnyzQx+IDl\n",
              "rUKDGQGpMzb8hwAAAEpBnspFFSxvAOhUozVwjgAxZ7XRpdGumULGYb3i9TvxK5AJOLs57PWmkAC5\n",
              "oDDPo4086I5w/SXVaRG/ImMKnOnaZmxcAkb0YiADPwAAAEwBnul0Rf8BHbhmmIASZQStU7P5jmMN\n",
              "nyWCu7BSp+bwdJfX+d1CJQApcJT0W/TFJnRe8GmXOiYqEq7Rx8s4Frpn8rSNlfEB+XeGKAWdAAAA\n",
              "RAGe62pF/wEmYlh7KqcADNwIfT7LkM/+mZr+FFAAX/Pp0f4WPWg77CK4R6wtsFeakTV1THYrj2pL\n",
              "Wc8UkaH0/83ngPSBAAABsEGa8EmoQWyZTAhP//3xABph93XOr9nnAG2Z7FjgPhv4ZGDWzmP8/unD\n",
              "Wf70k2U7OBhf3GMScynrk+iOrfbjhM635Tx4VjTc7xOS7v+JzW4e4ljiptl/HFbHg/cCMPASEQod\n",
              "+za8NW/9MpKFa5EXBqZyONL4n9poT3GoYZOOUUvnvDIw0NCo8SILK7SjtXk48eXUDbKhSNPrWcQK\n",
              "aIJ99Km+YlnmW3Uvph5hVCnVyZbk3ioyFR4TrUD+oYJ5sFSmm35tWbsnEZwnl3u0BRwA9FQTu6hV\n",
              "XBSn96DB3U9Z3ioNpOIyw9nUj2fymV5+X/KLUEjyRim++v4E8bUlhyDE6rfvGGugG9xq+tgNQE8x\n",
              "dGrP7ef7shYJCErwX0wzvniOAlSlSaqkDrw9U5G8Hln3r8i7XVLghyHpP5uT8ACv7Lak+b01pjna\n",
              "Ofe8iDRut6bu829y7Aqsd4GKeOxXg/46TGARzk+wL6sjmJPD0KsJINWh4+NqNMsWGUBymdWW87no\n",
              "GuCQd8GFtZqo/72YEHWJ5DqfTLIdc7uScylJivHvlbrBzncZzihAemRUTXqF//oBwQAAAFxBnw5F\n",
              "FSxvAOgOM0R/s1SHABVNg1apFlyAE0nOGdkH+AlrMu6ZaXxM/nAT8ZJSuCJN7dywO1rfl9nVxW0E\n",
              "fl/si+QWmJckUFJ+RZM2hSgZv9dx9uBadXe0yUsA/wAAAEgBny10Rf8COYdQ58DgAOCfh9jg/Emn\n",
              "aFErqCVVCLD9hmFzNZykoYNOgXu/NAfN0d34sZLVI+4KPUqOHLjI8lUMUyno4XjAEDAAAABRAZ8v\n",
              "akX/ASIGCkbQA2LnTaBmlfv0HgXdE5os0XEWv2+6S5RnaXrjBBreMdzT8IiZL9zFBFekKhFMDomg\n",
              "V3hMuZHLxO29xZ/JwhwoYgFv8gpJAAABqEGbNEmoQWyZTAhP//3xABph+EhOtamkZoAHS/n0KNWd\n",
              "I7a8LThY0P5dL4xV2gIhSZf/MrIffDMjI7x/4VjzS3ytTXg4x+FpIQQ+rWvxDdGB/tlAdZLDli0T\n",
              "eSURaWonwjlybWR9K7YDRtGJP4Q5OnGSQwJpYerJ23qAn2F8CxJ1gUx8aG1f80gltPpgxn7U205H\n",
              "JHz9F5dl5l9gb84GhowTRvje2GWIAXYWrDLjibT/xhXAkjGo62ms9TY7gIS93crOGZ21XPFj7DOh\n",
              "Pbrc0vMgqlJ65WrKbk7AQ//+3qXGRmZm0WBiWHmUVEfdf8rfgHNJ6XN8RIccHtD+Cpy/G++c8Jig\n",
              "6sIx7juG5qC2pBvKaKdDm88V8hrSTRmqwxHOYF67opw3eMplGOlhxzo65jyGa2mOv9U+XqIDunNd\n",
              "z5tj8954Cf6HDyR1Ky2ip9aoNW/rOQFuPxOtOGq3jKNALynG/aBqlxYRPSuaJi81bGp3prGfQhGv\n",
              "8lhf06wb6j0lkk8Z5SMMvd8tJlgHnSK/bBGcBxCLqin1dwBVYHCfcnX18LA9zaPBEbAAAABnQZ9S\n",
              "RRUsbwDoDs2gAf3+cgphIljL2V35vb3TpWIAT13pXWEpz1Px/9/rn1ozYpDz9j5d4BZzQ2POA3rp\n",
              "EBzDPgteO2+RlnINCD2CFB3Pkz/QErZTRJUs2OhETYYIpZoXJ7gxK7YBSQAAAEgBn3F0Rf8BHbhs\n",
              "zgAVhTcvNV1tZoq0J7yqaUUkHEUd2ZH5L/hO7gAEfP2IsQR9Wm5CAAcGhx1rrsG7Dd1KT8bC4pLA\n",
              "wsAA6YEAAABRAZ9zakX/AjvoSGdwAlinwYm2KT/iJDZ1dTbqgiG5e7Hzeqn3lFjguKtvS6onzNht\n",
              "TIagCmR7XwElcpmmhY1qVnDmLsx3qtnOcfyg1mXsAA65AAABbEGbeEmoQWyZTAhP//3xABpfYfX4\n",
              "AB2TOxR/u66Al04WFVPwoTyMrJW/lS5u4vC/0LtjWEqHl1F/VfeNn2jy9scVpnXLwrtbCqUUMIZ+\n",
              "Q97MBVEpZoOIBrHfpYOBIkRW6dAdqEtiXocV/b2pQep1hor3tKDFkfcbidzbuecsfj1yzjo0U1Sz\n",
              "+5UxgCVt5cTh2lNNMfrSdJ+DAw8gfC6hMCF3r4gXM+ACP5Cd/Ow8adPUX/1YCurRX7vkGudw+T8n\n",
              "gsbbf/ypuQrKcLzzrV2mdhE4l6guuN8P44r4+qEGD3WS5UAa94V0+nA0BElnI1uIbfLW+sJM17oO\n",
              "6mm+L5aqekd8uXCln+W3qltocMJLhbz08qPy5C8e8FeD79wWJbSXL4bfEC/u29aTZetBEQExfD4l\n",
              "4cvEyTRBPoCjTLuCCMvPiRUsC99ucrD7c2RyAgDm50/PBJ7QPmwSdhr9x9VGwzyJbGg4ITvEHhSy\n",
              "RrcAAABxQZ+WRRUsbwHBugqmgAXS96WmPtjVqgj1Hp+Q4ZXtXWTG+t3ZXexKy2yhBc7g1OH6qFuD\n",
              "jfNCB20etRdygXtwnQb2TNd0eWa1vZfPuTBXIBi4oipWdC4yBgim2TVveBb6pL/K5c8DAKweFbRU\n",
              "JD6gUkAAAABHAZ+1dEX/ARmUX5oY0WK4BACwf6sYknID6PFjCN0x91QPYMa7K/3Itu7E9fRFw43+\n",
              "cc1F47xMKyC6Kb8e/g6iPBgStVOfAyoAAABCAZ+3akX/ASIGCkbQA2XmB9lxIMmSH1hajcQXPeQ+\n",
              "4Dv9DgfYEYS8M/w/sim//A3zOpzQcN9Zl5hdNwsQ21ADaAZ9AAABy0GbvEmoQWyZTAhP//3xABpg\n",
              "0fQ7KABsk/xZ8+CGiRthuHbktpm3vkMrzVz3QupQJ0XFaAZWiDs+JJsqNXn5uizu7t+rFtJVWtns\n",
              "UGX3zjFudQae/a7ffS/Ol/GiMnr9Wa3rDA/dkmc/cqLnDOUwT2SXBYp/UVl3Eietd++wGq0Z7/2I\n",
              "5d6dFDYSFivx3W4DRDfM4kAc6apZiZHC07+KGWJ6BA4sYtEC3wRnSVAiOU9OcTeXhUTCzdmDOoOE\n",
              "JxOrM0sCRdmWQQZf6XMnWwcj/QEr52Np7GLrfvvflBTZfHKw4YsXKKPp4VKru0kzNeMPmcaf7PTv\n",
              "y47kTKGLD53BtvkkzZEBKxnTTTDgpnCN/wugm74CxtSZs4j9LVkCvVJM7go7lN8QRav/gceqffb1\n",
              "D1mWyQ/qNM8ajn/XevamN89esPXVEtxTwiPsuzIPOswehhrXx9ip6lvRx4LFKZ8MPlaLPnc0mHuz\n",
              "H5uibJIZrFtvM1jd9eJFzgHcy0cW9oHmWWlC9HuTlIheODVIj7q2+7wR6grUA+vPA39gmwP9GTuS\n",
              "jjVp0uGNDMxaf1MtmH0FDtwmcEIA52T+TSVWAnkdP/S9FFyVgXNI3RkIGAAAAGVBn9pFFSxvAb/b\n",
              "Df0y/Jcte+oqjmo6RFCCnc8+1vegQZoo7Vlt/LL6eJu5VrRwEhTDTxTfACv76qJGE91n1WEMUhYO\n",
              "55CFvvrTVJ73OpTkUxBvKu3EYeNcsxdylYnvv8AR51AoIAAAADkBn/l0Rf8CKYVnv5JvVetig/zq\n",
              "+zhAEP/cnOpVAFEfiEVddYA/TdURyHSy6JPXG9eP1ibrbgDZDKkAAABLAZ/7akX/Aj164AE4aAkg\n",
              "NcnpDhmFwgOhsT0tWqb7r+IRpKzmWApXwJe7H5lH5GITv4o3xytXiWgIxDu+WN+ROgX2xmf1V7GP\n",
              "jD+YAAABb0Gb4EmoQWyZTAhP//3xABpn/T/iRx8ABr7OzwmN+ohrKo80mHiVOm0es/ThOy3jzXFd\n",
              "BKsp40/74Jv7Qfuimgp2QepOpmLS+7mBsmGpoUT4w75TDrvTe41zy/SyHc/7SlD9fCX3H2ayr6h9\n",
              "0szOTX81n4zTbwdSNTqhgm4X9tvLvSN7PteMAeXyBzNOk6eXm3n7/n4pRZWzkNp3Smf861AL6/dk\n",
              "T9/8v7TfaXErF2zzxzsoky+Lp2tu78Q0p55IRAL7f4e7dQC+LcMb9iqfUSJS7OP161gA/dtLTAFG\n",
              "8LJpSDo2PsyIKStJDY+3FejzLA2yrYMJyfXzvwNq9XVFE2Aa30UiZ70fRI5mpiAtD9U96q+d2ZJc\n",
              "knqdxzrzaaa8FaADmT5tJ8BRAFeZKdAI8POZcjqTyfyqBIsrRaEvkas1HqFQnUjeHC0ncifPVYR8\n",
              "BvqZ0smvBrRNfGVVlmS8L4KKDbihb+IGk9C77T0ThScAAABbQZ4eRRUsbwHBdw2L6yohZ1Sku8si\n",
              "UZt3ttK9gt5QriJRG7bZ6zyiC4MxxV3zSTegBVtTy1Zjt9N80ZjHOXhyLB7cdO4z9dOAOQy8aCF5\n",
              "tCA65V03KHVpsPEDBwAAAFABnj10Rf8BHbhtJ0ALOQO4kycu5ntsyXIfYboUxmLOSBdvWlpLPqHA\n",
              "7O+6SBUcgEL5LqxiB1TMemtrCgg1OWFQgErd0xl0K745MoNygzO3mAAAAEYBnj9qRf8BJgqNKuQA\n",
              "svQRPoBbdcMabcL96ODWpkr6yFsdhAyfXz1yz4ZogcnH3Z78OcsRYdymAX39zwJGowCcWm8pMAZV\n",
              "AAACC0GaJEmoQWyZTAhP//3xABph94zJABzRm9engHhCak3NDx6pZzm0DteQJ6wrkCY7AhzHv4F0\n",
              "mLqSIjJvrgndpL/dU5N3gs1+oJ8tqA4A0CIBqM2Sv/bdNzWbrtI6GbpM0XwhjrK7ixkxI/f8i/vV\n",
              "+H0LgQpP7BVayncFBhm2FMzsb4uHY1zeZa1bv0tRC6DX2AHIzjljJDTokYhoH24Ir7F5PGq9h1Se\n",
              "pKTXpN1jU5auNNsBWNbdoVwFFm38IXMLaJozy/jP/kEVu4fODUdiq0LuvaXVo0oksUFv6OiaLR/b\n",
              "w38bKkOUJbg6AzqtdLnNNmPK2e1zo1Y2nUucNlIzAEIaC5dXvVEKQHQRlQZsR3qMYyO0ivjdwvI+\n",
              "IHJ+7eTlSc8LPq+xLZPkGpycxsMpKm+sVsg3GRtERozlz8mlNG13DaKMY7VvbaKhkfHnn50latrK\n",
              "w0hq1qWF0995qxRDC+cewyc8en09jsLu8SSnrOb5q7xtduWx/j7GxRr9Xrg7UKxpqefrgfPkb2zL\n",
              "ZlP2WlKz667j+D71jWJRSSkm9lPTA77aAAjLoc9RtM+qDqE+6I9qCaoxMd5A7F3l5B6hY9WFGeSe\n",
              "bry3xcCLh1sgvK3jahPacf9x/mOwANUIaSc9iEaz7sovEgi8TIDmoZI29qT3ZZWuBqXiHvVQiqrJ\n",
              "qY8i12aJFsU+T3PYMuAAAACGQZ5CRRUsbwHA9vL/QAs5ojUvQKuLtb9VvlAB58nge9bk2CQYlpPm\n",
              "os5dbxXSFiUCcKIVPMESdZ+SzfTvuuzVzLJ1nFVmyPBRNiltqu+rouZ4l+fCbD9UMFtLKn2utCR9\n",
              "ruSbEqTcfaK84rc7AIJoB7hIByI6lvej+IwGcRDhz1OzvFjUBL0AAABXAZ5hdEX/ASZH9aAFnNN5\n",
              "NVQ0UHMsZqDvyWBupNuRQbVNku/vMRN4utEpo/WHSU1ub45TQ0YyOhuibKqwmyMqXeu6ZanaDq66\n",
              "y46x5Eo2fpth694m4AKnAAAAWAGeY2pF/wEkcXMAaAAtppQkbO+u57tMKWemMINvRH/3vdBRbBBS\n",
              "1CwFvlXUvMEhtiD/38RHnmnl4xfPSRYnVhhAqo1/4uDSTI2kz8ucBzqbQvvd8B6gxoAAAAF5QZpo\n",
              "SahBbJlMCE///fEAGjzuHUcIDqABfWMCiT+uhsKFLF6W4lpyNLdavJxge5zKEN3JIhVnKrZ7af+6\n",
              "G8pYYHy4lKfqeADQ067RNVDnjnzPRXrNyJ4qkC8FHTEQPZ4kOtC4HgnjH4gnZlarmZo8DVmnQ+OT\n",
              "Hqzz0BaswmqQenJqutgdMwGSBrxpSQc38kCN0V4+0bcH/chxU+rDVdwKsdkNRjbENUG1s2wd8u2n\n",
              "Y7pn+eLjTfx/SBHvvDnpfRaki5xWWV8ryGMP/1kJGPSYVUet9NXQyo/7LqlI/rZmB2bKa7lPbJ76\n",
              "JA1I6bbx6q1yXfjIjLSjn+eVLrZ7Ru1Qm6WPar+M+WSAQGQC/FfXTc+NZo593TrwCU5QR9CNyvr2\n",
              "69cM/HMwGo9rMpZCspGtbegaULhhyoVdsRXEU+lcWGsI4fGmuxnzzIgnmB+364VR3q99ygBlQepd\n",
              "YytIlOrE/0kLrFOwCStv89Ks7HDR4EN2nIkfBvnNobMAAABzQZ6GRRUsbwHBugkB3nKhGTAJuXxf\n",
              "8n14AHF3B8veZPho8XzA8KvZ7sg8bc2JifVlAcOcCf/p54GYG3o4FHW4y4CP2oSTW0dAXD7kJkcQ\n",
              "AHnDeWsVMRSX7t81wwTRWjnJIMtV9ek5/kWWK4ELSzrwk9NTqwAAAF0BnqV0Rf8BJbhUWcn8SAAt\n",
              "ppvJyYKBE7Ce4A0qZtJQQGFEFL8A5i+zPyysxiuu2UGt5+jJ/AW41w8tn/g/hBm/Y3Uqdlnnt3bY\n",
              "yMZIH0HAy5uDE0nGnW2nBvUACkgAAABaAZ6nakX/AjlvJKxAB2V2LPg9QYlq4UldfCPKA7crhLyV\n",
              "M0iLDMa4TaOm5Zysxqge6J/mkpnYF+iTdUMJ+JunzamXoacC/VqbKVSYzXRi3uivFkIEUcniq1C9\n",
              "AAACMEGarEmoQWyZTAhP//3xABpnck49A4AMuBBBvIddabtXt2ckndUrayqgq7apn3PSpRg2md8M\n",
              "wNKbZXT393Wv0JXP3yi45RlGfrsYWlNBgDQUnPU7qxL/nQCcotqJIXrKyyqeXA2Cym4SM/80lYm3\n",
              "y/22LJ42QyO1pg7MexYbHpgHYhMK+DDiZE+Dt2IsYr8UDoXGBXJquRHBCowB4TobZNYASs6xWmLR\n",
              "iA0LWT8TquW7vvDrA4xgyMROi8y1J0uwHjIKoNg4ONAWTD2NcTWDLepbikPeZqLjhkkXacll9pob\n",
              "RBQDPWRZabDL3EwbTpEbW8+UA8KEZxgU4unOiCX6qwZlS3GH2085Oax7A6//54vgzgc8bHJfPF2n\n",
              "wOtEPYWcGXpK7kg9dJRDEKsdX9HkeybuVkLKOpuVZ87QSdpp9YhzuaZkfnV3dGVZ6aO3ISuRNCa/\n",
              "J6RIV6kgY1ugghVwkJkgMBnJvfEg0xS5uJDTlsuCTiRPNj147NS8FO6RHs+AvsiaVsJE0rTTKU+D\n",
              "SNoQXcTY/ojekg4VwyksL/W4FFCa9TPmKKTY4XqoCjCgUS3hfNIEBtCS2L+HX8aq69CglyStNweN\n",
              "GE0IvqX/hfQLXSYJ08nkWG04wE+SOYa2PnxoalR4xHiigmciFNinbzG16h/xYXx7uIT+/mByurnp\n",
              "I+FmTy6zTmfenJELq8ZAZ5awUAgF6tylBg5q1X8Wq2HUcRFalBtxe037oNSVaU3AWY+YAAAAgEGe\n",
              "ykUVLG8BvPqunmgZaABdOy2TmcWZCxDWzwAfF2efSqIYEBnG8+jCbSWm+gZNvPQxuKIXYdbtBPy5\n",
              "VVyqa4OohnNnm6JPBtiKzHeRaeThKE5WA6gIkqhK0Y28tgaiwl63jvUX6lmz1WDi7Pb02SIXazaC\n",
              "HFmK1voqAOMBJARNAAAASQGe6XRF/wI5FwNiwAJ1IKpmP+r+UqkWg1nU7ufWpqgUM/Bys7qrIBDg\n",
              "XlTaib3lRtrbfWBa84+pDjU4ylP7bQTaVGdwxbCv2qEAAABIAZ7rakX/ASZiWHiJSllXnTK87IgB\n",
              "L4CK4IxQ6EOdJaYag014j9+a79g2qyj1apGv3XcG/Z2mjnYIuMF65xEyTOnPacNK2QKHAAAB1kGa\n",
              "8EmoQWyZTAhP//3xABsB+EYJr/4P50ADRtBz2gycdgVFbJXdCe3hILqmWKbKiO3ttlOW+H50bLjy\n",
              "1mNxOKdJRmlRV8H2hwPBQN9+UejdswyTr96d2FSiGEK9LBrlpcMRjUliFI8cc5JuMiBf9h+DdY4M\n",
              "Pzxv0hvLIsg+AgPtQS6NVv3/nWtRHBgEVryEVb2unKKJuf4QXucOKohQraAGiNGcOMpt52L2LLoi\n",
              "1ok7Xx2iOc5/uUdP+EDQCdDo4m4rrXGnIDtI7a9QukGevvsn/5/tb/UMoV33jelYbwu7GImPUjFz\n",
              "Wt8+jMlmoZqxImJEkVMIWWdKBptNi7/8f52R2YmcJcdUCdGftgqZRI6N9s7e+Kz7XdBNSLFj6BYJ\n",
              "pBUgJM2wtijLGPW4FdlXnk97btPkLmJdElK5+vfwn8zucuIOea0JJQjP64fqSTqkwfmXHucujsk/\n",
              "muhBDiWbdmL87NDJpevlIU584kO5fYYf1fCC09ObX7kpMYMjCc9VJjqSx5lAM8sW9K9g8em0zIDq\n",
              "6tCHqsXvF8LIxMehwupzFRhh3Y8bdletWvCX8h2caN0cBnfpRJc1ZJCS/R3uEct6oC6FmnV86csg\n",
              "l5GSslvLnx7tFxxxAAAAbEGfDkUVLG8BvM6SehpEgwATsBeSUSgbffXxMw5X1eflFq2tUL0Snc6A\n",
              "pQo6k7931UfBY5chQys6SXG3oWhmKit/kl0Ug4NFyDkW/Z0FNbFW5rE2MVvmc8Y1y/DzSHOkHuVA\n",
              "GnrM7AewFgk86QAAAEMBny10Rf8BJbi9VgAK/nX69cXfjdrZIHYv7orutl5QKdN8nfqC7UBYkJVG\n",
              "i6yjOxNGGvrfhYI9TC4nyDMpZRQmACHgAAAASgGfL2pF/wJJMV/YQG3MLmsiFrYziwnFPCwFNRFz\n",
              "0z4OgKxENuHxo9HACzNt5t4tK8D9xAI9YGybh9z4qiAEpj/6MZkHE+W0KAK3AAACFkGbNEmoQWyZ\n",
              "TAhP//3xABsNL7wNgyAB2Px/hJDmEx5uE82bMWfdR5/fa5iAUc1ACXRPo0QmJAZ3B5ZH9NX2zPWP\n",
              "ym5D/kLAN461n4DpnkGAwbgHfV9poXr7eB4SIbVYxwLNpDMwXOVGMF+hf8z1EcB/3R+Y440+eppO\n",
              "Ugk53rlGvtFY9dqEMDfP50m4ZyhYQwmhaybFgIbiq4HP3/xozzYL4g2brw16yZYj6z0YOOrKMht/\n",
              "gNQc/QhfAtf/O7L9PuyKNeMtqWpnYvoSUj7Uo5jqbMZNaahcljm/Ujy1p0X1dgpvWdQ2DTqCkQSH\n",
              "nPj/jX66FIIR7BLYX5JuRuhZVHZXK8+49FMxVEZ5mrT8b0F6yBgwRbx0ki0ljmRP//9f/5yBRq0V\n",
              "+VHKSV9d7TPzTjAdcwSwKfFOYzq2ludvoVNtmByLDH/iN568Hc8/sgSkABgGFS5I1kAW17lz26qN\n",
              "F8Qpj6kKSdxpnd5yMnD3weRp/o4EfEH8uEusRX2vG2Cum1d1qh77bVfIzeLx5KIi0fPb8OdKLshB\n",
              "q6gbRzSCt/ITXC9jVWn0hrcnD+huzMH9spdmLbsMIZlKBHNE0ff7G6W1JDomEhH3lE4dzBlMzK5C\n",
              "mBCzs36gVuihK5x26nej+s9te3N45VrVmWC6376Td+5hs/K0GwWk6jlKgOWqyezYKVZBKTtsrxC4\n",
              "jwDPciCzef41GO2xZQAAAIVBn1JFFSxvAcgTFSyGcnO90+489egiXejn1TaUYAquHNuSzA2NDFmb\n",
              "s+wFfT+jKH8SsGYAK+L0OSYkt/aGBsfpQgD8jbW6wwhgulrdHqmFpoJ4T+pDXM7LsC1IYY1/R1C7\n",
              "tb4y6sXXV/ouCy/UXvqelHlNlBpoEeo8Iy5ndIWeiETpHc+AAAAAVwGfcXRF/wI9okQAmU+ok/iF\n",
              "LQsPSTOeK0AF9rXNYldbjKgkgwbB0BE35ERKDEVOIw2/8iMXFBQ9dIc9kdGyY1OiBbHWaNWSoave\n",
              "HUgpf61tBwPxAR869QAAAF0Bn3NqRf8BJgpkolYoHcZkM4poAWjxbu+GM5iC0EtSZ74A/Ky3pVD9\n",
              "AkCyOlqbkGLc7ASKpS5wiqHI20KtxB6MD6l4DRC1kqNdqADEqfVE28rBi+B5vSxApSFyHTMAAAGh\n",
              "QZt4SahBbJlMCE///fEAGw0vvCF7QgAnbZ5OFMRYOLEzx+LNZ678OlA5mxLe5Oj7lzBbAnYCYG8d\n",
              "s56j/PS5Kc6ZjjoBkOR9Fh3/pTiyB+SS0rOUGsOpwc8LEWAKkKdXPwjbW2ch1yaAeFeUtD0Nmexw\n",
              "afn1f3gTTFT2IA3orFYTwUa+TvfdkDd9Q3s0/Y1gQL6lhKShH2+rLro6pA0JYzg+NbIt7MLYztN/\n",
              "BuSsH1iC6eZy3asFeuFF63/J8ophgX5zpWhibWOJZ6Fv+OADVHBcy5f5DLFzTJzkgcUSWBtfwVAn\n",
              "rtMs0xo9gcKe6THhoLUYLwOkAuYFkPrhQiAH1/Xi4LL4rPQqLl027aWkFnSlCZVp+zQVhA34d8VD\n",
              "9NWWQlHDDg2h4XdX/sFQl9Kr7gFpJqFu8BmPS4To77TJWqXYPCQnb3uFzKQi+hwuhAGh6LlcM+Ti\n",
              "d5guydDRgzDp5xAhCgO5pVvshjiOgt3njdkv9spRc/1VK3mijLVdT9dwVXQBcq3y6HtZcLgWi/e5\n",
              "4EW5npM8Mw71aSgD2gavpm1tAAAAfEGflkUVLG8BzJEXl4AJV53Cv5XxKz0uLFZjU1r1f7XI0duX\n",
              "tOzb1EGGn5R94uRURZJe7gBUi3hr3g5KfGLxEOizC7c28DQ/VI/LN0MRmbFjiLYttoFlZ5QhQzEv\n",
              "0f9/cyV+OAYFbdOohErKDZFaF3IPyA79LyKiv0KIhswAAABUAZ+1dEX/Aj164AE1XLZLZc3noMDC\n",
              "B03xh1XxbDrfJI0W7+nqCL5AWM62zn/XtmgZwq4LfPHFMz8xI0vKBrpOWc5f8eTQ5dkBkpE3hEtr\n",
              "twEif4EvAAAARgGft2pF/wEmYovyQAsbBgjv6tWHLaI0PxO4DkExEOJ+woN+nnTEPHTBzIoXhfns\n",
              "FZBTNNapyt5z1AgyD4JaLv4PvW+ALuEAAAGCQZu8SahBbJlMCE///fEAGw0vvBi0mAAOfl8DDzFP\n",
              "vXMQL/BiwRGj91Iq0oUze8jRrgSVXOaA/9PK5YqjkgPTNzH/o+Ru/1sIzIkq3004obuo7mjZR8GN\n",
              "qFja0q3g+Esm0jPivEtTZZlYRA9UU6yJIGi2oWyP8tF02ubXpa7QNxicek6Ryw+zNXAKmowkzTYX\n",
              "PFbGBC844qkk5Xsb2rHNRggDLfrT+3aV1TwlpxidAcTzNoqsZdmQ+Ok27WZFtAH7PiRtUsIyoRRO\n",
              "sgMIHGwhnpNF4s70nC8wKDUH/n1Bgg/eLJ4HICTXj583PQfDB1ul66KuX4w90M464boDM4uVMIvS\n",
              "f6agwiEnKjBaZmJAKo2sV2rNJJyQGhAKo7uo/YZKbgIjsiIwjCcnzF9zUnaYg6agq25rLsJvrLL9\n",
              "SqnjfSHOS0tGo/k7Y9EZZ5z00gQ9cI9dqr3qZnRQHsi/W8AywHffLur9W9KRExzpU8CL7EN1yKX/\n",
              "S8QH4rmGFfjie6eQwh4AAACMQZ/aRRUsbwHLr7ITsYF94ABclPh1nkn/1/6WLvF1VBJ92iUBbqBZ\n",
              "Qn8I9uYnLJkQeZrlt2elHzyOk45feleSAtWKiTP6r7/slzBY/N/4fpv9nTqnnNGfydABZjfP9AXM\n",
              "mKoqKXYSXGuWZpidnzpvIO3O+mitohkvHOJfIimos4bW4slynzsKJ4EkBvQAAABIAZ/5dEX/Akpc\n",
              "iABJ7BQEnga3HMrTmhsk2cFhNce2wznOGsEwc3RXOqvwytPYkePuCfAUobWMMgxA7zhk8QtUlunk\n",
              "fImfTAGpAAAAPwGf+2pF/wI9okQAkNgrw5OoJLXKIWWXaUnt4yfm7aLhVo72n7dGwKof4nG7aoZm\n",
              "Zx2jkjWB62DUUDM7kfQFXAAAAVVBm+BJqEFsmUwIT//98QAbAfeGxABvq5y/LAxYn8hIRYl14XGz\n",
              "ZZmO4uO9QdpyVX+wZodUYgr6SAMys1+UlrfLMxUDFBrULYLLmaV/Kpy0gcq/fhBrPCPEzZus5Rvk\n",
              "tz6Y8QM8nCFjmXFtPvufZKWX6YSGLw2fmm/ioPvGQrbusTgI0YVyBgbAoYr3SgmCXI7t1rK7jiaK\n",
              "+/ZhNhlZIybTWA2nN54Z91Yk9FQhb38gJV3V1vX7KUjQUS3zEkRPcxCpa5g2fhlExFcJNkjXOt2W\n",
              "iN7x12hE9FQonYVBevLr35YMa5U7Ul7NecfYS7hwqGfk2l7tgGyERbtqPy7UGfUnJx/5d3kdR25U\n",
              "5OrJCA7EimEHhcVj9sib0rWwRxAfE6wCsBYVsYB5x+4I5RNEgnW4AI+85eVndeZ3cLDyLkRQbRhW\n",
              "53ZBPgKLf40Q0x1mEvwDBG2RsQAAAH9Bnh5FFSxvAcgNH5rWAAEWPgy8GzrV/SaXV39uprVDu3mb\n",
              "X4y7p9sw0qUx6a4roMgDXT6/2OL9E+76Xq1GanrhWd6dqD4rzzeEBCzIl1S3QWezlnb4CDuIuPU+\n",
              "3V0/o4+4TzHr1vPRyQVj8FmwwIlyv92luasxoPVrMzW3gH+BAAAARAGePXRF/wIzmPUQAfTy0JfA\n",
              "RwWL6UctXCSIcQU99u50cZ0lsMfAQiGI9c+w4ENPNDH6TjXq/+G2CGrNW+ItOikk4BHwAAAATgGe\n",
              "P2pF/wEeYlYAVILcuyAD5uf4ReSIBP7NGlDDMZzPnoy16n6+UXgZAkjtU75VG/2qvKgXYFEsJ4CZ\n",
              "7DwA4AyGnu2vo1fgrKQhoOwyoQAAAcZBmiRJqEFsmUwIT//98QAbDS+8HiTiAB2M1YvoWzDNzVo8\n",
              "MXSP5nVxynfe/Aq60sUw7waDchiLegGN2d9PK2QZDzOanMs+dfGfxpNew4VzogOe2scegT3WlE9Y\n",
              "y/73dHnx+/DKQ1ctUoAsAV5ijfJxXWduVc3EXHbxZ+PRzNA2athhjbzvACzgn4wwUPqzaflDRskh\n",
              "WDH+URdWYyGANPPd1RQWsbOIQ26AAXhlP40zrbWCnqxlPf+6eMTRaKuwz9zh65KL11Bz/3kJvCUD\n",
              "FsEJp85dqijjPyVgHgqSDng7d9VNxC2vzYC2YxjQIzjr8OfxWjc6ws2hHvjMi8Es3/1NxnkPaEOh\n",
              "tx9ovw5Wbg3qMLaDdqdf5qnx/DLF+VP7E7l5cowZiPKUTyFN9mAlC+2kTb+eBVXOUuSKniWuqH9e\n",
              "SCoVj/i1kwti72tdBNkHAUhpL6rEom9sMZv9D2cvk3hYTgEN3K1+OWNE586wNdnZQjWnZMU7aCKO\n",
              "z9gJ5L5g9bY/5vU1FXRAt36kadRcFryEQSG97CsrzpDYfDqB7S5CJDtHH5LZoSXG6taaNdy1vUUr\n",
              "E3UnB0QS/6hU95QEon7Uo9JinP4nAAAAu0GeQkUVLG8ByA7po2RgAlXj9oG0u0FT90b3UVflOkiP\n",
              "ppc5D9DpWCaJyLeKEaH6wx02CBHcpFTXx6krX9JH69aWR7vViiK58jZX4NFpSTJI/UqAspWOEZge\n",
              "I4Yvu6685DT/cf65YqS//KVBO/H16qos6k6+w0jY0DeM3PtLVJsvQL732cNRCJ++sq6QapLhxkD/\n",
              "1kevCBfGHNwRU4iXJHaC4L05k37NZQNYAFs38DZ3kKecvNqsKiawGL0AAABPAZ5hdEX/ASWmQy4A\n",
              "Fr6C7AQQkQW78QRW8/1GsgXFN67T9Gb6odGvz3DH+E6mWMc5fhh37eJAp0E44eUM67+HDtl4iRDo\n",
              "Wa8fUBModiCygQAAAFsBnmNqRf8CSI1VQAH5i/EE9QaRqlIaz1Ab+7WqCmZdUR5nTcv8UIkeeL5v\n",
              "y/Vz7gwf0a13kKzqVJNbN76YaVlj4YUKbufkKtTKG3kt+qxXz7q6R5yf6bgNvCyoAAABqUGaaEmo\n",
              "QWyZTAhP//3xABsNL7xHDIegAKjnS50XzhQMULgSV0QSla/vq4Py/XVG54E7p6uh1OPTq6nHCDUw\n",
              "vgbPOBiwUTCc8q8sb1gzP39BcAm5fWdQbcAA5RRUGkdiHtwe9HuiAfubkJ7ix/HtSNfpjwlyU+fK\n",
              "c6lGJsLTKQ79ft8wlmtqKqN9MJrhYpmEEtIbi9QoBSTzLeBeOokPzzMm4c8qg+TVFGKzN+lWmqJR\n",
              "0uqC0ox87HtJhyR3nuUVgtTkaMhRs1bp6IzONk8qdB9aXeY4UbsJOLzE93tT9F4rxbOD2pdQ+Xso\n",
              "hPSzNkUhO20JCCw6Cmc/HUfqm1dQH1g05/ThU29hZqJfTVv/C01VcahGDIvIcJGQJq+HbS6JBmMh\n",
              "V7BeJkTtBPEVeVNMtF2IDHmV30R+icMo14WWir25wiGxzk9LSOgNJ1QfkS7NSrX9g/zJCdxhJ9g3\n",
              "BLp0USj/TLe88J++0utTNTrkwFxOwpS8qtzAkopzT38VWWq+x6Yg/gjIVzZliZi5FMu0n4lmiQ2C\n",
              "q2JBoKS4FLj0tBZR+Znnw5YjuTVJAAAAjEGehkUVLG8ByA76crcgAWx2y5Zk7LNQCz0HsLOdkke6\n",
              "3IhN3Wjk0mX3GO71fDn8EyIygbrDv/RhvUzXba00/yf12m4CPariLCrZgRkpOxgj4oUtULHmxCJv\n",
              "xsy++oPtJA+xgkqp+8AikmmkeHvfN/NVrdEtSf1YSdy0v6uF7AXLq36wD5V/R8CZYSHxAAAASwGe\n",
              "pXRF/wR4f5d1cAH4w5sdlnIoKU53riq8iMUiv/o29vTY6imdzC+ZpfeonujcN12eEcLABiJE5SOF\n",
              "FCKAoA4JSZWsqATAv8AKaAAAAGsBnqdqRf8EdXc7nwAThm5zW9i3lz9UG9XJPspVIP5VjUFPQqSY\n",
              "+z9pzPvSLr1FlnaQ8ZMRk3FBb3XCgYEpm6EZGlUqhOP+UNZUdw/ubYzqj/0T1wQCo7YjIfMs00Dg\n",
              "egfMEeqTh1Rsbk/0gQAAAd9BmqxJqEFsmUwIT//98QAa3IPuvI/BwAhNdQefeZdSI9NqmlaQaiDd\n",
              "czyu7sej1eQIoNa5fVE80VJg0fae6o8P7hlskmGYyoyljDQDPWSKuVEhY71Mfzne5XQfzI5+zZHY\n",
              "yRXDFeDXzhcRhhPe5qJ1/lxySjdEJAvd2HmhDm3Bl/ESJKYC+bpIvDljzF9PuFMFE+yFYxbRiMWR\n",
              "848qhR5UuGHhuX/U+yyc7Fy7LQrJ1mRppzMYQUX7C3TwfH1iubLVGQ7Rxw5a11aMGHaojvJa0j/S\n",
              "EFAA/ODZqpwSm9HWRKF72QPVdZO5nRbdox9lv9yA3QXNf/2/4+6/3QmGiEONMmUFFBjzE+MMK364\n",
              "lEY7VR9zMReNUVCVMOJ2U7n4/Z6cSvggsmEVz6KHpM44ikzLYltOyCjcL3YlEbfrQwobqE7z6U8a\n",
              "Z+wkXtDXVE4J4b/HwZ9OIKdVroWaI4RraeiQHdgMI4Gg0u5VgFM6l1rOpzCpYoJe9CeS4XZG0OG6\n",
              "pBycTDhofd4D62kHcvCDB6QEbChePh6+3whnjmtiLvg/EAzIYfDc/5LaEWR7KikVhMo4mR0G4zSr\n",
              "a9iei617YHKDxkAy8JA+PjcBKcBxJq2JmgiHT9INrGaDEbW/ZgiTgAAAAHdBnspFFSxvAcv2647C\n",
              "BBlSgIbAngAMu8ZE9+YD+MqlMgSi0nhZr7eLEMFgH/Luxgg2Iad8eNqJbxMLX+P6dKvTg6EWskXU\n",
              "ECOtsrYxI9t5Mi/c3oLZT6HqghatnfJEWJ/RcziKEtjjTfmesr6B2qldUifW07eLgQAAAFoBnul0\n",
              "Rf8BIhCOKOZa0gAD8kpUgKtojG/kuzGNGssxl4kZU3Veu60C6m8ZpzwpWc+javxjfhbLXt0GCmrR\n",
              "Kz7NZxlWoy1tuCOuQP38uFQYhSdTz4Eg5BEAnYEAAABWAZ7rakX/ASIQh5Ty1zCybJyRAATWbWzR\n",
              "tHlvxO+/g0r+0o92cN2fM52ja0LGcdfnPfzUQI7CEE3i9gMEQO/hq3ObmC5GLH5D4RjCNZPC81OP\n",
              "ZK62pIEAAAIHQZrwSahBbJlMCE///fEAGtzTouVo8AHBWgsaWEfJhyuGsuNnlGqeXfrLse8048fu\n",
              "xfUsMWUIcmTPBWnSAc6q0L5wFQMk+42EmYzW16ahiczR4zeyGo/5p6MBebaaKFazZJ+kp0LgAAwN\n",
              "SpjMnYYgssJ5WOGIqhDtO9rwT+WDPlOFT4//vQgKWhCLUf79ZaDYSTsdOvVqx9qWRgVYX9pvAO2V\n",
              "2yrBcRvaZuO211mu9rVhgIamRPzyMWrZPKWhHyqO1Rp76cXR687IWY6/ZkfQrqL2QGPCqv4a6yO5\n",
              "ZbwRbTcPdVdHT6upiy7+KFqu3L6xDmJU3ZXQwHQUnXM7YGIzdFSgp3I7UncjvNDb98u8wQZt0CjF\n",
              "CvKrPUIBlyMImqQRB0procG/h2JvsQraZynixNCSZAIjoackLqTYMpDClSU9loWlNB3GFndY8QZ6\n",
              "TJeIUxMZjeiCHneGLs5WJrPPj4y98w7I5vS1tKIm6tOpPdvOQP5uxEflIu9UsyKq/NEDBm4FAjX+\n",
              "TwQWuvkotPqu44PwDhX3Xj3YGudpHiPgCOp5tKLnfzd8CrMy7w7yf1qprdRCnNxsH1j9lwrZ88nt\n",
              "TaAEeN6eALLKk02N31zTcR/k22p0Urhqybce6U/asQctEzX1Jj5usXxbcoUgTvd5qgAFZdHlfKoa\n",
              "0cH0BC0N7kTKrGegSVdxAAAAw0GfDkUVLG8By1rnqcYQoRqtNY1OEhtt5wAtpojUWctuJ88rhVW4\n",
              "infleABWLHAHVan3f3tpnQAzvk5v0spgnIY/aw+/Abps0kcjfMo9WEGdYGp2VvRk9IqSmMFGXZKD\n",
              "qA/PHOdq014zj5Rpmgucc3HUfJJsmtKvb/+KaebT9ZR93D9+xpmRn4W2GEq0j3nq51FTXzEc6tQp\n",
              "pwPI/IcwtgFylwlEQAYrJbw7Ccads38RpAQtYIES5f4+5Hi9JC1jlZW7oAAAAEgBny10Rf8CTXrg\n",
              "ASeuiT+lm1oZUHkslBzYyn51MzSwXhiDNr4HwPW1IVD2a9T4v5Lm9Css+gLrcZ0nY11ltjsI6auN\n",
              "VFAADegAAABFAZ8vakX/ASX0Ody2ejD+b7yKwFNM3p7rUn7hW9iqmveVn/aIAPKkrY9F3UfLAWVV\n",
              "uIrHGcCh6fHWE9Nv6ms10Q9SACyhAAABc0GbNEmoQWyZTAhP//3xABsBSxUGgAdjHub25wWk8dJX\n",
              "jxPgTQ6XrcrXcDaInQT+JoKLKrDAjCoyuvRPYi/A2FQq7ut1nRRY88l2ix0/ljh8/NYxrzr0YZ4c\n",
              "GTTHBJfe23f5PEz4LNqiqKVcuJbf1ohUbl/HXNy6b1mcYr0pqy3Dz6XR/5L9Ri5erqv5UBdleM1l\n",
              "eL3ZoCkrUcyCvMjvACMmKYdt6csEhmNcYx2/rHnTAzaD0M2cyvyQDh/xccebuTtRmvpbUtYyauuJ\n",
              "tSL4JUEqkOiYjubS4DQTm3kxhBVCVup8u2mmcQQFSGXXvo8xWfP7qJubP5C11hfhdLL7WoLuWwox\n",
              "tKRYmuNvmnI7GgzaXBHwp1rEQbTFvtd2h+hFewfi7hh13+nYi/jwu5ZNT63dvZLX5iy0TbwiTd9f\n",
              "QeR+iWDL2/oyMODp7okqisNCV4cjOYdrQQP8i+1cVzOpzK0+FGFoNkUvPoE7PMduSwqZtHVbAAAA\n",
              "gkGfUkUVLG8BzD39n/QAtmSyLjpvQ3X8pVOLsKLtui9rNYA9KrOVqqk+FuS9JzCJO7RLHkjEH8D1\n",
              "MmhwyFEeySdH5//mxR6+XeZGIq7d/ImzZrIl1/Ap5j1/PAlrmdJp5mn1RwtYdxLK95yiSO+2d8wD\n",
              "aylLaNA+i64RtQINpR60pd0AAABJAZ9xdEX/ASIQkOnSzTEAHzYPqWziuW9EPLiQS5e9y1JBoZb3\n",
              "AdMOelIu4ZbBKvlr54tRAL+NO+rFoisFqTKAPJqH651YxADpgQAAAE8Bn3NqRf8BHmJXA30EPD/g\n",
              "AqB0fKWYeLjPr6PRuVfdJ/NM7xSOVRbeC6t3nBN/3FHQXazIfgoJwOrY2+1V5iZIcSV2JD5nWFvO\n",
              "AMImAGFBAAACM0GbeEmoQWyZTAhP//3xABrdrbzk9AAvmbh3P3PNST37wN6ZCtYfCX+/nAFsxA/p\n",
              "mADTGtt3oy7kVS7q7ucvBGyn+geBRyck98pA4d2hEHKrSbA3+qM4UBZE/D1dse4mGZEYvg6jHfrQ\n",
              "yDA0WkJmUXdUQoXq+sae+4z3dVlhjHyP2+yS4+muQkAMN8Hik0cDHJ+h3map3a4O4aVGIdOidFCu\n",
              "gPaYvjw5Ys0NN2aQR64G2En8aOLqkzHb9tHFler7MPGZj+U01WEzL9uH/gMKI1h2hJja5c+QviTw\n",
              "ZJlXbLA3n0Sk0s2pSL4PNWi6FEbXUoPKRquugF3XtZnJUh3o72O3NTbi3syH+y4hGTRBuILxepHQ\n",
              "bcT6BL94wHdWi74RbFFr/LlvKWfV10sBHzr2pE0RcvihXmCvkb2lz704/kAs/m/x2Od7dP/1t40k\n",
              "5p4EeqjGs0lZMUc6c9zTs4q6gPVwc0rlZbH6y3jt7mYnYgnsu7UtwFExxkDWTXIy2OIUs8zGCUz3\n",
              "qT0EUoLkd/aBj3OtiX70sNQq/AJP2bwoXekGFOOJXnOgzpj6gxUPftXkTV5g7/Z4dO16I7ridz1W\n",
              "We42I9Oqi8V4SARoSBVuJPmhaEalTH+E+EbdFuSNk7/8IkucW2jGlLDWfcRAzgu3Emt8FYQ6V1Og\n",
              "2BQZWI0L7dFprAspdh/Lhm7VII2r2K6DQ7FVQ19ijgJinyBFOC1fuLf4il3xrSIML+ktLFFHRm6X\n",
              "P+GlAAAAi0GflkUVLG8Bz8uQANvzaeSq/u8M/WBKqiBaQiRLBrefH8UBs1wdLKQaFg/K0rUQUcc6\n",
              "VotYoaV02uLToQcRuV1zvbUCI6S70Apt/n8ZKvpOQImNWZrfFYuy0ZA4t/Kz0fFChaUglXq4cB7d\n",
              "6fnk4jZKdNxOgq6ibrGUKF6xFRC4sh47fDQ9FhEjOf4AAABbAZ+1dEX/Ajw/yZNQaLyaHjMk4AJP\n",
              "WxIn+OIBBqrzJvn4MoM+EpJb5pj6/S2vb72iNdEK4+A5rVmW06KwCZ1d/NxXZUxIydDytYWZTKu4\n",
              "4ePDhD/jtUre0hhMwAAAAGABn7dqRf8BHakRYAPjwQqUXMaqcOP5R5WTgZRSfuqJ0vPxacDE5bHw\n",
              "qveVIuWFDYWUDrB/HRsqzaDxUAsdgN6HmdUxDKMHiXks3o4l8HXERtn8uzSIu9lLzLNTY3rYD0kA\n",
              "AAIsQZu8SahBbJlMCE///fEAGw5iAAFykJiRZUgpQZVSnZ0R9tYqpP8JHIAMxYm7q8JKT50Ak3XN\n",
              "IaY23Uo4me6t7JPn+5y4AZnTz3z7A6AcwB2sV8YxTA3BbHV01+pRZe7gv8utGPPpi+itwNXSgzsp\n",
              "W1//5aRNR5T6vN2khrWa4KSmLGDJrbnUVlC8+BrOwoRyKYmr0MMecUDgx4ocC8nvwu+rL5XOsuh9\n",
              "ytDb+zcUzFNZdL2fTB9KsAKXq8Y46+jD5mn+uuBsRcW/JHX+UPq1x7wUrCPQZdzlLkuZ+a3K57kj\n",
              "5nEh1u75mHAFdlJ9+S9iXVRLO8wvky7p5F/oO+zOWFv/3kkCnxCFjhulrt1ShKSF6dA0rN+N67uS\n",
              "a5r8/FnuKphllmTQQXeeBfvUe7n1q8+PKpefWy7+GN3vmo3tP7HmJmJfT3nL8sLg9K+zIs3Am3Op\n",
              "daueX2w8tpUd4t1PBsFdimTlNLijGmmvuHGwc/EH2eRK3j0ARTsjUA6MkYf3iKmfcvHVAmpPzuDZ\n",
              "qlXgaT49RZyAdFrNzxaSgFDls3/GQL01AF7/7orDNt0sTtZNsEfquA3T3Swm1atkkAamZHh4Tx+X\n",
              "3CQyyeg/s4uhGzA6Y6TZgJOF1BwcNMP8h+Yd2ZOCKprdhu7zcn5dyHf43dwHNJ7Ks7o0jeTjf6ti\n",
              "9oHl3NjDA0MuuVMLzo6ETmrKRWi1b2DdOCL4gEAkl5CjdbTCDI+r1pMZffawHAAAAItBn9pFFSxv\n",
              "AcxtdMgAW2Sh59nZMA1dggwz9aoTd6N0RdVV6pxKE9PVl0+ztq2MKr+WXj+II1vNpbZlEUvBIRj9\n",
              "2N2WS0DT88ly+iYW6laMBV2LkHqdWT5JVWEcX3tmEJd6Z4MLlkJDjqByz6ZC4l08nO3WwgoGx+0U\n",
              "M+8XTN1Ew16Yg7JiytfI9+OAAAAAMAGf+XRF/wJKSjwO6b6YKTudFy4U0fhAhPa9RDFFw9hQCArl\n",
              "QguK2SptniR1RRYBQwAAAFwBn/tqRf8BJmJW/x15hFo4AG7AI/W8dde0+oirgIdVJvM6Op3MHcgH\n",
              "c+f4dHn7VFD1OzlzIXbVoaNEKU76TIhF9dxOuqGzoS6qy1/e+sAaPqXID0qvVUQDbAAfkAAAAZBB\n",
              "m+BJqEFsmUwIT//98QAa4peTcydW+4CzLCAKBl/h8i0Li7tjvLRgD+AI26EIGDbQ1Ujskg8LNzwp\n",
              "DwY5uIScgmqcZn4TL6Ljntvk7sGGVYM3f/FwC3c1hDR2bp7BZ5TK+H2GpjWscx1G/262uusmmGXj\n",
              "um/yMIpFyzlS0yumh/Mw8wXeT7bdOXzg8vKYagZu+8hRaG1k99wd/Wc6gK+t09Edhe/1ksMVmYh5\n",
              "yea66kRbHr/O4Dt6Nu6AoG00QPcKSS/vXRUwWBsUzMbtj3qKPkhjfSXdERdCRluvNZCqdCbyLmsg\n",
              "iUv5x5XOFw19gLjyAhlmp/36Cdd3vGcAcrhDA5qBhPK0XQgcCwxbTHPU0EEIkTGDvAL94nYSDAB1\n",
              "1BXthfPYOnSBTAuWGSvxEXQOQLcqg2iga6PfpyatoZgjt2PZngui8CHAXQQ+wOug/CZH1G3ey8d8\n",
              "N3BU/3y6uIHy3xMCnAos+b6TAB+Z/cca9VZf3yTqb9aBHmKE1uOtSUBOF388RcN7VcxjDDIocRGx\n",
              "AAAAZEGeHkUVLG8BzY59aWNpbdOPJn4/raxxBQD60OUUcVnGEefpPYHlQvN71NALTR49411lwAA9\n",
              "RD+UyNdZ+uaQS+vubmCG9Frhi4XHv0KeujCst+sfCjfJM8EBv36ovZjTVRDDguEAAABEAZ49dEX/\n",
              "ASW4W6O3/iOuwAAty3rylTedIGMO5eywM+ZW1843SooZEQx0xxe32KSBkhfYkA2yysaasPahPWBQ\n",
              "qT/CHTAAAABcAZ4/akX/ASW45UUmgACayHSCxzK4vyjL+WeJJzsBvV3McNPpdusW8aYjktnm3f9G\n",
              "4Dz+96S3g5UXFNotsuvotdw82NmIBL2IH+S9wOwNhY3cWG07gPkkqDIAmYEAAAHQQZokSahBbJlM\n",
              "CE///fEAGmH4SE6VhkAD65rkaw5phDjhrH45bqQUrICy5MD0VrmZlXuhHZzcvzHw6vvgCtMKpkAz\n",
              "UWCfUnNFgP53K0Cod+lLoPKsYbg1EPklhT4MmC14m01U/1tBXM6fZW0M9FH8NVxeidAvdkWyKgS3\n",
              "QWpp4ImC2xMypllyUzEYAGJx3Uv0nEu5Gpjw8koEOt0bgvIYFNR9Ki20w4BfccGHz+oigFhR3cb0\n",
              "RR3LxYxuOWcAgA8wFNamf1ZCyA8P+m/2fh4foUXJ9QbCAkT419x4QLutV0DmRGyRv7qZoSK5qPJC\n",
              "k3qqPqaBo/YEjY/u4kZKvPbDT71s6BNLBXmwDXm/k/3+B4y6HkJBSvaKg0qO6+0dB7FqcdydZmRh\n",
              "niWHQ/ksXRPyeFD8INt477B2JlM0aX6M9dmVcBsp862ShzXJ7t0szQT5mLtQAi/dkt0tbKm42zLM\n",
              "yAQB73pJdSM2Faj3w2sPqHv33kTk3OtVKJ2IcBsDl0RJjtt1utbvqmERv3/T1/Hdiy1ZXOmD7Oi6\n",
              "P55lN6Bzej0QA0NibfJ71LdDNNLg3DLxKkcmnqlBUmWyLiMV8k7Ja+byFqY24P4+HhvUCOlsB5wA\n",
              "AAB6QZ5CRRUsbwDoDmLkMP2txBXjA0QAsbuhSJEhGo69IzewsF1SAIrA6sEVQ1eqOmahLkCrOeuB\n",
              "fyHyg10vImOiO4hinnSCMNNDMDZuW2HYi4huIDEE/XaWJ13/7iZJPddFuRYwBi0zbH673q8mCXNJ\n",
              "fetXvTiF7BuzLukAAABQAZ5hdEX/Ajw/ylRR0RfMVoVdHsfOYxYbfIgAfJOgBIC8YV8duk5I//Y9\n",
              "55JkHgMOS+8idSEtC5xNWGHBeBdh14N9Rc0bUlaXDPbYk8AABQUAAABkAZ5jakX/AjkxcyIACawC\n",
              "PioEStnBnibsmLlPJn8S8Wru/PNiGrFybz4+AITz9ciaHb+2N0vK081CZuRRP7KnnstoTnIrEZau\n",
              "/epvkGte77i36LwPwHlznI+hRVDmHIAkDYApIAAAAixBmmhJqEFsmUwIT//98QAaYfeZzAAdlhDT\n",
              "ddfU4RNPIXkWQQve8slIfinoHL3I1Nk4fCK+Qx7qJOl2awS/sf0qwP3vQX4y1C54HWEqC0gM8wCn\n",
              "kgo5g670qprC9TAAgVW80pEa1BRqo/BSN/kJBIQxUbGTolvwZ2qup9D6aoEGAx48/QdUJY9kk3oD\n",
              "OyMkfYgEyFpiofSlEyn2TBbjWPUUAODghY9gh1YXS/bOG7O84/UkVU+pRAm/ORcBCd/PDanRTEi4\n",
              "J/PMskqLXM7xZe5TFULDCMtg9kc6aZeEn9z8v4yp+cXqVGejygf0ZUJOKLVLgpRndSRDEAlmRnqZ\n",
              "QQ6y0BmB8xDX91r4xYs3Z+qNm5XDQqkEQWjQ3jaMHcFPtPKKLn9xc8YAWZQsHabDK2weynJCMom9\n",
              "rY8D1fO2FX1lVrkGD/7LAEq8yVph3FPl/0viHU7Eu24s91NsDliZ/pyL+/L38K0/KmfMfFcmbxaS\n",
              "ML/uQJVjmDtMpE9ZrFlGNxbg9a2iG7bG0TzFbWiPAupEQz8bjR+4uV/fJgkzjES3d863wEucpnst\n",
              "0Tmm0MfjtGspso/FCiBua41ameUB9Aio+gJVbHpNyTFvLsRi6mdGTCDxfmzyOUsKTzp9zrUz+YW5\n",
              "9473J1RfS1REpBBH7i3K3P3t3K+wUOyQcyu9f9W2SqoAn4WaWDvbRNooUQxV7aW0f+aqBpIDwQdp\n",
              "LixjyTMfMF7rARJh/d1UyF3AAAAAh0GehkUVLG8BwZEuTOi6S7JgAJLwpKmw/L/Oj53rca0/pMh7\n",
              "pVJgUWkaoAKvih1tSqAn5o5Wh/32DLBDfh3Y1u50xJh4zgWT5WWrY+eSRmMgPBMcxIf0LJMycNHB\n",
              "VWX9ZHOrjqMJLaEmwcqyIovwYbbvABWDMxKhSnTP6Uk7N/ANxIQWGaCFgQAAAEsBnqV0Rf8BHbhZ\n",
              "UrVFr0KPIEhyUpl2DhKuR376Gydkav7JzCJSBHw8c+ABCpt9lIhxtPqBtZtW5cCQ9dsuoftlA64c\n",
              "lOh/aHAA+4AAAABWAZ6nakX/ASZiVX06AKZKgBJl1QRVapduBaN2bllsyYlp1puZlpYq+EoPQcuf\n",
              "u/Ed0cY18pqn5im0O/J0Z6ZXSYxNpvQwZoFvqWLuk+AqDmXtCzHEB3UAAAGTQZqsSahBbJlMCE//\n",
              "/fEAGmH3dc6/KFiDDYAI3dsAkePUSNfjLe806lY2QyZ9l7pz8rs7zQpZt8WLOnpcdirFBUZzyC3K\n",
              "0eh00hrhahP3+fOuZSZcmskYCIQX76OzaG+YvvkvteTiHow8GxxJ5iS250v7YPAt0ugrC61iLaff\n",
              "gtzKR8WSRJUWvtGPV7XP+PSw0SX2eVa0orHoSSt9aSUxsKWOqADGYubjVJolYPfle2dlupcPf16E\n",
              "pjio5vvE2jUgfHmEOZR3hPJ5DT/hUPHUxNLWrhYCjIaQQ1NlW9PXRaKrC51CO0xZtNGl3Jgx+Udf\n",
              "SX4kuLf3OLpByfsxT9/PjcG8IOCH5Xfp88DkhkejiYw6UDhynG4fYWjhFf+KrYuiIIWKdhW6gU/a\n",
              "p+zRkcE3/OwlJPlvmQxuFuZI8M634/qN7ajCqfWyWIF960WXtduGbYm9HplzAg7JNvcQDBKFuqia\n",
              "jmY6raw4J4ZJQSNELB/zLOr8Prjp+KOtmEPusHORPwrAVKDIRbqXD1B/HOWbnqh5DgAAAG9BnspF\n",
              "FSxvAcD27hmE5rgYx6l/l1S+8JcrxyNBOIpo9fTedEz/mSRmXaO1YSyVAC2vek3AnsH8NUsJAClp\n",
              "fm7+AlapBF1BMg7iyaSJnKxH3r+zZRAZ/6LJAL5C7htGnLZieJHDC2AVQlhzUDOgMoEAAABGAZ7p\n",
              "dEX/ASRwbSvBouUh5nqAGa+LuccdjoCFCmFrbxuFo5PpAh4RqWsBTT3uloh5IFr6Yv0KnrWNudZC\n",
              "EeHQdQyVZABCwQAAAFoBnutqRf8CPaJEAJdPRVKEVPBXhALQeg2sMUheG9aquX6Gd99/m1cWD5IP\n",
              "lK7MOeBfspm7f1mI9zGIli217xIcDsGLmkReU7J0KjgBmZJ87d94evruri8wAysAAAH1QZrwSahB\n",
              "bJlMCE///fEAGl9gAZ1ABKp4BnSjC0BhsrtxB6Uk51+baQ2ZPfu26uxJxEnXgFz/HNMTOqucBtgM\n",
              "z44+CRyS4UYu4fZAYNWreSur4TXNy/pcWLC6Op+W4uM+e+TRrjJaeqqz57XL+eU9AG/mmdPdNDjz\n",
              "w3G6uuJxqCLPqUEsFj9Ole4VjraK+KQmVrvi+YwdSZnV++XvrQODAV2oFQM2SHah22rY9jP1FHWh\n",
              "TGd1Uvsq9h9w2/xXyefE8L8Ilg6tgTxgwk5KVhCc74POp9M+xjpnz5H2Lsgf+8miZV+MeHfl9YJa\n",
              "kYgoZG90KbRtZaARv6egTe8jVOecAaMcpSeLmj3uyJrFTyc7kRA5kwUJIpG2rkBwUsW4zsBZ3ioJ\n",
              "fMr/Osc/GE8qxBVz1NFmfAsi6RkIB8XxAXWP1XcCI77JDuyH5P64qnGFzS2UsOmJu9p/UdQGPuSF\n",
              "+HS//7+aOF4PCbjufZk4erg1Bkr47bsTB9B/EbSiz88nDRKE6GFzpoCLRIdjqnIdIOcEiOhXO9Wm\n",
              "BdQxFBzSu1nkz2PHqz7OSQaISSfJsKrej1rTT/ViORK1bHAZO6ixzQ8waWPR87wBYdEFp/hY+Ze6\n",
              "Y13PyYTL3zIYgv/MVaLdRu1GzbpqOPW0ilAG3HDyIXZOQZtfiYDhAAAAbEGfDkUVLG8A6A8SkAEY\n",
              "A1p2iWO/vt/dmMSmpeq3gHdEx59LO0n3IWSHedqs5A1beU/A4E2RqKuVRM7AE9x6LArlkwMC2YM8\n",
              "suCRZCFwoc8vcJQtVj0r9qAGgQDE+lBwaSLRYhlIBDTAKI2HgQAAAEMBny10Rf8COYdf9EAHlkKQ\n",
              "Op5mSwt3e5JTvs+2mr++Qvy+/aJroNoMnOCbepx6Ad6UM4T6K28+XVAocPye6rmIABUwAAAATAGf\n",
              "L2pF/wEWYlcDfbF0zayzTbI4NHcDtPa4AXOY63zQkQs9gsK3HoJCO/UYUvZk1QAKfA9oG8UOaNgc\n",
              "hFPCFrKCdqWu4CkNrXMQHpEAAAGVQZs0SahBbJlMCE///fEAGkY7qAB+05UFiGX+3LHZWmuM9/y5\n",
              "3XN9ThFFDvqLosZkB+RFnKWvJYhkJdYslWesnDp3URVhCF1RSKZKi0PvvKZWQX+lpGWy012scvd3\n",
              "IW0RUW1KYk7DK9LWB0/jSRZwNn3oew0l+j5XGz08RPxd6UMNbkBoyLm+4NJScvdreoFdQ5k/zgDx\n",
              "DGtPuovjVYmYRW9BtTAci5QY7vCUExOYfgCs8tSICbBhp8PrEyrxfTeS3DFb5QNLRkDfZH3dpV9s\n",
              "nB/FwDafnfj/sdu/tnsTaTpRmr7S4ZPm1pfLOvVJXLWhWwpjVB4yXygoPOKtsRkZwxDmBBZrRIDy\n",
              "b22/hc3TKjPNaKyGSP24Fp0ACQ0O03WKqwfbK+ixWUd+Z7S80xxujKtnsOEqnRZ9GvKUJ+heh4FT\n",
              "0D3brseSlr7HTQbancNXbKGx3pA3ji7HlR68mWywYMWjg33rfFoGIxO57NPDzTxUu9GcZKW6h95b\n",
              "xQi5j/jv4lS9qsjWwzFBJ4VU/jhxOogZA7T4AAAAgEGfUkUVLG8BxPywAEqqTAUur850xb9O8QpJ\n",
              "TDfazWzyuT6RzuxrFneR2TVec/rla8NnrSaZNJVFwTKzEcDmscaoU+zK5Zl4mSQr3KRuS/K/xmLT\n",
              "6tBWRtA8QfqiJTZ6OgXLSI0hbyGh7b9Dh3ASaw7fWauHqlht/Aqzf1Ad8F3AAAAAVgGfcXRF/wEl\n",
              "uFmG4gAJQs+w0b2kw0nPXR6+lnkT+9OcT0Mzuxi6M1PwyHz0YEGoFNDV2KhZGRfnIcDQQAr5Yjhb\n",
              "ILPEcOEWSDcZe7UTT6hBg/QkoAtpAAAAUQGfc2pF/wEeYlwuABNJ1MxgSchPlELGTeYG4BngW5Ut\n",
              "0grKxVrW2BpP19fIs0k+xthRm6a8nvxplKHyAo0jsKyDLJVkAU/h/uzRqfDaMwAFbQAAAj9Bm3hJ\n",
              "qEFsmUwIT//98QAaUGZcGQAC58VC3Eu6lPrvTk/KUnUdeuJqL26tdK9rNeSIwBEwNMel/1rr5okZ\n",
              "YZvi5y4U+NWvLVorrGgX/nlreRz7suhTD2DmN8W/xg3VMsBHRNaLF982u32/M9vz9UlnY3Qw5oO6\n",
              "Z1zhh7e+q3Lrcyj30T3SsM0e/dYIO/xiz/WVWMiqOPgYdvNJAwaRu5V80hv4NiFto+ciau4F8whK\n",
              "rXC6oDnSY0FQwPGNs29NScjZvyDJUfA6ymn1v1ajIhD6a2LGbA0by98nmcBt/CV0ZxT6O//YqPtt\n",
              "8uH0nf+F8N4MHa52qIKuyp7F545/4firkXQOMq+yK8vwB+RFUu4Z2KETHTZp22Pe74bYY8wFTu1j\n",
              "rzl5ih1y29TsJNfcai12pQtbeFQyz/MJOj1uobFxPLWLESyWBn3d0S1mWIY/d7e0a5S41MCI1YAn\n",
              "7VGX5HmTSv3QkexpvpmEzjLWY8sfqcf4i/7J82UMSyh5X9xN8pE3I9N7N1IDx5sbEnfQF8IQbkkk\n",
              "SINxIaggvq1yeJtAckonCM1FYdbN8ixWJr3eK2mZIKamJm0olGSkD8vXEFqcUzd7y6JHmHg8qI8U\n",
              "0Bt5jitgUi5pW6QSh4yAi5Gj4e1Qf6fblmOuvFMGIKDNhhBbDK7xjBmx5cKJ+1DXjX55nQpPIQg6\n",
              "TcAVzy1YmPeG+71BhafiOlWq2+NikNTFcnaYgpWUMJEizIwE8aG2sE369hQSHRYgbf5IvQqJMNpZ\n",
              "vQAAAGRBn5ZFFSxvAOgOXaQmImurxilh+i1pVq3xSgH2a4z3zjyqiWf8LtmTd0lT6+4Dr4u4AWLB\n",
              "TjX9ZpzGWw2et87lnocx3TcMBn6q+4IZeScqibtgPrsl53a6IMno9SGtmVwJgQMWAAAAWQGftXRF\n",
              "/wEduMXwQAE1jQBKSyAb5x6N9n6jXheJ1LqhByu8jO3QW90rysy0SFrzAwHRHJXoXlIxX0ON7ndy\n",
              "3uN8E6wGHSBk74p1KnwSImfzunEP+p5L4BtQAAAAbQGft2pF/wI6vTmpX3/IgAJrGb9l8o8T7AX4\n",
              "wS9AiUXbwRgDYhsPd0tKPybCCbMiFtIad2ZrS5sMn/yvaaTOsPBiizmWJUXh47/CMc+16fENkly6\n",
              "2hkiCkPGxyxJKLnMTv5/ZIH7Y0osEE4ABlUAAAHsQZu8SahBbJlMCE///fEAGjzQ96bdFiWSTl2G\n",
              "NcACDFgXT77pgTIVprQa3FWNEmMrIoshlSYztTRtSt38e656wVibf1mGtEvgJGtIhYysoa62f90/\n",
              "MILouYLfQ6LsRiZ3P1P25CcMqvh2GBgWpv6kabyxC0qHwa/6XiqOw9SYc4BtPRPbZjzLO+R/OxwE\n",
              "F1uZ1vus7X3jSx8LDWSGVUrcGqWaRsmqED7/UV/NTe/2gy4zGGRj1lZdfa5/cG8jgZzkVY2V3ON+\n",
              "5kEj6j2BNgO1QLIqBNWa9iHumphr3RHiKo4Gz+3W/mY0gXNgw3arHhHocE4cSs/7+vdxccfurvzY\n",
              "QkFw60UBnJKaVmrkyMNVJ6zM9gyYFbVQHOPGsqEcR3PTdKbtkC2fHQ7ECCLWOADxrMsUCytcXyuX\n",
              "w6Gee/Dhwr/0c0G7YX1UiSpyuJsJC5VpHGF1Ct89jUzl9hbLCSBc0RB5OFHnqRBO2jd6NCRzgrL4\n",
              "z5s0ezp0K0m3rQCLQ1eXRMp1qxjpDkvbc0z8dKmdfG3jbP71ZkiTEY2y+1/+2PFxhqGzgki392F3\n",
              "vAaA+m9dSWwUvncm1vhgw06alsSxSdX0O5EeFzCDuVwbr4fc+YKCt2npI0+Bn3P5JeMW4lDTg33d\n",
              "/DShKXGZrOBAAAAAakGf2kUVLG8A6FShJsosmdqaH8W+esul+7RcLFTMeu9A/ifIaSOMlWiFew6W\n",
              "fIAZsKGWqeKI2i5fujY5qU78QAQrH2i2Mh2bCoGfbAEXLNHWfcMAfRMjUonx9FrRIgrK/SrfE0Br\n",
              "gcgAakAAAAA/AZ/5dEX/ASZf2vDQZEw86OHwLuJUCHudT/meoSad/o71OC4wzF+0gGWQBzpoyKKV\n",
              "K02IngsHnVCoTUsWAAi5AAAARQGf+2pF/wI6vTmpX19pW0AC0kuTmfkNHXwZUiFfFImseDjk9b7j\n",
              "miq+PxCGVvXdoUUiMbaR0aSBoaNaNGx7QupBQwB6QAAAAcFBm+BJqEFsmUwIT//98QAbAfhDq5X6\n",
              "4QAbjmncyHNLT6VagQrUdpZK9ME3v6A92c3/nqlSCI8F/xtsFK9xofecnTOcDd9fO6odhMPbHToK\n",
              "KB0XgatC3jNF6Hb5HJehkstyxHyepSqMspy/FY5eo3OeBPfTww2Tr+WQ1YCoI4/H+RbIwc9dtvqc\n",
              "CmOY0g8bqlCtIMV9b10v/vJ9xB1sU02/fcEtO7TBgxiBpOZJwF6r8FAEDuPk346jMZBubHD1UCro\n",
              "uPuvdOApXuFSVivmkovpLpxlgLEbiPncp7HgGHghx35KLZr66hoFLO6QqlZdPshYoxnfmQcmW9Q4\n",
              "cr9kvqqOsTtmkcPP8ppU+f/ze+wEz4mKt/IuiH0qkS8oqkTISz/x3Z88o3WvcNjHty50w1MlrVlQ\n",
              "LXOUIWUYjzArpYrbp84H0/SsaGgjevJhuDnAGpteZnqdP26w8OaYItLX1b7oWrcefOmpQRjvKDGA\n",
              "ibhC7kWs9CHf1RgaaHNNn2hmgWE8QC09Puud82ye7VzGfAzjU48vm4+z/xG9LdA4JEJAg7A+CC9s\n",
              "uMUzVhJAQNgLhNo+lYQD7W55MYgwDxTECpBxwQAAAGFBnh5FFSxvAcD27hmEnVcAIZHyMw70PzsM\n",
              "h9M02Jj2V3ItRxG8n1tJLPc1zOMm2MgkY6JFHABPglKjk3r7nSS99rOQSA/5bXXT80wNsLRFy5rN\n",
              "KcppPQmNYocd8i7ob4I3AAAAXAGePXRF/wJMP7Su5cWVqf2ZAAtpABFPvIwbR+YQES1SKSqfRPL6\n",
              "FCLO0Q7/9DTyBBAkP8X6R8QRMkpf8sC+BHalUxoIb5zovFw4bzyq/Hf3/GCIF4TgF5vFABWwAAAA\n",
              "YQGeP2pF/wJKvRbaGdEM7ABUDpq5OWNhnp0RrVfzpXlO/Bz3qudNnJSpLncTiWoKo+/NvT04Njhs\n",
              "eW+KJn/reuyN5++rASMu+g+KqjaHN5AKFsB0wA21IQgy8qmXRbjARMEAAAF+QZokSahBbJlMCE//\n",
              "/fEAGwH4RF2PVfAA62lIBh2ujaMqGUaqRWbN8zPjmsph9ATJ7JUthhf/X0RRpwTbMlnrF4jc/Zfs\n",
              "ctUsbtAKpkCtTetEV8vbSdePyeKMDSIUIyE6Cv2nyEP06Oh3B5w4YKee6TsWVjvvCLtvyJdgs0k8\n",
              "4fapVhDhoDKp8PfiIi2P+z/UTxH977IvkKgvcvs8PDuwNgNOPuwgS7dEgEKvnzypASYKgZiT2C73\n",
              "eExU2bc1z/TH0ql7xXFtO+MBh3mKWNsG5ZN8qavJ2x2y2hHY2V9PZM5sXVlkHIhH/ZlOdA54pKUS\n",
              "vBpXTxm/A4NgG4oK+K/FH9WXE2jYuwr4vzTYwbE2qw6Kg1FH2J4Bvxl1n3sdbBrOJSe78uyYs//3\n",
              "0kKLVZJUAnZdG2i4voX0Idl/66VBbnry9Fj+M4ZMkbJPy1wod2GY7oQDZSmKKqvtrTO0DaZVyq15\n",
              "p4NEEB5ipc1Nzz6EZJUtZKoJ/pmYecUjrnFx8AAAAG9BnkJFFSxvAcv2pFfk6aYAH5Iu8dZ2y8TZ\n",
              "ORQIXB7HJE3wvzOe1KxFlssoU+wtIB7QvvFCxUO0Zr928AKD34xZMU0WYALLkQ8VLOOGK9mlUN2O\n",
              "i2x9qVKF92GhRImXwHnf4+oBCAFgenQUJ6BgghcAAABOAZ5hdEX/AjmHUObVHA2wAVr+IUwczOx5\n",
              "877CDGnBMAmwmbO1sMfT22LMpCmnHXN72ovsltLNp+ryJYsd/gTm3IFNTu52DFLQkmuLCLKBAAAA\n",
              "WwGeY2pF/wElflwARQzNPy6UoZ5jVZnyofJqiL71813L9c1h7/urIwO7mHeYiE58H/QIqSZm3lzN\n",
              "coOqWwq+R7l4nyapO5ZxKqYZ9qKKsQbNBSCqMnOoUASN2XgAAAEvQZpoSahBbJlMCE///fEAGwH3\n",
              "i0gAVHmfOZ2P91owxtvuvxq3zwnKgjMqZWYabv/QmNh1TDCV3XsLERHrc5VE3mvDpJigzpDLdNiy\n",
              "5fLYo8LQ0L6Xl1pAltujGsWtEE2OayWspRJ/+yoZngzpg1Wt3A6aRFBFAEk1OtkFvvYz83666gSW\n",
              "ouIwrDx+f3w9Qx4s0Bi7h05I31/fxWZvEdBs49+sAoy+9wUB8xGiMQJixuR9/EtTkobmWI0ac3Rj\n",
              "7rGi5ZqxOo/UXiKt60v3rSQjIdubF0DkYNZ7BDkbe4TiZHdljNfq5z8o8KCMkLdCqgVuOctI2IlY\n",
              "ZnYvlSjcR+UyHdn3pPtJriYkvx4hB6B2KQbQIrDbYEMISMuqBPd0+cxIXhw9lIVjDO5HxzTpX2oc\n",
              "AAAAekGehkUVLG8BzJEsmK/1uAC1/sPSIN7lktwbCR8NEyF/k85zqBAFDOr4Vzb5BsmVfxhthddi\n",
              "lvxTUAiMDx1AQf4/tZZ9Y6WOZaoXjUQhfGtvYceqpevgFMk4KzE/NLtGiuL+PooSwEFmN66ESAXP\n",
              "DiRsovXidnsgPwYNAAAASAGepXRF/wElSYr7fABm4GgNNCjyeMKY2HvRKtzVKBIiifw3rTZvujFN\n",
              "QtEnmtPs8fldzZa0XmCbUHvvAYXioyjgs+Lt8IBnwAAAAGIBnqdqRf8BHmKL8kAJMytKEXX66ksa\n",
              "pEIbD6F9GirgF58rQlmAnNpFiMDWeEigR/CbKJxQ4PphGJ3EzeMx3i84S2E1iireGWG3hmvRMEvQ\n",
              "hhdK7pjI8ZoJgEDFNfqbneAO6QAAATJBmqxJqEFsmUwIT//98QAa4lP1AAGgUbNOSL0yxmIwxxOo\n",
              "zlO3cIKltVjdeOrwxBMQOw5IgHpJE/fMsrspOez6YDDxYqyRlL8tc/vCseZOElJFwTrj2K3HPqn6\n",
              "yOzgm9xZbbPVmGF8PmBHiym6wv+sXN+4rVZuc5XAZ2Fvs8mg0jkSIcmyiViWv//NusmP1Pi7jvl3\n",
              "aa6DG1uBmcoSLkWrAcFdwG3Aifj8Df5mUbBSgS6ZRDFxEmAf7voQeCCEGb84KTU4rf3SzWBzLaYM\n",
              "FDopPwO6Q125Cr2+Cjoptm8X6poGuL6kOPt4DBNpKNYchxcQNCaA+t0aNsRNzfQBKM8eqJ8PJgEO\n",
              "eTWQ7rRNeVkGJ0qRBw7U6W5sLK/DYZJ9bA0G8qH9vQTRGZY37QGSvzf7T4AAAABWQZ7KRRUsbwHL\n",
              "9qVyhyLQERTtMoNx8u8rOe2fKWlm5JvIrW5dkZGLQ1qOcAFwWVGaIxrCB28m6Su94nuMJBw0/Pch\n",
              "K4P9KdT/e19vhzI0P/Tym3WxoXEAAABfAZ7pdEX/ASUiHnjOgBV3noOeZRUT6pBBrVKeVkOm7QJ1\n",
              "cdMDDsFCE14gzgrjqeyzGQZpM7C3ALvyPmmJsp5QcqElvvzODc9Q187/hEG42Hr627+ZPQwUsEZu\n",
              "yUxZgXsAAABMAZ7rakX/AjYfTWiADWkFf9zjVuatEujCehxNYVdm/FpYq3TDEesaoRxVGVTixRG1\n",
              "9MP29+HmB9cXpnOh3YvTNhA7GMi38qkzJwBLwQAAATFBmvBJqEFsmUwIR//94QAq7EvRQAQzEoQw\n",
              "LoBDV3uUOZhpluqlDGlqMNpfpTG3Hk3zCd5rdKxooe/mtbOuh/dqv0dGb+oyeznPNkqjhYAAO3Po\n",
              "WEGGTvCQQDYszBL1ZwgB0n4Chsn3XJo+N47n5CI+5w3ZUZD50ih09bLIym/uezGNwG10y2qCBAhF\n",
              "1y/5K7U9y4My58WDh5iy0b5ac4HAQk2OO6YvGDUWIjdgIO5vK54QPCG9OLYGDOhMoGfjJLTniKXq\n",
              "t2jv6wQMPbs7exwAyK889u2PFs2RmbyAwvTYWatZoX6wM8gi63sLGPGC7aCl8i5ehQJHOzzy8KPy\n",
              "h5BR9YnDqIIHoRyAh/P5uUSBH7C3w83sVbgJ2rBOmeQ8TY92/Acm4xqxcP8h0aVGrmcocQAAAGFB\n",
              "nw5FFSxvAcyRK1x7gAA/KIUd0DQUk2JxOPFAIbB0C/ShYyK1/iLGtXhr4xzWJsbvnWvlAj2ewQWw\n",
              "A7Kiy95HM/o/seeVUMhg0o5lEly6Q7wAcbH3hL0mdNfARPQnqg5YAAAAVgGfLXRF/wI2w97pQAE1\n",
              "gEfJfJoAC5PudatbxU1q68AdDU/MsIfzmQcXMO0qLPhLUJVB79L3+rEZwerUxWu973Ji29i4QSVq\n",
              "b4XvFgYw11ZTW6hxsBNwAAAAPQGfL2pF/wEeYlaz+CcfcOCxPItJ2gpxeUPgPQNV9EeZ1AWHRuMP\n",
              "IuxkW4zNajlmHdZ/4ZRbyny/xLoA8IEAAAEkQZs0SahBbJlMCN/6WAFL6QAAFexOZBH1maJs+v+P\n",
              "7zC3M4vm8wus5OoInmte5W0k9yhyj2oeZQ0yeh+gfOxf/1P39a9oI9kRwN6RDlMhBBqcClNxESkU\n",
              "DkE0+ZgUSWNLbeA7NN1Cif/qL7VGYmhUEWdgqEETd5f6bJlvlNXPMW0jRsFqgCDSUUVPPHWG1/bJ\n",
              "XcV8JB826dek4XjL//ivzsOA0djQXbDUQIuujfU/T1LfWRtUC8+Bfz6ogR4lwOXwVJXdNa7GasRr\n",
              "2cgf+VmCJKkz+W9dvIEo2cPA0eOVyHTSZHKb6hubi8wLBpLZGdUs3MEx3xA2VRNkTkxwedTDWkLW\n",
              "efpPLYwzw5mq/vrunU/+dmZGopUwwqtW1YtyGr0HCt82YAAAAIpBn1JFFSxvA5jw+KR3ey5SgAH6\n",
              "4nRdlkiRU8w/8t+rfnCCBpekziQZXe77vPHXmj+13VXzfxSYdPlqMPFS/ZmTHOjXfqUYhyLQmT6t\n",
              "Xn7FovxaZ0GvdLskVAmFyomJJ5F7Xme8fj2KvF3/j0qTJ0b6+UarzHf/9a+15hC2HnDqIQMDdNYO\n",
              "/ovXhGAAAABXAZ9xdEX/Aixk7AAnGDXUooBGN1z8NyrI9rAARQc1/fqEeqH8f5W5DIQZIoj+fHSZ\n",
              "UFH0geyC1g+KArSwBc5e1nSlpH9gLCEGH2HRG/P+rMzERhkMAHjBAAAAYgGfc2pF/wSX0c1FVmIE\n",
              "gArXypMojkC7DIg4/fbI3tZ8ynij05Rf/ZMWWhZ9udaB3kHRyMytcl1XA/TXZEZ+JU1F8jLu+MFr\n",
              "AN4s6KIWfyx4a8gEoA6C1MzA6P9/mGJN4BixAAAAdEGbdUmoQWyZTAi/+lgCm8XVcK1DdACaONls\n",
              "qgluSYNECeAxLysuglufAde1zqyxnqf/BynTUlnqGlApUB9ZfSoQpZy6ozEYIY34vXgF48IHMCcc\n",
              "d6fSVjKTKqiaTDdg5fLrJ8/+auynLFpqIWqULS828TmzAAAV6W1vb3YAAABsbXZoZAAAAAAAAAAA\n",
              "AAAAAAAAA+gAAAfQAAEAAAEAAAAAAAAAAAAAAAABAAAAAAAAAAAAAAAAAAAAAQAAAAAAAAAAAAAA\n",
              "AAAAQAAAAAAAAAAAAAAAAAAAAAAAAAAAAAAAAAAAAAAAAAIAABUTdHJhawAAAFx0a2hkAAAAAwAA\n",
              "AAAAAAAAAAAAAQAAAAAAAAfQAAAAAAAAAAAAAAAAAAAAAAABAAAAAAAAAAAAAAAAAAAAAQAAAAAA\n",
              "AAAAAAAAAAAAQAAAAAGwAAABsAAAAAAAJGVkdHMAAAAcZWxzdAAAAAAAAAABAAAH0AAAAIAAAQAA\n",
              "AAAUi21kaWEAAAAgbWRoZAAAAAAAAAAAAAAAAAAAMgAAAGQAVcQAAAAAAC1oZGxyAAAAAAAAAAB2\n",
              "aWRlAAAAAAAAAAAAAAAAVmlkZW9IYW5kbGVyAAAAFDZtaW5mAAAAFHZtaGQAAAABAAAAAAAAAAAA\n",
              "AAAkZGluZgAAABxkcmVmAAAAAAAAAAEAAAAMdXJsIAAAAAEAABP2c3RibAAAALJzdHNkAAAAAAAA\n",
              "AAEAAACiYXZjMQAAAAAAAAABAAAAAAAAAAAAAAAAAAAAAAGwAbAASAAAAEgAAAAAAAAAAQAAAAAA\n",
              "AAAAAAAAAAAAAAAAAAAAAAAAAAAAAAAAAAAAABj//wAAADBhdmNDAWQAIP/hABdnZAAgrNlBsN6E\n",
              "AAADAAQAAAZAPGDGWAEABmjr48siwAAAABx1dWlka2hA8l8kT8W6OaUbzwMj8wAAAAAAAAAYc3R0\n",
              "cwAAAAAAAAABAAABkAAAAEAAAAAYc3RzcwAAAAAAAAACAAAAAQAAAPsAAAyIY3R0cwAAAAAAAAGP\n",
              "AAAAAQAAAIAAAAABAAABQAAAAAEAAACAAAAAAQAAAAAAAAABAAAAQAAAAAEAAAFAAAAAAQAAAIAA\n",
              "AAABAAAAAAAAAAEAAABAAAAAAQAAAUAAAAABAAAAgAAAAAEAAAAAAAAAAQAAAEAAAAABAAABQAAA\n",
              "AAEAAACAAAAAAQAAAAAAAAABAAAAQAAAAAEAAAFAAAAAAQAAAIAAAAABAAAAAAAAAAEAAABAAAAA\n",
              "AQAAAUAAAAABAAAAgAAAAAEAAAAAAAAAAQAAAEAAAAABAAABQAAAAAEAAACAAAAAAQAAAAAAAAAB\n",
              "AAAAQAAAAAEAAAFAAAAAAQAAAIAAAAABAAAAAAAAAAEAAABAAAAAAQAAAUAAAAABAAAAgAAAAAEA\n",
              "AAAAAAAAAQAAAEAAAAABAAABQAAAAAEAAACAAAAAAQAAAAAAAAABAAAAQAAAAAEAAAFAAAAAAQAA\n",
              "AIAAAAABAAAAAAAAAAEAAABAAAAAAQAAAUAAAAABAAAAgAAAAAEAAAAAAAAAAQAAAEAAAAABAAAB\n",
              "QAAAAAEAAACAAAAAAQAAAAAAAAABAAAAQAAAAAEAAAFAAAAAAQAAAIAAAAABAAAAAAAAAAEAAABA\n",
              "AAAAAQAAAUAAAAABAAAAgAAAAAEAAAAAAAAAAQAAAEAAAAABAAABQAAAAAEAAACAAAAAAQAAAAAA\n",
              "AAABAAAAQAAAAAEAAAFAAAAAAQAAAIAAAAABAAAAAAAAAAEAAABAAAAAAQAAAUAAAAABAAAAgAAA\n",
              "AAEAAAAAAAAAAQAAAEAAAAABAAABQAAAAAEAAACAAAAAAQAAAAAAAAABAAAAQAAAAAEAAAFAAAAA\n",
              "AQAAAIAAAAABAAAAAAAAAAEAAABAAAAAAQAAAUAAAAABAAAAgAAAAAEAAAAAAAAAAQAAAEAAAAAB\n",
              "AAABQAAAAAEAAACAAAAAAQAAAAAAAAABAAAAQAAAAAEAAAFAAAAAAQAAAIAAAAABAAAAAAAAAAEA\n",
              "AABAAAAAAQAAAUAAAAABAAAAgAAAAAEAAAAAAAAAAQAAAEAAAAABAAABQAAAAAEAAACAAAAAAQAA\n",
              "AAAAAAABAAAAQAAAAAEAAAFAAAAAAQAAAIAAAAABAAAAAAAAAAEAAABAAAAAAQAAAUAAAAABAAAA\n",
              "gAAAAAEAAAAAAAAAAQAAAEAAAAABAAABQAAAAAEAAACAAAAAAQAAAAAAAAABAAAAQAAAAAEAAAFA\n",
              "AAAAAQAAAIAAAAABAAAAAAAAAAEAAABAAAAAAQAAAUAAAAABAAAAgAAAAAEAAAAAAAAAAQAAAEAA\n",
              "AAABAAABQAAAAAEAAACAAAAAAQAAAAAAAAABAAAAQAAAAAEAAAFAAAAAAQAAAIAAAAABAAAAAAAA\n",
              "AAEAAABAAAAAAQAAAUAAAAABAAAAgAAAAAEAAAAAAAAAAQAAAEAAAAABAAABQAAAAAEAAACAAAAA\n",
              "AQAAAAAAAAABAAAAQAAAAAEAAAFAAAAAAQAAAIAAAAABAAAAAAAAAAEAAABAAAAAAQAAAUAAAAAB\n",
              "AAAAgAAAAAEAAAAAAAAAAQAAAEAAAAABAAABQAAAAAEAAACAAAAAAQAAAAAAAAABAAAAQAAAAAEA\n",
              "AAFAAAAAAQAAAIAAAAABAAAAAAAAAAEAAABAAAAAAQAAAUAAAAABAAAAgAAAAAEAAAAAAAAAAQAA\n",
              "AEAAAAABAAABQAAAAAEAAACAAAAAAQAAAAAAAAABAAAAQAAAAAEAAAFAAAAAAQAAAIAAAAABAAAA\n",
              "AAAAAAEAAABAAAAAAQAAAUAAAAABAAAAgAAAAAEAAAAAAAAAAQAAAEAAAAABAAABQAAAAAEAAACA\n",
              "AAAAAQAAAAAAAAABAAAAQAAAAAEAAAFAAAAAAQAAAIAAAAABAAAAAAAAAAEAAABAAAAAAQAAAUAA\n",
              "AAABAAAAgAAAAAEAAAAAAAAAAQAAAEAAAAABAAABQAAAAAEAAACAAAAAAQAAAAAAAAABAAAAQAAA\n",
              "AAEAAAFAAAAAAQAAAIAAAAABAAAAAAAAAAEAAABAAAAAAQAAAUAAAAABAAAAgAAAAAEAAAAAAAAA\n",
              "AQAAAEAAAAABAAABQAAAAAEAAACAAAAAAQAAAAAAAAABAAAAQAAAAAEAAAFAAAAAAQAAAIAAAAAB\n",
              "AAAAAAAAAAEAAABAAAAAAQAAAUAAAAABAAAAgAAAAAEAAAAAAAAAAQAAAEAAAAABAAABQAAAAAEA\n",
              "AACAAAAAAQAAAAAAAAABAAAAQAAAAAEAAAFAAAAAAQAAAIAAAAABAAAAAAAAAAEAAABAAAAAAQAA\n",
              "AUAAAAABAAAAgAAAAAEAAAAAAAAAAQAAAEAAAAABAAABQAAAAAEAAACAAAAAAQAAAAAAAAABAAAA\n",
              "QAAAAAEAAAFAAAAAAQAAAIAAAAABAAAAAAAAAAEAAABAAAAAAQAAAUAAAAABAAAAgAAAAAEAAAAA\n",
              "AAAAAQAAAEAAAAABAAABQAAAAAEAAACAAAAAAQAAAAAAAAABAAAAQAAAAAEAAAFAAAAAAQAAAIAA\n",
              "AAABAAAAAAAAAAEAAABAAAAAAQAAAUAAAAABAAAAgAAAAAEAAAAAAAAAAQAAAEAAAAABAAABQAAA\n",
              "AAEAAACAAAAAAQAAAAAAAAABAAAAQAAAAAEAAAFAAAAAAQAAAIAAAAABAAAAAAAAAAEAAABAAAAA\n",
              "AgAAAIAAAAABAAABQAAAAAEAAACAAAAAAQAAAAAAAAABAAAAQAAAAAEAAAFAAAAAAQAAAIAAAAAB\n",
              "AAAAAAAAAAEAAABAAAAAAQAAAUAAAAABAAAAgAAAAAEAAAAAAAAAAQAAAEAAAAABAAABQAAAAAEA\n",
              "AACAAAAAAQAAAAAAAAABAAAAQAAAAAEAAAFAAAAAAQAAAIAAAAABAAAAAAAAAAEAAABAAAAAAQAA\n",
              "AUAAAAABAAAAgAAAAAEAAAAAAAAAAQAAAEAAAAABAAABQAAAAAEAAACAAAAAAQAAAAAAAAABAAAA\n",
              "QAAAAAEAAAFAAAAAAQAAAIAAAAABAAAAAAAAAAEAAABAAAAAAQAAAUAAAAABAAAAgAAAAAEAAAAA\n",
              "AAAAAQAAAEAAAAABAAABQAAAAAEAAACAAAAAAQAAAAAAAAABAAAAQAAAAAEAAAFAAAAAAQAAAIAA\n",
              "AAABAAAAAAAAAAEAAABAAAAAAQAAAUAAAAABAAAAgAAAAAEAAAAAAAAAAQAAAEAAAAABAAABQAAA\n",
              "AAEAAACAAAAAAQAAAAAAAAABAAAAQAAAAAEAAAFAAAAAAQAAAIAAAAABAAAAAAAAAAEAAABAAAAA\n",
              "AQAAAUAAAAABAAAAgAAAAAEAAAAAAAAAAQAAAEAAAAABAAABQAAAAAEAAACAAAAAAQAAAAAAAAAB\n",
              "AAAAQAAAAAEAAAFAAAAAAQAAAIAAAAABAAAAAAAAAAEAAABAAAAAAQAAAUAAAAABAAAAgAAAAAEA\n",
              "AAAAAAAAAQAAAEAAAAABAAABQAAAAAEAAACAAAAAAQAAAAAAAAABAAAAQAAAAAEAAAFAAAAAAQAA\n",
              "AIAAAAABAAAAAAAAAAEAAABAAAAAAQAAAUAAAAABAAAAgAAAAAEAAAAAAAAAAQAAAEAAAAABAAAB\n",
              "QAAAAAEAAACAAAAAAQAAAAAAAAABAAAAQAAAAAEAAAFAAAAAAQAAAIAAAAABAAAAAAAAAAEAAABA\n",
              "AAAAAQAAAUAAAAABAAAAgAAAAAEAAAAAAAAAAQAAAEAAAAABAAABQAAAAAEAAACAAAAAAQAAAAAA\n",
              "AAABAAAAQAAAAAEAAAFAAAAAAQAAAIAAAAABAAAAAAAAAAEAAABAAAAAAQAAAUAAAAABAAAAgAAA\n",
              "AAEAAAAAAAAAAQAAAEAAAAABAAABQAAAAAEAAACAAAAAAQAAAAAAAAABAAAAQAAAAAEAAAFAAAAA\n",
              "AQAAAIAAAAABAAAAAAAAAAEAAABAAAAAAQAAAUAAAAABAAAAgAAAAAEAAAAAAAAAAQAAAEAAAAAB\n",
              "AAABQAAAAAEAAACAAAAAAQAAAAAAAAABAAAAQAAAAAEAAAFAAAAAAQAAAIAAAAABAAAAAAAAAAEA\n",
              "AABAAAAAAQAAAUAAAAABAAAAgAAAAAEAAAAAAAAAAQAAAEAAAAABAAABQAAAAAEAAACAAAAAAQAA\n",
              "AAAAAAABAAAAQAAAAAEAAAFAAAAAAQAAAIAAAAABAAAAAAAAAAEAAABAAAAAAQAAAUAAAAABAAAA\n",
              "gAAAAAEAAAAAAAAAAQAAAEAAAAABAAABQAAAAAEAAACAAAAAAQAAAAAAAAABAAAAQAAAAAEAAACA\n",
              "AAAAHHN0c2MAAAAAAAAAAQAAAAEAAAGQAAAAAQAABlRzdHN6AAAAAAAAAAAAAAGQAAAXJQAAAZUA\n",
              "AAB9AAAAQgAAAD0AAAHrAAAAgAAAAFQAAABdAAABSwAAAGAAAABUAAAARgAAAboAAAB2AAAAOQAA\n",
              "AD0AAAGhAAAAaQAAAF4AAABcAAABaAAAAHAAAAA+AAAAOwAAAZcAAABnAAAASwAAAFsAAAHOAAAA\n",
              "WgAAAFwAAABuAAABhAAAAHEAAABOAAAAQwAAAeEAAAByAAAATgAAAGgAAAF9AAAAbwAAAGAAAABX\n",
              "AAABoAAAAIMAAAAzAAAASQAAAWQAAABzAAAAXwAAAFoAAAGmAAAAeAAAAGEAAABfAAABSAAAAHQA\n",
              "AAA4AAAAVQAAAXsAAABDAAAAVAAAAFsAAAF1AAAAVAAAADkAAAA8AAABLwAAAFgAAABBAAAAUAAA\n",
              "AcwAAABMAAAAYgAAAEIAAAFcAAAAXAAAAEEAAABAAAABbAAAAHMAAABdAAAAWgAAAVcAAABnAAAA\n",
              "WQAAAFcAAAGvAAAAaQAAADsAAABMAAABhgAAAFMAAABcAAAASwAAATQAAABYAAAAQwAAAEIAAAE8\n",
              "AAAASAAAADkAAABMAAABnAAAAGIAAABWAAAAUQAAAWkAAABdAAAAQgAAAEsAAAGHAAAAZwAAAEEA\n",
              "AABaAAABGAAAAEsAAABXAAAATgAAAV0AAABTAAAALQAAADgAAAFBAAAAXQAAAE0AAABhAAABtQAA\n",
              "AKMAAABPAAAAVQAAAdQAAAB1AAAARQAAAEAAAAF2AAAAVAAAAFsAAABfAAABqgAAAFwAAABOAAAA\n",
              "RgAAAVUAAABcAAAAQQAAAFcAAAGjAAAAVgAAAFoAAABVAAABogAAAEgAAAA4AAAAQAAAARkAAABf\n",
              "AAAAUQAAAGMAAAFGAAAAQwAAAFYAAABMAAABtQAAAJYAAABAAAAAXwAAASoAAABIAAAATAAAAGIA\n",
              "AAF4AAAAYQAAADkAAAA5AAABUQAAAEwAAAA7AAAASwAAATsAAABOAAAAYwAAAFwAAAFKAAAAawAA\n",
              "AEYAAAA+AAABPQAAAFQAAABUAAAAUAAAAgkAAABwAAAAWAAAAEQAAAGkAAAAeQAAAEIAAABEAAAB\n",
              "dAAAAGMAAABiAAAAYwAAAbMAAAB6AAAAWAAAAFMAAAFUAAAAZAAAADsAAABEAAABagAAAFMAAABM\n",
              "AAAAWgAAAVsAAABaAAAARAAAAEAAAAGLAAAAagAAAD0AAABlAAABYgAAAHIAAABNAAAAWwAAAUIA\n",
              "AAB+AAAAOwAAAEAAAAHgAAAAdwAAADwAAABrAAABzwAAAJQAAABdAAAAegAAAaoAAAB/AAAARwAA\n",
              "AEwAAAFnAAAAcQAAAF4AAABQAAAAWQAAGF4AAAFyAAAAbQAAAFYAAABBAAABywAAAJIAAABsAAAA\n",
              "SQAAAUAAAABOAAAAUAAAAEgAAAG0AAAAYAAAAEwAAABVAAABrAAAAGsAAABMAAAAVQAAAXAAAAB1\n",
              "AAAASwAAAEYAAAHPAAAAaQAAAD0AAABPAAABcwAAAF8AAABUAAAASgAAAg8AAACKAAAAWwAAAFwA\n",
              "AAF9AAAAdwAAAGEAAABeAAACNAAAAIQAAABNAAAATAAAAdoAAABwAAAARwAAAE4AAAIaAAAAiQAA\n",
              "AFsAAABhAAABpQAAAIAAAABYAAAASgAAAYYAAACQAAAATAAAAEMAAAFZAAAAgwAAAEgAAABSAAAB\n",
              "ygAAAL8AAABTAAAAXwAAAa0AAACQAAAATwAAAG8AAAHjAAAAewAAAF4AAABaAAACCwAAAMcAAABM\n",
              "AAAASQAAAXcAAACGAAAATQAAAFMAAAI3AAAAjwAAAF8AAABkAAACMAAAAI8AAAA0AAAAYAAAAZQA\n",
              "AABoAAAASAAAAGAAAAHUAAAAfgAAAFQAAABoAAACMAAAAIsAAABPAAAAWgAAAZcAAABzAAAASgAA\n",
              "AF4AAAH5AAAAcAAAAEcAAABQAAABmQAAAIQAAABaAAAAVQAAAkMAAABoAAAAXQAAAHEAAAHwAAAA\n",
              "bgAAAEMAAABJAAABxQAAAGUAAABgAAAAZQAAAYIAAABzAAAAUgAAAF8AAAEzAAAAfgAAAEwAAABm\n",
              "AAABNgAAAFoAAABjAAAAUAAAATUAAABlAAAAWgAAAEEAAAEoAAAAjgAAAFsAAABmAAAAeAAAABRz\n",
              "dGNvAAAAAAAAAAEAAAAsAAAAYnVkdGEAAABabWV0YQAAAAAAAAAhaGRscgAAAAAAAAAAbWRpcmFw\n",
              "cGwAAAAAAAAAAAAAAAAtaWxzdAAAACWpdG9vAAAAHWRhdGEAAAABAAAAAExhdmY1Ny44My4xMDA=\n",
              "\">\n",
              "  Your browser does not support the video tag.\n",
              "</video>"
            ],
            "text/plain": [
              "<IPython.core.display.HTML object>"
            ]
          },
          "metadata": {
            "tags": []
          },
          "execution_count": 32
        }
      ]
    },
    {
      "cell_type": "markdown",
      "metadata": {
        "id": "GosbWwpUg_jF"
      },
      "source": [
        "## Animating NUTS\n",
        "Now rerun the animation providing the NUTS sampling method as the step argument."
      ]
    },
    {
      "cell_type": "code",
      "metadata": {
        "id": "xB0OsU4Dg_jG"
      },
      "source": [
        ""
      ],
      "execution_count": null,
      "outputs": []
    }
  ]
}